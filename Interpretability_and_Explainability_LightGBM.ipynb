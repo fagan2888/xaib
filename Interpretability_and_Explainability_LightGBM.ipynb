{
  "nbformat": 4,
  "nbformat_minor": 0,
  "metadata": {
    "anaconda-cloud": {},
    "kernelspec": {
      "display_name": "Python 3",
      "language": "python",
      "name": "python3"
    },
    "language_info": {
      "codemirror_mode": {
        "name": "ipython",
        "version": 3
      },
      "file_extension": ".py",
      "mimetype": "text/x-python",
      "name": "python",
      "nbconvert_exporter": "python",
      "pygments_lexer": "ipython3",
      "version": "3.7.4"
    },
    "colab": {
      "name": "Interpretability and Explainability LightGBM.ipynb",
      "provenance": []
    }
  },
  "cells": [
    {
      "cell_type": "markdown",
      "metadata": {
        "id": "kF53Ym5TpOF5",
        "colab_type": "text"
      },
      "source": [
        "# Interpretability and Explainability LightGBM\n"
      ]
    },
    {
      "cell_type": "markdown",
      "metadata": {
        "id": "zdwG_eXNHbCF",
        "colab_type": "text"
      },
      "source": [
        "## Monotonicity"
      ]
    },
    {
      "cell_type": "markdown",
      "metadata": {
        "id": "X6Wx5Y9FpOF8",
        "colab_type": "text"
      },
      "source": [
        "A key to building interpretable models is to limit their complexity. The more complex a model is, the harder it is to explain and understand. Overly complex models can also make unstable predictions on new data, which is both difficult to explain and makes models harder to trust. Monotonicity constraints not only simplify models, but do so in a way that is somewhat natural for human reasoning, increasing the transparency of predictive models. Under monotonicity constraints, model predictions can only increase or only decrease as an input variable value increases, and the direction of the constraint is typically specified by the user for logical reasons. For instance, a model might be constrained to produce only increasing probabilities of a certain medical condition as a patient's age increases, or to make only increasing predictions for home prices as a home's square footage increases. \n",
        "\n",
        "In this notebook a gradient boosting machine (GBM) is trained with monotonicity constraints to predict credit card payment defaults, using the UCI credit card default data, Python, NumPy, Pandas, and XGBoost. First, the credit card default data is loaded and prepared. Then Pearson correlation with the prediction target is used to determine the direction of the monotonicity constraints for each input variable and the model is trained. After the model is trained, partial dependence and individual conditional expectation (ICE) plots are used to analyze and verify the model's monotonic behavior. Finally an example of creating regulator mandated reason codes from high fidelity Shapley explanations for any model prediction is presented. This combination of monotonic XGBoost, partial dependence, ICE, and Shapley explanations is probably the most direct way to create an interpretable machine learning model today.\n",
        "\n",
        "**Note**: As of the h2o 3.24 \"Yates\" release, Shapley values are supported in h2o, in addition to GBM monotonicity constraints and partial dependence. To see Shapley values and monotonicity constraints for an h2o GBM in action please see: https://github.com/jphall663/interpretable_machine_learning_with_python/blob/master/dia.ipynb."
      ]
    },
    {
      "cell_type": "markdown",
      "metadata": {
        "id": "2WcoXhuZpOGB",
        "colab_type": "text"
      },
      "source": [
        "#### Python imports "
      ]
    },
    {
      "cell_type": "markdown",
      "metadata": {
        "id": "XFBvozoopOGH",
        "colab_type": "text"
      },
      "source": [
        "Let's start with Python package imports. NumPy is used for basic arrray, vector, and matrix calculations. Pandas is used for data frame manipulation and plotting, and XGBoost is used to train a GBM with monotonicity constraints."
      ]
    },
    {
      "cell_type": "code",
      "metadata": {
        "id": "p4dB_BnGr9C8",
        "colab_type": "code",
        "colab": {
          "base_uri": "https://localhost:8080/",
          "height": 367
        },
        "outputId": "5e52ff1a-d41c-4803-a98d-286231294717"
      },
      "source": [
        "!pip install shap"
      ],
      "execution_count": 2,
      "outputs": [
        {
          "output_type": "stream",
          "text": [
            "Collecting shap\n",
            "\u001b[?25l  Downloading https://files.pythonhosted.org/packages/b8/db/58740847c0df6b346a999e3c375936436f4155354f6b644aa6e203bb40f3/shap-0.34.0.tar.gz (264kB)\n",
            "\r\u001b[K     |█▎                              | 10kB 18.1MB/s eta 0:00:01\r\u001b[K     |██▌                             | 20kB 2.1MB/s eta 0:00:01\r\u001b[K     |███▊                            | 30kB 2.6MB/s eta 0:00:01\r\u001b[K     |█████                           | 40kB 2.0MB/s eta 0:00:01\r\u001b[K     |██████▏                         | 51kB 2.2MB/s eta 0:00:01\r\u001b[K     |███████▍                        | 61kB 2.6MB/s eta 0:00:01\r\u001b[K     |████████▊                       | 71kB 2.9MB/s eta 0:00:01\r\u001b[K     |██████████                      | 81kB 3.1MB/s eta 0:00:01\r\u001b[K     |███████████▏                    | 92kB 3.5MB/s eta 0:00:01\r\u001b[K     |████████████▍                   | 102kB 3.2MB/s eta 0:00:01\r\u001b[K     |█████████████▋                  | 112kB 3.2MB/s eta 0:00:01\r\u001b[K     |██████████████▉                 | 122kB 3.2MB/s eta 0:00:01\r\u001b[K     |████████████████▏               | 133kB 3.2MB/s eta 0:00:01\r\u001b[K     |█████████████████▍              | 143kB 3.2MB/s eta 0:00:01\r\u001b[K     |██████████████████▋             | 153kB 3.2MB/s eta 0:00:01\r\u001b[K     |███████████████████▉            | 163kB 3.2MB/s eta 0:00:01\r\u001b[K     |█████████████████████           | 174kB 3.2MB/s eta 0:00:01\r\u001b[K     |██████████████████████▎         | 184kB 3.2MB/s eta 0:00:01\r\u001b[K     |███████████████████████▋        | 194kB 3.2MB/s eta 0:00:01\r\u001b[K     |████████████████████████▉       | 204kB 3.2MB/s eta 0:00:01\r\u001b[K     |██████████████████████████      | 215kB 3.2MB/s eta 0:00:01\r\u001b[K     |███████████████████████████▎    | 225kB 3.2MB/s eta 0:00:01\r\u001b[K     |████████████████████████████▌   | 235kB 3.2MB/s eta 0:00:01\r\u001b[K     |█████████████████████████████▊  | 245kB 3.2MB/s eta 0:00:01\r\u001b[K     |███████████████████████████████ | 256kB 3.2MB/s eta 0:00:01\r\u001b[K     |████████████████████████████████| 266kB 3.2MB/s \n",
            "\u001b[?25hRequirement already satisfied: numpy in /usr/local/lib/python3.6/dist-packages (from shap) (1.17.5)\n",
            "Requirement already satisfied: scipy in /usr/local/lib/python3.6/dist-packages (from shap) (1.4.1)\n",
            "Requirement already satisfied: scikit-learn in /usr/local/lib/python3.6/dist-packages (from shap) (0.22.1)\n",
            "Requirement already satisfied: pandas in /usr/local/lib/python3.6/dist-packages (from shap) (0.25.3)\n",
            "Requirement already satisfied: tqdm>4.25.0 in /usr/local/lib/python3.6/dist-packages (from shap) (4.28.1)\n",
            "Requirement already satisfied: joblib>=0.11 in /usr/local/lib/python3.6/dist-packages (from scikit-learn->shap) (0.14.1)\n",
            "Requirement already satisfied: python-dateutil>=2.6.1 in /usr/local/lib/python3.6/dist-packages (from pandas->shap) (2.6.1)\n",
            "Requirement already satisfied: pytz>=2017.2 in /usr/local/lib/python3.6/dist-packages (from pandas->shap) (2018.9)\n",
            "Requirement already satisfied: six>=1.5 in /usr/local/lib/python3.6/dist-packages (from python-dateutil>=2.6.1->pandas->shap) (1.12.0)\n",
            "Building wheels for collected packages: shap\n",
            "  Building wheel for shap (setup.py) ... \u001b[?25l\u001b[?25hdone\n",
            "  Created wheel for shap: filename=shap-0.34.0-cp36-cp36m-linux_x86_64.whl size=383181 sha256=ec747b727abf62b6f52bd15d6353843bdc3c8d5b51868cd2e340b09cbe23c3ad\n",
            "  Stored in directory: /root/.cache/pip/wheels/28/7e/28/57bc9fcb77579b0df6561298648249370648c0b91dfe42c8ec\n",
            "Successfully built shap\n",
            "Installing collected packages: shap\n",
            "Successfully installed shap-0.34.0\n"
          ],
          "name": "stdout"
        }
      ]
    },
    {
      "cell_type": "code",
      "metadata": {
        "id": "XCsaVuYnpOGK",
        "colab_type": "code",
        "colab": {}
      },
      "source": [
        "import numpy as np                   # array, vector, matrix calculations\n",
        "import pandas as pd                  # DataFrame handling\n",
        "import shap                          # for consistent, signed variable importance measurements\n",
        "import lightgbm as lgb                # gradient boosting machines (GBMs)\n",
        "\n",
        "import matplotlib.pyplot as plt      # plotting\n",
        "pd.options.display.max_columns = 999 # enable display of all columns in notebook\n",
        "\n",
        "# enables display of plots in notebook\n",
        "%matplotlib inline\n",
        "\n",
        "np.random.seed(12345)                # set random seed for reproducibility"
      ],
      "execution_count": 0,
      "outputs": []
    },
    {
      "cell_type": "markdown",
      "metadata": {
        "id": "UfFssYBVpOGX",
        "colab_type": "text"
      },
      "source": [
        "### 1. Download, explore, and prepare UCI credit card default data\n",
        "\n",
        "UCI credit card default data: https://archive.ics.uci.edu/ml/datasets/default+of+credit+card+clients\n",
        "\n",
        "The UCI credit card default data contains demographic and payment information about credit card customers in Taiwan in the year 2005. The data set contains 23 input variables: \n",
        "\n",
        "* **`LIMIT_BAL`**: Amount of given credit (NT dollar)\n",
        "* **`SEX`**: 1 = male; 2 = female\n",
        "* **`EDUCATION`**: 1 = graduate school; 2 = university; 3 = high school; 4 = others \n",
        "* **`MARRIAGE`**: 1 = married; 2 = single; 3 = others\n",
        "* **`AGE`**: Age in years \n",
        "* **`PAY_0`, `PAY_2` - `PAY_6`**: History of past payment; `PAY_0` = the repayment status in September, 2005; `PAY_2` = the repayment status in August, 2005; ...; `PAY_6` = the repayment status in April, 2005. The measurement scale for the repayment status is: -1 = pay duly; 1 = payment delay for one month; 2 = payment delay for two months; ...; 8 = payment delay for eight months; 9 = payment delay for nine months and above. \n",
        "* **`BILL_AMT1` - `BILL_AMT6`**: Amount of bill statement (NT dollar). `BILL_AMNT1` = amount of bill statement in September, 2005; `BILL_AMT2` = amount of bill statement in August, 2005; ...; `BILL_AMT6` = amount of bill statement in April, 2005. \n",
        "* **`PAY_AMT1` - `PAY_AMT6`**: Amount of previous payment (NT dollar). `PAY_AMT1` = amount paid in September, 2005; `PAY_AMT2` = amount paid in August, 2005; ...; `PAY_AMT6` = amount paid in April, 2005. \n",
        "\n",
        "These 23 input variables are used to predict the target variable, whether or not a customer defaulted on their credit card bill in late 2005. Because XGBoost accepts only numeric inputs, all variables will be treated as numeric."
      ]
    },
    {
      "cell_type": "markdown",
      "metadata": {
        "id": "Mhnntw7ipOGb",
        "colab_type": "text"
      },
      "source": [
        "#### Import data and clean\n",
        "The credit card default data is available as an `.xls` file. Pandas reads `.xls` files automatically, so it's used to load the credit card default data and give the prediction target a shorter name: `DEFAULT_NEXT_MONTH`. "
      ]
    },
    {
      "cell_type": "code",
      "metadata": {
        "id": "nAI6ZJOYpOGe",
        "colab_type": "code",
        "colab": {}
      },
      "source": [
        "# import XLS file\n",
        "path = 'https://github.com/firmai/random-assets-two/blob/master/xaib/default_of_credit_card_clients.xls?raw=true'\n",
        "data = pd.read_excel(path,\n",
        "                     skiprows=1) # skip the first row of the spreadsheet\n",
        "\n",
        "# remove spaces from target column name \n",
        "data = data.rename(columns={'default payment next month': 'DEFAULT_NEXT_MONTH'}) "
      ],
      "execution_count": 0,
      "outputs": []
    },
    {
      "cell_type": "markdown",
      "metadata": {
        "id": "sVafzo6TpOGn",
        "colab_type": "text"
      },
      "source": [
        "#### Assign modeling roles"
      ]
    },
    {
      "cell_type": "markdown",
      "metadata": {
        "id": "70a_adogpOGr",
        "colab_type": "text"
      },
      "source": [
        "The shorthand name `y` is assigned to the prediction target. `X` is assigned to all other input variables in the credit card default data except the row indentifier, `ID`."
      ]
    },
    {
      "cell_type": "code",
      "metadata": {
        "id": "SBOEOmompOGt",
        "colab_type": "code",
        "colab": {
          "base_uri": "https://localhost:8080/",
          "height": 72
        },
        "outputId": "d46a3df8-5d43-4e38-98ba-d8cf4d1272d6"
      },
      "source": [
        "# assign target and inputs for GBM\n",
        "y = 'DEFAULT_NEXT_MONTH'\n",
        "X = [name for name in data.columns if name not in [y, 'ID']]\n",
        "print('y =', y)\n",
        "print('X =', X)"
      ],
      "execution_count": 5,
      "outputs": [
        {
          "output_type": "stream",
          "text": [
            "y = DEFAULT_NEXT_MONTH\n",
            "X = ['LIMIT_BAL', 'SEX', 'EDUCATION', 'MARRIAGE', 'AGE', 'PAY_0', 'PAY_2', 'PAY_3', 'PAY_4', 'PAY_5', 'PAY_6', 'BILL_AMT1', 'BILL_AMT2', 'BILL_AMT3', 'BILL_AMT4', 'BILL_AMT5', 'BILL_AMT6', 'PAY_AMT1', 'PAY_AMT2', 'PAY_AMT3', 'PAY_AMT4', 'PAY_AMT5', 'PAY_AMT6']\n"
          ],
          "name": "stdout"
        }
      ]
    },
    {
      "cell_type": "markdown",
      "metadata": {
        "id": "yEwez_EPpOG1",
        "colab_type": "text"
      },
      "source": [
        "#### Display descriptive statistics\n",
        "The Pandas `describe()` function displays a brief description of the credit card default data. The input variables `SEX`, `EDUCATION`, `MARRIAGE`, `PAY_0`-`PAY_6`, and the prediction target `DEFAULT_NEXT_MONTH`, are really categorical variables, but they have already been encoded into meaningful numeric, integer values, which is great for XGBoost. Also, there are no missing values in this dataset."
      ]
    },
    {
      "cell_type": "code",
      "metadata": {
        "id": "vHxckwfIpOG3",
        "colab_type": "code",
        "colab": {
          "base_uri": "https://localhost:8080/",
          "height": 320
        },
        "outputId": "d9324d3a-8dca-4660-90a0-7787eaf1a66c"
      },
      "source": [
        "data[X + [y]].describe() # display descriptive statistics for all columns"
      ],
      "execution_count": 6,
      "outputs": [
        {
          "output_type": "execute_result",
          "data": {
            "text/html": [
              "<div>\n",
              "<style scoped>\n",
              "    .dataframe tbody tr th:only-of-type {\n",
              "        vertical-align: middle;\n",
              "    }\n",
              "\n",
              "    .dataframe tbody tr th {\n",
              "        vertical-align: top;\n",
              "    }\n",
              "\n",
              "    .dataframe thead th {\n",
              "        text-align: right;\n",
              "    }\n",
              "</style>\n",
              "<table border=\"1\" class=\"dataframe\">\n",
              "  <thead>\n",
              "    <tr style=\"text-align: right;\">\n",
              "      <th></th>\n",
              "      <th>LIMIT_BAL</th>\n",
              "      <th>SEX</th>\n",
              "      <th>EDUCATION</th>\n",
              "      <th>MARRIAGE</th>\n",
              "      <th>AGE</th>\n",
              "      <th>PAY_0</th>\n",
              "      <th>PAY_2</th>\n",
              "      <th>PAY_3</th>\n",
              "      <th>PAY_4</th>\n",
              "      <th>PAY_5</th>\n",
              "      <th>PAY_6</th>\n",
              "      <th>BILL_AMT1</th>\n",
              "      <th>BILL_AMT2</th>\n",
              "      <th>BILL_AMT3</th>\n",
              "      <th>BILL_AMT4</th>\n",
              "      <th>BILL_AMT5</th>\n",
              "      <th>BILL_AMT6</th>\n",
              "      <th>PAY_AMT1</th>\n",
              "      <th>PAY_AMT2</th>\n",
              "      <th>PAY_AMT3</th>\n",
              "      <th>PAY_AMT4</th>\n",
              "      <th>PAY_AMT5</th>\n",
              "      <th>PAY_AMT6</th>\n",
              "      <th>DEFAULT_NEXT_MONTH</th>\n",
              "    </tr>\n",
              "  </thead>\n",
              "  <tbody>\n",
              "    <tr>\n",
              "      <th>count</th>\n",
              "      <td>30000.000000</td>\n",
              "      <td>30000.000000</td>\n",
              "      <td>30000.000000</td>\n",
              "      <td>30000.000000</td>\n",
              "      <td>30000.000000</td>\n",
              "      <td>30000.000000</td>\n",
              "      <td>30000.000000</td>\n",
              "      <td>30000.000000</td>\n",
              "      <td>30000.000000</td>\n",
              "      <td>30000.000000</td>\n",
              "      <td>30000.000000</td>\n",
              "      <td>30000.000000</td>\n",
              "      <td>30000.000000</td>\n",
              "      <td>3.000000e+04</td>\n",
              "      <td>30000.000000</td>\n",
              "      <td>30000.000000</td>\n",
              "      <td>30000.000000</td>\n",
              "      <td>30000.000000</td>\n",
              "      <td>3.000000e+04</td>\n",
              "      <td>30000.00000</td>\n",
              "      <td>30000.000000</td>\n",
              "      <td>30000.000000</td>\n",
              "      <td>30000.000000</td>\n",
              "      <td>30000.000000</td>\n",
              "    </tr>\n",
              "    <tr>\n",
              "      <th>mean</th>\n",
              "      <td>167484.322667</td>\n",
              "      <td>1.603733</td>\n",
              "      <td>1.853133</td>\n",
              "      <td>1.551867</td>\n",
              "      <td>35.485500</td>\n",
              "      <td>-0.016700</td>\n",
              "      <td>-0.133767</td>\n",
              "      <td>-0.166200</td>\n",
              "      <td>-0.220667</td>\n",
              "      <td>-0.266200</td>\n",
              "      <td>-0.291100</td>\n",
              "      <td>51223.330900</td>\n",
              "      <td>49179.075167</td>\n",
              "      <td>4.701315e+04</td>\n",
              "      <td>43262.948967</td>\n",
              "      <td>40311.400967</td>\n",
              "      <td>38871.760400</td>\n",
              "      <td>5663.580500</td>\n",
              "      <td>5.921163e+03</td>\n",
              "      <td>5225.68150</td>\n",
              "      <td>4826.076867</td>\n",
              "      <td>4799.387633</td>\n",
              "      <td>5215.502567</td>\n",
              "      <td>0.221200</td>\n",
              "    </tr>\n",
              "    <tr>\n",
              "      <th>std</th>\n",
              "      <td>129747.661567</td>\n",
              "      <td>0.489129</td>\n",
              "      <td>0.790349</td>\n",
              "      <td>0.521970</td>\n",
              "      <td>9.217904</td>\n",
              "      <td>1.123802</td>\n",
              "      <td>1.197186</td>\n",
              "      <td>1.196868</td>\n",
              "      <td>1.169139</td>\n",
              "      <td>1.133187</td>\n",
              "      <td>1.149988</td>\n",
              "      <td>73635.860576</td>\n",
              "      <td>71173.768783</td>\n",
              "      <td>6.934939e+04</td>\n",
              "      <td>64332.856134</td>\n",
              "      <td>60797.155770</td>\n",
              "      <td>59554.107537</td>\n",
              "      <td>16563.280354</td>\n",
              "      <td>2.304087e+04</td>\n",
              "      <td>17606.96147</td>\n",
              "      <td>15666.159744</td>\n",
              "      <td>15278.305679</td>\n",
              "      <td>17777.465775</td>\n",
              "      <td>0.415062</td>\n",
              "    </tr>\n",
              "    <tr>\n",
              "      <th>min</th>\n",
              "      <td>10000.000000</td>\n",
              "      <td>1.000000</td>\n",
              "      <td>0.000000</td>\n",
              "      <td>0.000000</td>\n",
              "      <td>21.000000</td>\n",
              "      <td>-2.000000</td>\n",
              "      <td>-2.000000</td>\n",
              "      <td>-2.000000</td>\n",
              "      <td>-2.000000</td>\n",
              "      <td>-2.000000</td>\n",
              "      <td>-2.000000</td>\n",
              "      <td>-165580.000000</td>\n",
              "      <td>-69777.000000</td>\n",
              "      <td>-1.572640e+05</td>\n",
              "      <td>-170000.000000</td>\n",
              "      <td>-81334.000000</td>\n",
              "      <td>-339603.000000</td>\n",
              "      <td>0.000000</td>\n",
              "      <td>0.000000e+00</td>\n",
              "      <td>0.00000</td>\n",
              "      <td>0.000000</td>\n",
              "      <td>0.000000</td>\n",
              "      <td>0.000000</td>\n",
              "      <td>0.000000</td>\n",
              "    </tr>\n",
              "    <tr>\n",
              "      <th>25%</th>\n",
              "      <td>50000.000000</td>\n",
              "      <td>1.000000</td>\n",
              "      <td>1.000000</td>\n",
              "      <td>1.000000</td>\n",
              "      <td>28.000000</td>\n",
              "      <td>-1.000000</td>\n",
              "      <td>-1.000000</td>\n",
              "      <td>-1.000000</td>\n",
              "      <td>-1.000000</td>\n",
              "      <td>-1.000000</td>\n",
              "      <td>-1.000000</td>\n",
              "      <td>3558.750000</td>\n",
              "      <td>2984.750000</td>\n",
              "      <td>2.666250e+03</td>\n",
              "      <td>2326.750000</td>\n",
              "      <td>1763.000000</td>\n",
              "      <td>1256.000000</td>\n",
              "      <td>1000.000000</td>\n",
              "      <td>8.330000e+02</td>\n",
              "      <td>390.00000</td>\n",
              "      <td>296.000000</td>\n",
              "      <td>252.500000</td>\n",
              "      <td>117.750000</td>\n",
              "      <td>0.000000</td>\n",
              "    </tr>\n",
              "    <tr>\n",
              "      <th>50%</th>\n",
              "      <td>140000.000000</td>\n",
              "      <td>2.000000</td>\n",
              "      <td>2.000000</td>\n",
              "      <td>2.000000</td>\n",
              "      <td>34.000000</td>\n",
              "      <td>0.000000</td>\n",
              "      <td>0.000000</td>\n",
              "      <td>0.000000</td>\n",
              "      <td>0.000000</td>\n",
              "      <td>0.000000</td>\n",
              "      <td>0.000000</td>\n",
              "      <td>22381.500000</td>\n",
              "      <td>21200.000000</td>\n",
              "      <td>2.008850e+04</td>\n",
              "      <td>19052.000000</td>\n",
              "      <td>18104.500000</td>\n",
              "      <td>17071.000000</td>\n",
              "      <td>2100.000000</td>\n",
              "      <td>2.009000e+03</td>\n",
              "      <td>1800.00000</td>\n",
              "      <td>1500.000000</td>\n",
              "      <td>1500.000000</td>\n",
              "      <td>1500.000000</td>\n",
              "      <td>0.000000</td>\n",
              "    </tr>\n",
              "    <tr>\n",
              "      <th>75%</th>\n",
              "      <td>240000.000000</td>\n",
              "      <td>2.000000</td>\n",
              "      <td>2.000000</td>\n",
              "      <td>2.000000</td>\n",
              "      <td>41.000000</td>\n",
              "      <td>0.000000</td>\n",
              "      <td>0.000000</td>\n",
              "      <td>0.000000</td>\n",
              "      <td>0.000000</td>\n",
              "      <td>0.000000</td>\n",
              "      <td>0.000000</td>\n",
              "      <td>67091.000000</td>\n",
              "      <td>64006.250000</td>\n",
              "      <td>6.016475e+04</td>\n",
              "      <td>54506.000000</td>\n",
              "      <td>50190.500000</td>\n",
              "      <td>49198.250000</td>\n",
              "      <td>5006.000000</td>\n",
              "      <td>5.000000e+03</td>\n",
              "      <td>4505.00000</td>\n",
              "      <td>4013.250000</td>\n",
              "      <td>4031.500000</td>\n",
              "      <td>4000.000000</td>\n",
              "      <td>0.000000</td>\n",
              "    </tr>\n",
              "    <tr>\n",
              "      <th>max</th>\n",
              "      <td>1000000.000000</td>\n",
              "      <td>2.000000</td>\n",
              "      <td>6.000000</td>\n",
              "      <td>3.000000</td>\n",
              "      <td>79.000000</td>\n",
              "      <td>8.000000</td>\n",
              "      <td>8.000000</td>\n",
              "      <td>8.000000</td>\n",
              "      <td>8.000000</td>\n",
              "      <td>8.000000</td>\n",
              "      <td>8.000000</td>\n",
              "      <td>964511.000000</td>\n",
              "      <td>983931.000000</td>\n",
              "      <td>1.664089e+06</td>\n",
              "      <td>891586.000000</td>\n",
              "      <td>927171.000000</td>\n",
              "      <td>961664.000000</td>\n",
              "      <td>873552.000000</td>\n",
              "      <td>1.684259e+06</td>\n",
              "      <td>896040.00000</td>\n",
              "      <td>621000.000000</td>\n",
              "      <td>426529.000000</td>\n",
              "      <td>528666.000000</td>\n",
              "      <td>1.000000</td>\n",
              "    </tr>\n",
              "  </tbody>\n",
              "</table>\n",
              "</div>"
            ],
            "text/plain": [
              "            LIMIT_BAL           SEX     EDUCATION      MARRIAGE           AGE  \\\n",
              "count    30000.000000  30000.000000  30000.000000  30000.000000  30000.000000   \n",
              "mean    167484.322667      1.603733      1.853133      1.551867     35.485500   \n",
              "std     129747.661567      0.489129      0.790349      0.521970      9.217904   \n",
              "min      10000.000000      1.000000      0.000000      0.000000     21.000000   \n",
              "25%      50000.000000      1.000000      1.000000      1.000000     28.000000   \n",
              "50%     140000.000000      2.000000      2.000000      2.000000     34.000000   \n",
              "75%     240000.000000      2.000000      2.000000      2.000000     41.000000   \n",
              "max    1000000.000000      2.000000      6.000000      3.000000     79.000000   \n",
              "\n",
              "              PAY_0         PAY_2         PAY_3         PAY_4         PAY_5  \\\n",
              "count  30000.000000  30000.000000  30000.000000  30000.000000  30000.000000   \n",
              "mean      -0.016700     -0.133767     -0.166200     -0.220667     -0.266200   \n",
              "std        1.123802      1.197186      1.196868      1.169139      1.133187   \n",
              "min       -2.000000     -2.000000     -2.000000     -2.000000     -2.000000   \n",
              "25%       -1.000000     -1.000000     -1.000000     -1.000000     -1.000000   \n",
              "50%        0.000000      0.000000      0.000000      0.000000      0.000000   \n",
              "75%        0.000000      0.000000      0.000000      0.000000      0.000000   \n",
              "max        8.000000      8.000000      8.000000      8.000000      8.000000   \n",
              "\n",
              "              PAY_6      BILL_AMT1      BILL_AMT2     BILL_AMT3  \\\n",
              "count  30000.000000   30000.000000   30000.000000  3.000000e+04   \n",
              "mean      -0.291100   51223.330900   49179.075167  4.701315e+04   \n",
              "std        1.149988   73635.860576   71173.768783  6.934939e+04   \n",
              "min       -2.000000 -165580.000000  -69777.000000 -1.572640e+05   \n",
              "25%       -1.000000    3558.750000    2984.750000  2.666250e+03   \n",
              "50%        0.000000   22381.500000   21200.000000  2.008850e+04   \n",
              "75%        0.000000   67091.000000   64006.250000  6.016475e+04   \n",
              "max        8.000000  964511.000000  983931.000000  1.664089e+06   \n",
              "\n",
              "           BILL_AMT4      BILL_AMT5      BILL_AMT6       PAY_AMT1  \\\n",
              "count   30000.000000   30000.000000   30000.000000   30000.000000   \n",
              "mean    43262.948967   40311.400967   38871.760400    5663.580500   \n",
              "std     64332.856134   60797.155770   59554.107537   16563.280354   \n",
              "min   -170000.000000  -81334.000000 -339603.000000       0.000000   \n",
              "25%      2326.750000    1763.000000    1256.000000    1000.000000   \n",
              "50%     19052.000000   18104.500000   17071.000000    2100.000000   \n",
              "75%     54506.000000   50190.500000   49198.250000    5006.000000   \n",
              "max    891586.000000  927171.000000  961664.000000  873552.000000   \n",
              "\n",
              "           PAY_AMT2      PAY_AMT3       PAY_AMT4       PAY_AMT5  \\\n",
              "count  3.000000e+04   30000.00000   30000.000000   30000.000000   \n",
              "mean   5.921163e+03    5225.68150    4826.076867    4799.387633   \n",
              "std    2.304087e+04   17606.96147   15666.159744   15278.305679   \n",
              "min    0.000000e+00       0.00000       0.000000       0.000000   \n",
              "25%    8.330000e+02     390.00000     296.000000     252.500000   \n",
              "50%    2.009000e+03    1800.00000    1500.000000    1500.000000   \n",
              "75%    5.000000e+03    4505.00000    4013.250000    4031.500000   \n",
              "max    1.684259e+06  896040.00000  621000.000000  426529.000000   \n",
              "\n",
              "            PAY_AMT6  DEFAULT_NEXT_MONTH  \n",
              "count   30000.000000        30000.000000  \n",
              "mean     5215.502567            0.221200  \n",
              "std     17777.465775            0.415062  \n",
              "min         0.000000            0.000000  \n",
              "25%       117.750000            0.000000  \n",
              "50%      1500.000000            0.000000  \n",
              "75%      4000.000000            0.000000  \n",
              "max    528666.000000            1.000000  "
            ]
          },
          "metadata": {
            "tags": []
          },
          "execution_count": 6
        }
      ]
    },
    {
      "cell_type": "markdown",
      "metadata": {
        "id": "xCYfh-9xpOHA",
        "colab_type": "text"
      },
      "source": [
        "### 2. Investigate pair-wise Pearson correlations for DEFAULT_NEXT_MONTH\n",
        "\n",
        "Monotonic relationships are much easier to explain to colleagues, bosses, customers, and regulators than more complex, non-monotonic relationships and monotonic relationships may also prevent overfitting and excess error due to variance for new data.\n",
        "\n",
        "To train a transparent monotonic classifier, contraints must be supplied to XGBoost that determine whether the learned relationship between an input variable and the prediction target `DEFAULT_NEXT_MONTH` will be increasing for increases in an input variable or decreasing for increases in an input variable. Pearson correlation provides a linear measure of the direction of the relationship between each input variable and the target. If the pair-wise Pearson correlation between an input and `DEFAULT_NEXT_MONTH` is positive, it will be constrained to have an increasing relationship with the predictions for `DEFAULT_NEXT_MONTH`. If the pair-wise Pearson correlation is negative, the input will be constrained to have a decreasing relationship with the predictions for `DEFAULT_NEXT_MONTH`. \n",
        "\n",
        "Constrainsts are supplied to XGBoost in the form of a Python tuple with length equal to the number of inputs. Each item in the tuple is associated with an input variable based on its index in the tuple. The first constraint in the tuple is associated with the first variable in the training data, the second constraint in the tuple is associated with the second variable in the training data, and so on. The constraints themselves take the form of a 1 for a positive relationship and a -1 for a negative relationship."
      ]
    },
    {
      "cell_type": "markdown",
      "metadata": {
        "id": "S0ASJT6NpOHD",
        "colab_type": "text"
      },
      "source": [
        "#### Calculate Pearson correlation"
      ]
    },
    {
      "cell_type": "markdown",
      "metadata": {
        "id": "aqoAXIe_pOHG",
        "colab_type": "text"
      },
      "source": [
        "The Pandas `.corr()` function returns the pair-wise Pearson correlation between variables in a Pandas DataFrame. Because `DEFAULT_NEXT_MONTH` is the last column in the `data` DataFrame, the last column of the Pearson correlation matrix indicates the direction of the linear relationship between each input variable and the prediction target, `DEFAULT_NEXT_MONTH`. According to the calculated values, as a customer's balance limit (`LIMIT_BAL`), bill amounts (`BILL_AMT1`-`BILL_AMT6`), and payment amounts (`PAY_AMT1`-`PAY_AMT6`) increase, their probability of default tends to decrease. However as a customer's number of late payments increase (`PAY_0`, `PAY_2`-`PAY6`), their probability of default usually increases. In general, the Pearson correlation values make sense, and they will be used to ensure that the modeled relationships will make sense as well. (Pearson correlation values between the target variable, DEFAULT_NEXT_MONTH, and each input variable are displayed directly below.)"
      ]
    },
    {
      "cell_type": "code",
      "metadata": {
        "id": "8GRxzepGpOHI",
        "colab_type": "code",
        "colab": {
          "base_uri": "https://localhost:8080/",
          "height": 771
        },
        "outputId": "5710f5e6-ce4f-4084-f3b0-8d22058c0489"
      },
      "source": [
        "# coul dyou substitute correlation, probably not, still one dimensionally descriptive. \n",
        "# displays last column of Pearson correlation matrix as Pandas DataFrame\n",
        "pd.DataFrame(data[X + [y]].corr()[y]).iloc[:-1] "
      ],
      "execution_count": 7,
      "outputs": [
        {
          "output_type": "execute_result",
          "data": {
            "text/html": [
              "<div>\n",
              "<style scoped>\n",
              "    .dataframe tbody tr th:only-of-type {\n",
              "        vertical-align: middle;\n",
              "    }\n",
              "\n",
              "    .dataframe tbody tr th {\n",
              "        vertical-align: top;\n",
              "    }\n",
              "\n",
              "    .dataframe thead th {\n",
              "        text-align: right;\n",
              "    }\n",
              "</style>\n",
              "<table border=\"1\" class=\"dataframe\">\n",
              "  <thead>\n",
              "    <tr style=\"text-align: right;\">\n",
              "      <th></th>\n",
              "      <th>DEFAULT_NEXT_MONTH</th>\n",
              "    </tr>\n",
              "  </thead>\n",
              "  <tbody>\n",
              "    <tr>\n",
              "      <th>LIMIT_BAL</th>\n",
              "      <td>-0.153520</td>\n",
              "    </tr>\n",
              "    <tr>\n",
              "      <th>SEX</th>\n",
              "      <td>-0.039961</td>\n",
              "    </tr>\n",
              "    <tr>\n",
              "      <th>EDUCATION</th>\n",
              "      <td>0.028006</td>\n",
              "    </tr>\n",
              "    <tr>\n",
              "      <th>MARRIAGE</th>\n",
              "      <td>-0.024339</td>\n",
              "    </tr>\n",
              "    <tr>\n",
              "      <th>AGE</th>\n",
              "      <td>0.013890</td>\n",
              "    </tr>\n",
              "    <tr>\n",
              "      <th>PAY_0</th>\n",
              "      <td>0.324794</td>\n",
              "    </tr>\n",
              "    <tr>\n",
              "      <th>PAY_2</th>\n",
              "      <td>0.263551</td>\n",
              "    </tr>\n",
              "    <tr>\n",
              "      <th>PAY_3</th>\n",
              "      <td>0.235253</td>\n",
              "    </tr>\n",
              "    <tr>\n",
              "      <th>PAY_4</th>\n",
              "      <td>0.216614</td>\n",
              "    </tr>\n",
              "    <tr>\n",
              "      <th>PAY_5</th>\n",
              "      <td>0.204149</td>\n",
              "    </tr>\n",
              "    <tr>\n",
              "      <th>PAY_6</th>\n",
              "      <td>0.186866</td>\n",
              "    </tr>\n",
              "    <tr>\n",
              "      <th>BILL_AMT1</th>\n",
              "      <td>-0.019644</td>\n",
              "    </tr>\n",
              "    <tr>\n",
              "      <th>BILL_AMT2</th>\n",
              "      <td>-0.014193</td>\n",
              "    </tr>\n",
              "    <tr>\n",
              "      <th>BILL_AMT3</th>\n",
              "      <td>-0.014076</td>\n",
              "    </tr>\n",
              "    <tr>\n",
              "      <th>BILL_AMT4</th>\n",
              "      <td>-0.010156</td>\n",
              "    </tr>\n",
              "    <tr>\n",
              "      <th>BILL_AMT5</th>\n",
              "      <td>-0.006760</td>\n",
              "    </tr>\n",
              "    <tr>\n",
              "      <th>BILL_AMT6</th>\n",
              "      <td>-0.005372</td>\n",
              "    </tr>\n",
              "    <tr>\n",
              "      <th>PAY_AMT1</th>\n",
              "      <td>-0.072929</td>\n",
              "    </tr>\n",
              "    <tr>\n",
              "      <th>PAY_AMT2</th>\n",
              "      <td>-0.058579</td>\n",
              "    </tr>\n",
              "    <tr>\n",
              "      <th>PAY_AMT3</th>\n",
              "      <td>-0.056250</td>\n",
              "    </tr>\n",
              "    <tr>\n",
              "      <th>PAY_AMT4</th>\n",
              "      <td>-0.056827</td>\n",
              "    </tr>\n",
              "    <tr>\n",
              "      <th>PAY_AMT5</th>\n",
              "      <td>-0.055124</td>\n",
              "    </tr>\n",
              "    <tr>\n",
              "      <th>PAY_AMT6</th>\n",
              "      <td>-0.053183</td>\n",
              "    </tr>\n",
              "  </tbody>\n",
              "</table>\n",
              "</div>"
            ],
            "text/plain": [
              "           DEFAULT_NEXT_MONTH\n",
              "LIMIT_BAL           -0.153520\n",
              "SEX                 -0.039961\n",
              "EDUCATION            0.028006\n",
              "MARRIAGE            -0.024339\n",
              "AGE                  0.013890\n",
              "PAY_0                0.324794\n",
              "PAY_2                0.263551\n",
              "PAY_3                0.235253\n",
              "PAY_4                0.216614\n",
              "PAY_5                0.204149\n",
              "PAY_6                0.186866\n",
              "BILL_AMT1           -0.019644\n",
              "BILL_AMT2           -0.014193\n",
              "BILL_AMT3           -0.014076\n",
              "BILL_AMT4           -0.010156\n",
              "BILL_AMT5           -0.006760\n",
              "BILL_AMT6           -0.005372\n",
              "PAY_AMT1            -0.072929\n",
              "PAY_AMT2            -0.058579\n",
              "PAY_AMT3            -0.056250\n",
              "PAY_AMT4            -0.056827\n",
              "PAY_AMT5            -0.055124\n",
              "PAY_AMT6            -0.053183"
            ]
          },
          "metadata": {
            "tags": []
          },
          "execution_count": 7
        }
      ]
    },
    {
      "cell_type": "markdown",
      "metadata": {
        "collapsed": true,
        "id": "ZX_Ag7qPpOHQ",
        "colab_type": "text"
      },
      "source": [
        "#### Create tuple of monotonicity constraints from Pearson correlation values"
      ]
    },
    {
      "cell_type": "markdown",
      "metadata": {
        "id": "4ih3kFpmpOHS",
        "colab_type": "text"
      },
      "source": [
        "The last column of the Pearson correlation matrix is transformed from a numeric column in a Pandas DataFrame into a Python tuple of `1`s and `-1`s that will be used to specifiy monotonicity constraints for each input variable in XGBoost. If the Pearson correlation between an input variable and `DEFAULT_NEXT_MONTH` is positive, a positive montonic relationship constraint is specified for that variable using `1`. If the correlation is negative, a negative monotonic constraint is specified using `-1`. (Specifying `0` indicates that no constraints should be used.) The resulting tuple will be passed to XGBoost when the GBM model is trained."
      ]
    },
    {
      "cell_type": "code",
      "metadata": {
        "id": "cXafWpXzpOHV",
        "colab_type": "code",
        "colab": {}
      },
      "source": [
        "# creates a tuple in which positive correlation values are assigned a 1\n",
        "# and negative correlation values are assigned a -1\n",
        "mono_constraints = list([int(i) for i in np.sign(data[X + [y]].corr()[y].values[:-1])])\n",
        "mono_str = ','.join(map(str, mono_constraints))\n",
        "# (-1, -1, 1, -1, 1, 1, 1, 1, 1, 1, 1, -1, -1, -1, -1, -1, -1, -1, -1, -1, -1, -1, -1)"
      ],
      "execution_count": 0,
      "outputs": []
    },
    {
      "cell_type": "markdown",
      "metadata": {
        "id": "CxZ-W9JtpOHe",
        "colab_type": "text"
      },
      "source": [
        "### 3. Train XGBoost with monotonicity constraints\n",
        "\n",
        "XGBoost is a very accurate, open source GBM library for regression and classification tasks. XGBoost can learn complex relationships between input variables and a target variable, but here the `monotone_constraints` tuning parameter is used to enforce monotonicity between inputs and the prediction for `DEFAULT_NEXT_MONTH`. XGBoost's early stopping functionality is also used to limit overfitting to the training data\n",
        "\n",
        "XGBoost is available from: https://github.com/dmlc/xgboost and the implementation of XGBoost is described in detail here: http://www.kdd.org/kdd2016/papers/files/rfp0697-chenAemb.pdf.\n",
        "\n",
        "After training, GBM variable importance is calculated and displayed. GBM variable importance is a global measure of the overall impact of an input variable on the GBM model predictions. Global variable importance values give an indication of the magnitude of a variable's contribution to model predictions for all observations. To enhance trust in the GBM model, variable importance values should typically conform to human domain knowledge and reasonable expectations."
      ]
    },
    {
      "cell_type": "markdown",
      "metadata": {
        "id": "YfYyI4WLpOHh",
        "colab_type": "text"
      },
      "source": [
        "#### Split data into training and test sets for early stopping"
      ]
    },
    {
      "cell_type": "markdown",
      "metadata": {
        "id": "XAQf_LfBpOHk",
        "colab_type": "text"
      },
      "source": [
        "The credit card default data is split into training and test sets to monitor and prevent overtraining. Reproducibility is another important factor in creating trustworthy models, and randomly splitting datasets can introduce randomness in model predictions and other results. A random seed is used here to ensure the data split is reproducible."
      ]
    },
    {
      "cell_type": "code",
      "metadata": {
        "id": "tnJYV-MApOHm",
        "colab_type": "code",
        "colab": {
          "base_uri": "https://localhost:8080/",
          "height": 52
        },
        "outputId": "9a1eb061-bbb5-4027-827f-ed6353599e75"
      },
      "source": [
        "np.random.seed(12345) # set random seed for reproducibility\n",
        "split_ratio = 0.7     # 70%/30% train/test split\n",
        "\n",
        "# execute split\n",
        "split = np.random.rand(len(data)) < split_ratio\n",
        "train = data[split].set_index(\"ID\",drop=True)\n",
        "test = data[~split].set_index(\"ID\",drop=True)\n",
        "\n",
        "# summarize split\n",
        "print('Train data rows = %d, columns = %d' % (train.shape[0], train.shape[1]))\n",
        "print('Test data rows = %d, columns = %d' % (test.shape[0], test.shape[1]))"
      ],
      "execution_count": 25,
      "outputs": [
        {
          "output_type": "stream",
          "text": [
            "Train data rows = 20946, columns = 24\n",
            "Test data rows = 9054, columns = 24\n"
          ],
          "name": "stdout"
        }
      ]
    },
    {
      "cell_type": "markdown",
      "metadata": {
        "id": "dPZGlmVNpOHt",
        "colab_type": "text"
      },
      "source": [
        "#### Train XGBoost GBM classifier\n",
        "To train an XGBoost classifier, the training and test data must be converted from Pandas DataFrames into SVMLight format. The `DMatrix()` function in the XGBoost package is used to convert the data. Many XGBoost tuning parameters must be specified as well. Typically a grid search would be performed to identify the best parameters for a given modeling task. For brevity's sake, a previously-discovered set of good tuning parameters are specified here. Notice that the monotonicity constraints are passed to XGBoost using the `monotone_constraints` parameter. Because gradient boosting methods typically resample training data, an additional random seed is also specified for XGBoost using the `seed` paramter to create reproducible predictions, error rates, and variable importance values. To avoid overfitting, the `early_stopping_rounds` parameter is used to stop the training process after the test area under the curve (AUC) statistic fails to increase for 50 iterations."
      ]
    },
    {
      "cell_type": "code",
      "metadata": {
        "id": "LlL5s3I6twEn",
        "colab_type": "code",
        "colab": {}
      },
      "source": [
        "## I think it is also important not to discriminate between features"
      ],
      "execution_count": 0,
      "outputs": []
    },
    {
      "cell_type": "code",
      "metadata": {
        "id": "oDkl_yOyvbW6",
        "colab_type": "code",
        "colab": {
          "base_uri": "https://localhost:8080/",
          "height": 258
        },
        "outputId": "62bcf44f-84b7-48f1-b5c6-62808ee7580e"
      },
      "source": [
        "test.head()"
      ],
      "execution_count": 27,
      "outputs": [
        {
          "output_type": "execute_result",
          "data": {
            "text/html": [
              "<div>\n",
              "<style scoped>\n",
              "    .dataframe tbody tr th:only-of-type {\n",
              "        vertical-align: middle;\n",
              "    }\n",
              "\n",
              "    .dataframe tbody tr th {\n",
              "        vertical-align: top;\n",
              "    }\n",
              "\n",
              "    .dataframe thead th {\n",
              "        text-align: right;\n",
              "    }\n",
              "</style>\n",
              "<table border=\"1\" class=\"dataframe\">\n",
              "  <thead>\n",
              "    <tr style=\"text-align: right;\">\n",
              "      <th></th>\n",
              "      <th>LIMIT_BAL</th>\n",
              "      <th>SEX</th>\n",
              "      <th>EDUCATION</th>\n",
              "      <th>MARRIAGE</th>\n",
              "      <th>AGE</th>\n",
              "      <th>PAY_0</th>\n",
              "      <th>PAY_2</th>\n",
              "      <th>PAY_3</th>\n",
              "      <th>PAY_4</th>\n",
              "      <th>PAY_5</th>\n",
              "      <th>PAY_6</th>\n",
              "      <th>BILL_AMT1</th>\n",
              "      <th>BILL_AMT2</th>\n",
              "      <th>BILL_AMT3</th>\n",
              "      <th>BILL_AMT4</th>\n",
              "      <th>BILL_AMT5</th>\n",
              "      <th>BILL_AMT6</th>\n",
              "      <th>PAY_AMT1</th>\n",
              "      <th>PAY_AMT2</th>\n",
              "      <th>PAY_AMT3</th>\n",
              "      <th>PAY_AMT4</th>\n",
              "      <th>PAY_AMT5</th>\n",
              "      <th>PAY_AMT6</th>\n",
              "      <th>DEFAULT_NEXT_MONTH</th>\n",
              "    </tr>\n",
              "    <tr>\n",
              "      <th>ID</th>\n",
              "      <th></th>\n",
              "      <th></th>\n",
              "      <th></th>\n",
              "      <th></th>\n",
              "      <th></th>\n",
              "      <th></th>\n",
              "      <th></th>\n",
              "      <th></th>\n",
              "      <th></th>\n",
              "      <th></th>\n",
              "      <th></th>\n",
              "      <th></th>\n",
              "      <th></th>\n",
              "      <th></th>\n",
              "      <th></th>\n",
              "      <th></th>\n",
              "      <th></th>\n",
              "      <th></th>\n",
              "      <th></th>\n",
              "      <th></th>\n",
              "      <th></th>\n",
              "      <th></th>\n",
              "      <th></th>\n",
              "      <th></th>\n",
              "    </tr>\n",
              "  </thead>\n",
              "  <tbody>\n",
              "    <tr>\n",
              "      <th>1</th>\n",
              "      <td>20000</td>\n",
              "      <td>2</td>\n",
              "      <td>2</td>\n",
              "      <td>1</td>\n",
              "      <td>24</td>\n",
              "      <td>2</td>\n",
              "      <td>2</td>\n",
              "      <td>-1</td>\n",
              "      <td>-1</td>\n",
              "      <td>-2</td>\n",
              "      <td>-2</td>\n",
              "      <td>3913</td>\n",
              "      <td>3102</td>\n",
              "      <td>689</td>\n",
              "      <td>0</td>\n",
              "      <td>0</td>\n",
              "      <td>0</td>\n",
              "      <td>0</td>\n",
              "      <td>689</td>\n",
              "      <td>0</td>\n",
              "      <td>0</td>\n",
              "      <td>0</td>\n",
              "      <td>0</td>\n",
              "      <td>1</td>\n",
              "    </tr>\n",
              "    <tr>\n",
              "      <th>7</th>\n",
              "      <td>500000</td>\n",
              "      <td>1</td>\n",
              "      <td>1</td>\n",
              "      <td>2</td>\n",
              "      <td>29</td>\n",
              "      <td>0</td>\n",
              "      <td>0</td>\n",
              "      <td>0</td>\n",
              "      <td>0</td>\n",
              "      <td>0</td>\n",
              "      <td>0</td>\n",
              "      <td>367965</td>\n",
              "      <td>412023</td>\n",
              "      <td>445007</td>\n",
              "      <td>542653</td>\n",
              "      <td>483003</td>\n",
              "      <td>473944</td>\n",
              "      <td>55000</td>\n",
              "      <td>40000</td>\n",
              "      <td>38000</td>\n",
              "      <td>20239</td>\n",
              "      <td>13750</td>\n",
              "      <td>13770</td>\n",
              "      <td>0</td>\n",
              "    </tr>\n",
              "    <tr>\n",
              "      <th>9</th>\n",
              "      <td>140000</td>\n",
              "      <td>2</td>\n",
              "      <td>3</td>\n",
              "      <td>1</td>\n",
              "      <td>28</td>\n",
              "      <td>0</td>\n",
              "      <td>0</td>\n",
              "      <td>2</td>\n",
              "      <td>0</td>\n",
              "      <td>0</td>\n",
              "      <td>0</td>\n",
              "      <td>11285</td>\n",
              "      <td>14096</td>\n",
              "      <td>12108</td>\n",
              "      <td>12211</td>\n",
              "      <td>11793</td>\n",
              "      <td>3719</td>\n",
              "      <td>3329</td>\n",
              "      <td>0</td>\n",
              "      <td>432</td>\n",
              "      <td>1000</td>\n",
              "      <td>1000</td>\n",
              "      <td>1000</td>\n",
              "      <td>0</td>\n",
              "    </tr>\n",
              "    <tr>\n",
              "      <th>11</th>\n",
              "      <td>200000</td>\n",
              "      <td>2</td>\n",
              "      <td>3</td>\n",
              "      <td>2</td>\n",
              "      <td>34</td>\n",
              "      <td>0</td>\n",
              "      <td>0</td>\n",
              "      <td>2</td>\n",
              "      <td>0</td>\n",
              "      <td>0</td>\n",
              "      <td>-1</td>\n",
              "      <td>11073</td>\n",
              "      <td>9787</td>\n",
              "      <td>5535</td>\n",
              "      <td>2513</td>\n",
              "      <td>1828</td>\n",
              "      <td>3731</td>\n",
              "      <td>2306</td>\n",
              "      <td>12</td>\n",
              "      <td>50</td>\n",
              "      <td>300</td>\n",
              "      <td>3738</td>\n",
              "      <td>66</td>\n",
              "      <td>0</td>\n",
              "    </tr>\n",
              "    <tr>\n",
              "      <th>12</th>\n",
              "      <td>260000</td>\n",
              "      <td>2</td>\n",
              "      <td>1</td>\n",
              "      <td>2</td>\n",
              "      <td>51</td>\n",
              "      <td>-1</td>\n",
              "      <td>-1</td>\n",
              "      <td>-1</td>\n",
              "      <td>-1</td>\n",
              "      <td>-1</td>\n",
              "      <td>2</td>\n",
              "      <td>12261</td>\n",
              "      <td>21670</td>\n",
              "      <td>9966</td>\n",
              "      <td>8517</td>\n",
              "      <td>22287</td>\n",
              "      <td>13668</td>\n",
              "      <td>21818</td>\n",
              "      <td>9966</td>\n",
              "      <td>8583</td>\n",
              "      <td>22301</td>\n",
              "      <td>0</td>\n",
              "      <td>3640</td>\n",
              "      <td>0</td>\n",
              "    </tr>\n",
              "  </tbody>\n",
              "</table>\n",
              "</div>"
            ],
            "text/plain": [
              "    LIMIT_BAL  SEX  EDUCATION  MARRIAGE  AGE  PAY_0  PAY_2  PAY_3  PAY_4  \\\n",
              "ID                                                                         \n",
              "1       20000    2          2         1   24      2      2     -1     -1   \n",
              "7      500000    1          1         2   29      0      0      0      0   \n",
              "9      140000    2          3         1   28      0      0      2      0   \n",
              "11     200000    2          3         2   34      0      0      2      0   \n",
              "12     260000    2          1         2   51     -1     -1     -1     -1   \n",
              "\n",
              "    PAY_5  PAY_6  BILL_AMT1  BILL_AMT2  BILL_AMT3  BILL_AMT4  BILL_AMT5  \\\n",
              "ID                                                                        \n",
              "1      -2     -2       3913       3102        689          0          0   \n",
              "7       0      0     367965     412023     445007     542653     483003   \n",
              "9       0      0      11285      14096      12108      12211      11793   \n",
              "11      0     -1      11073       9787       5535       2513       1828   \n",
              "12     -1      2      12261      21670       9966       8517      22287   \n",
              "\n",
              "    BILL_AMT6  PAY_AMT1  PAY_AMT2  PAY_AMT3  PAY_AMT4  PAY_AMT5  PAY_AMT6  \\\n",
              "ID                                                                          \n",
              "1           0         0       689         0         0         0         0   \n",
              "7      473944     55000     40000     38000     20239     13750     13770   \n",
              "9        3719      3329         0       432      1000      1000      1000   \n",
              "11       3731      2306        12        50       300      3738        66   \n",
              "12      13668     21818      9966      8583     22301         0      3640   \n",
              "\n",
              "    DEFAULT_NEXT_MONTH  \n",
              "ID                      \n",
              "1                    1  \n",
              "7                    0  \n",
              "9                    0  \n",
              "11                   0  \n",
              "12                   0  "
            ]
          },
          "metadata": {
            "tags": []
          },
          "execution_count": 27
        }
      ]
    },
    {
      "cell_type": "code",
      "metadata": {
        "id": "Df4ImspXyfAO",
        "colab_type": "code",
        "colab": {
          "base_uri": "https://localhost:8080/",
          "height": 34
        },
        "outputId": "c7191f29-206c-4e96-981c-ca349b8b5a36"
      },
      "source": [
        "len(mono_constraints) "
      ],
      "execution_count": 24,
      "outputs": [
        {
          "output_type": "execute_result",
          "data": {
            "text/plain": [
              "23"
            ]
          },
          "metadata": {
            "tags": []
          },
          "execution_count": 24
        }
      ]
    },
    {
      "cell_type": "code",
      "metadata": {
        "id": "-43IUGbHvC7b",
        "colab_type": "code",
        "colab": {
          "base_uri": "https://localhost:8080/",
          "height": 69
        },
        "outputId": "d38527d8-3da1-4e67-e45a-15330b1abc09"
      },
      "source": [
        "# Leak's minimal shorthand \n",
        "params = {\n",
        "    \"max_bin\": 512,\n",
        "    \"learning_rate\": 0.05,\n",
        "    \"boosting_type\": \"gbdt\",\n",
        "    \"objective\": \"binary\",\n",
        "    \"metric\": \"auc\",\n",
        "    \"num_leaves\": 10,\n",
        "    \"verbose\": -1,\n",
        "    \"min_data\": 100,\n",
        "    \"boost_from_average\": True,\n",
        "    \"monotone_constraints\": mono_str,\n",
        "    \"bagging_fraction\":0.2,\n",
        "    \"bagging_seed\":11, ## doesn't seem to have an effect\n",
        "    \"random_seed\":4, ## doesn't seem to have an effect\n",
        "\n",
        "}\n",
        "\n",
        "drop_col = []\n",
        "d_train = lgb.Dataset(train.drop([\"DEFAULT_NEXT_MONTH\"],axis=1), label=train[\"DEFAULT_NEXT_MONTH\"])\n",
        "d_test = lgb.Dataset(test.drop([\"DEFAULT_NEXT_MONTH\"],axis=1), label=test[\"DEFAULT_NEXT_MONTH\"])\n",
        "model = lgb.train(params, d_train,num_boost_round=10000, valid_sets=[d_test], early_stopping_rounds=500, verbose_eval=1000)\n"
      ],
      "execution_count": 46,
      "outputs": [
        {
          "output_type": "stream",
          "text": [
            "Training until validation scores don't improve for 500 rounds.\n",
            "Early stopping, best iteration is:\n",
            "[203]\tvalid_0's auc: 0.78107\n"
          ],
          "name": "stdout"
        }
      ]
    },
    {
      "cell_type": "code",
      "metadata": {
        "id": "3oCQXolO3vl5",
        "colab_type": "code",
        "colab": {}
      },
      "source": [
        ""
      ],
      "execution_count": 0,
      "outputs": []
    },
    {
      "cell_type": "markdown",
      "metadata": {
        "id": "eBqIC_204-up",
        "colab_type": "text"
      },
      "source": [
        "Theoretically, as long as you choose the right learning rate and give it enough steps to train, the starting base score shouldn't affect the result."
      ]
    },
    {
      "cell_type": "markdown",
      "metadata": {
        "id": "5Q0k68TopOH2",
        "colab_type": "text"
      },
      "source": [
        "#### Global Shapley variable importance\n",
        "By setting `pred_contribs=True`, XGBoost's `predict()` function will return Shapley values for each row of the test set. Instead of relying on traditional single-value variable importance measures, local Shapley values for each input will be ploted below to get a more holistic and consisent measurement for the global importance of each input variable. Shapley values are introduced in greater detail in Section 6 below, but for now notice the monotonicity of the input variable contributions displayed in the Shapley summary plot."
      ]
    },
    {
      "cell_type": "code",
      "metadata": {
        "id": "3jqL1y-qpOH5",
        "colab_type": "code",
        "colab": {}
      },
      "source": [
        "# dtest is DMatrix\n",
        "# shap_values is Numpy array\n",
        "shap_values = model.predict(test.drop([\"DEFAULT_NEXT_MONTH\"],axis=1), pred_contrib=True)"
      ],
      "execution_count": 0,
      "outputs": []
    },
    {
      "cell_type": "code",
      "metadata": {
        "id": "tHMEOoTF5ige",
        "colab_type": "code",
        "colab": {
          "base_uri": "https://localhost:8080/",
          "height": 69
        },
        "outputId": "016e63ef-5f61-4656-b8a2-50912b7e3fb0"
      },
      "source": [
        "X"
      ],
      "execution_count": 55,
      "outputs": [
        {
          "output_type": "execute_result",
          "data": {
            "text/html": [
              "['LIMIT_BAL', 'SEX', 'EDUCATION', 'MARRIAGE', 'AGE', 'PAY_0', 'PAY_2', 'PAY_3', 'PAY_4', 'PAY_5', 'PAY_6', 'BILL_AMT1', 'BILL_AMT2', 'BILL_AMT3', 'BILL_AMT4', 'BILL_AMT5', 'BILL_AMT6', 'PAY_AMT1', 'PAY_AMT2', 'PAY_AMT3', 'PAY_AMT4', 'PAY_AMT5', 'PAY_AMT6']"
            ],
            "text/plain": [
              "['LIMIT_BAL',\n",
              " 'SEX',\n",
              " 'EDUCATION',\n",
              " 'MARRIAGE',\n",
              " 'AGE',\n",
              " 'PAY_0',\n",
              " 'PAY_2',\n",
              " 'PAY_3',\n",
              " 'PAY_4',\n",
              " 'PAY_5',\n",
              " 'PAY_6',\n",
              " 'BILL_AMT1',\n",
              " 'BILL_AMT2',\n",
              " 'BILL_AMT3',\n",
              " 'BILL_AMT4',\n",
              " 'BILL_AMT5',\n",
              " 'BILL_AMT6',\n",
              " 'PAY_AMT1',\n",
              " 'PAY_AMT2',\n",
              " 'PAY_AMT3',\n",
              " 'PAY_AMT4',\n",
              " 'PAY_AMT5',\n",
              " 'PAY_AMT6']"
            ]
          },
          "metadata": {
            "tags": []
          },
          "execution_count": 55
        }
      ]
    },
    {
      "cell_type": "code",
      "metadata": {
        "id": "7E1brddmpOH_",
        "colab_type": "code",
        "colab": {
          "base_uri": "https://localhost:8080/",
          "height": 585
        },
        "outputId": "7331ae2f-8fe0-4185-b308-7f8cd02d9ea5"
      },
      "source": [
        "# plot Shapley variable importance summary \n",
        "shap.summary_plot(shap_values[:, :-1], test.drop([\"DEFAULT_NEXT_MONTH\"],axis=1))"
      ],
      "execution_count": 56,
      "outputs": [
        {
          "output_type": "display_data",
          "data": {
            "image/png": "[encoded data removed]",
            "text/plain": [
              "<Figure size 576x684 with 2 Axes>"
            ]
          },
          "metadata": {
            "tags": []
          }
        }
      ]
    },
    {
      "cell_type": "markdown",
      "metadata": {
        "id": "3Pyp1WDYpOIH",
        "colab_type": "text"
      },
      "source": [
        "####  Display Shapley variable importance summary\n",
        "The variable importance ranking should be parsimonious with human domain knowledge and reasonable expectations. In this case, `PAY_0` is by far the most important variable. As someone's most recent behavior is a very good indicator of future behavior, this checks out."
      ]
    },
    {
      "cell_type": "markdown",
      "metadata": {
        "id": "wraA0esCpOII",
        "colab_type": "text"
      },
      "source": [
        "### 4. Calculating partial dependence and ICE to validate and explain monotonic behavior\n",
        "\n",
        "Partial dependence plots are used to view the global, average prediction behavior of a variable under the monotonic model. Partial dependence plots show the average prediction of the monotonic model as a function of specific values of an input variable of interest, indicating how the monotonic GBM predictions change based on the values of the input variable of interest, while taking nonlinearity into consideration and averaging out the effects of all other\n",
        "input variables. Partial dependence plots enable increased transparency into the monotonic GBM's mechanisms and enable validation and debugging of the monotonic GBM by comparing a variable's average predictions across its domain to known standards and reasonable expectations. Partial dependence plots are described in greater detail in *The Elements of Statistical Learning*, section 10.13: https://web.stanford.edu/~hastie/ElemStatLearn/printings/ESLII_print12.pdf.\n",
        "\n",
        "Individual conditional expectation (ICE) plots, a newer and less well-known adaptation of partial dependence plots, can be used to create more localized explanations for a single observation of data using the same basic ideas as partial dependence plots. ICE is also a type of nonlinear sensitivity analysis in which the model predictions for a single observation are measured while a feature of interest is varied over its domain. ICE increases understanding and transparency by displaying the nonlinear behavior of the monotonic GBM. ICE also enhances trust, accountability, and fairness by enabling comparisons of nonlinear behavior to human domain knowledge and reasonable expectations. ICE, as a type of sensitivity analysis, can also engender trust when model behavior on simulated or extreme data points is acceptable. A detailed description of ICE is available in this arXiv preprint: https://arxiv.org/abs/1309.6392.\n",
        "\n",
        "Because partial dependence and ICE are measured on the same scale, they can be displayed in the same line plot to compare the global, average prediction behavior for the entire model and the local prediction behavior for certain rows of data. Overlaying the two types of curves enables analysis of both global and local behavior simultaneously and provides an indication of the trustworthiness of the average behavior represented by partial dependence. (Partial dependence can be misleading in the presence of strong interactions or correlation. ICE curves diverging from the partial dependence curve can be indicative of such problems.) Histograms are also presented with the partial dependence and ICE curves, to enable a rough measure of epistemic uncertainty for model predictions: predictions based on small amounts of training data are likely less dependable."
      ]
    },
    {
      "cell_type": "markdown",
      "metadata": {
        "id": "C5cTq2aXpOIK",
        "colab_type": "text"
      },
      "source": [
        "#### Function for calculating partial dependence\n",
        "Since partial dependence and ICE will be calculated for several important variables in the GBM model, it's convenient to have a function doing so. It's probably best to analyze partial dependence and ICE for all variables in a model, but only the top three most important input variables will be investigated here. It's also a good idea to analyze partial dependence and ICE on the test data, or other holdout datasets, to see how the model will perform on new data. \n",
        "This simple function is designed to return partial dependence when it is called for an entire dataset and ICE when it is called for a single row. The `bins` argument will be used later to calculate ICE values at the same places in an input variable domain that partial dependence is calculated directly below. "
      ]
    },
    {
      "cell_type": "code",
      "metadata": {
        "id": "8eoYC0FOpOIM",
        "colab_type": "code",
        "colab": {}
      },
      "source": [
        "def par_dep(xs, frame, model, resolution=20, bins=None):\n",
        "    \n",
        "    \"\"\" Creates Pandas DataFrame containing partial dependence for a \n",
        "        single variable.\n",
        "    \n",
        "    Args:\n",
        "        xs: Variable for which to calculate partial dependence.\n",
        "        frame: Pandas DataFrame for which to calculate partial dependence.\n",
        "        model: XGBoost model for which to calculate partial dependence.\n",
        "        resolution: The number of points across the domain of xs for which \n",
        "                    to calculate partial dependence, default 20.\n",
        "        bins: List of values at which to set xs, default 20 equally-spaced \n",
        "              points between column minimum and maximum.\n",
        "    \n",
        "    Returns:\n",
        "        Pandas DataFrame containing partial dependence values.\n",
        "        \n",
        "    \"\"\"\n",
        "    \n",
        "    # turn off pesky Pandas copy warning\n",
        "    pd.options.mode.chained_assignment = None\n",
        "    \n",
        "    # initialize empty Pandas DataFrame with correct column names\n",
        "    par_dep_frame = pd.DataFrame(columns=[xs, 'partial_dependence'])\n",
        "    \n",
        "    # cache original column values \n",
        "    col_cache = frame.loc[:, xs].copy(deep=True)\n",
        "  \n",
        "    # determine values at which to calculate partial dependence\n",
        "    if bins == None:\n",
        "        min_ = frame[xs].min()\n",
        "        max_ = frame[xs].max()\n",
        "        by = (max_ - min_)/resolution\n",
        "        bins = np.arange(min_, max_, by)\n",
        "        \n",
        "    # calculate partial dependence  \n",
        "    # by setting column of interest to constant \n",
        "    # and scoring the altered data and taking the mean of the predictions\n",
        "    for j in bins:\n",
        "        frame.loc[:, xs] = j\n",
        "        par_dep_i = pd.DataFrame(model.predict(frame))\n",
        "        par_dep_j = par_dep_i.mean()[0]\n",
        "        par_dep_frame = par_dep_frame.append({xs:j,\n",
        "                                              'partial_dependence': par_dep_j}, \n",
        "                                              ignore_index=True)\n",
        "        \n",
        "    # return input frame to original cached state    \n",
        "    frame.loc[:, xs] = col_cache\n",
        "\n",
        "    return par_dep_frame\n"
      ],
      "execution_count": 0,
      "outputs": []
    },
    {
      "cell_type": "markdown",
      "metadata": {
        "id": "AIFItwinpOIT",
        "colab_type": "text"
      },
      "source": [
        "#### Calculate partial dependence for the most important input variables in the GBM\n",
        "The partial dependence for `LIMIT_BAL` can be seen to decrease as credit balance limits increase. This finding is aligned with expectations that the model predictions will be monotonically decreasing with increasing `LIMIT_BAL` and parsimonious with well-known business practices in credit lending. Partial dependence for other important values is displayed in plots further below."
      ]
    },
    {
      "cell_type": "code",
      "metadata": {
        "id": "ng_pKDnPpOIV",
        "colab_type": "code",
        "colab": {
          "base_uri": "https://localhost:8080/",
          "height": 677
        },
        "outputId": "5561b0f3-6bac-463e-b630-80acf46aaf56"
      },
      "source": [
        "par_dep_PAY_0 = par_dep('PAY_0', test.drop([\"DEFAULT_NEXT_MONTH\"],axis=1), model)         # calculate partial dependence for PAY_0\n",
        "par_dep_LIMIT_BAL = par_dep('LIMIT_BAL', test.drop([\"DEFAULT_NEXT_MONTH\"],axis=1), model) # calculate partial dependence for LIMIT_BAL\n",
        "par_dep_BILL_AMT1 = par_dep('BILL_AMT1', test.drop([\"DEFAULT_NEXT_MONTH\"],axis=1), model) # calculate partial dependence for BILL_AMT1\n",
        "\n",
        "# display partial dependence for LIMIT_BAL\n",
        "par_dep_LIMIT_BAL"
      ],
      "execution_count": 60,
      "outputs": [
        {
          "output_type": "execute_result",
          "data": {
            "text/html": [
              "<div>\n",
              "<style scoped>\n",
              "    .dataframe tbody tr th:only-of-type {\n",
              "        vertical-align: middle;\n",
              "    }\n",
              "\n",
              "    .dataframe tbody tr th {\n",
              "        vertical-align: top;\n",
              "    }\n",
              "\n",
              "    .dataframe thead th {\n",
              "        text-align: right;\n",
              "    }\n",
              "</style>\n",
              "<table border=\"1\" class=\"dataframe\">\n",
              "  <thead>\n",
              "    <tr style=\"text-align: right;\">\n",
              "      <th></th>\n",
              "      <th>LIMIT_BAL</th>\n",
              "      <th>partial_dependence</th>\n",
              "    </tr>\n",
              "  </thead>\n",
              "  <tbody>\n",
              "    <tr>\n",
              "      <th>0</th>\n",
              "      <td>10000.0</td>\n",
              "      <td>0.279659</td>\n",
              "    </tr>\n",
              "    <tr>\n",
              "      <th>1</th>\n",
              "      <td>59500.0</td>\n",
              "      <td>0.246689</td>\n",
              "    </tr>\n",
              "    <tr>\n",
              "      <th>2</th>\n",
              "      <td>109000.0</td>\n",
              "      <td>0.224878</td>\n",
              "    </tr>\n",
              "    <tr>\n",
              "      <th>3</th>\n",
              "      <td>158500.0</td>\n",
              "      <td>0.214962</td>\n",
              "    </tr>\n",
              "    <tr>\n",
              "      <th>4</th>\n",
              "      <td>208000.0</td>\n",
              "      <td>0.211952</td>\n",
              "    </tr>\n",
              "    <tr>\n",
              "      <th>5</th>\n",
              "      <td>257500.0</td>\n",
              "      <td>0.210509</td>\n",
              "    </tr>\n",
              "    <tr>\n",
              "      <th>6</th>\n",
              "      <td>307000.0</td>\n",
              "      <td>0.208517</td>\n",
              "    </tr>\n",
              "    <tr>\n",
              "      <th>7</th>\n",
              "      <td>356500.0</td>\n",
              "      <td>0.199648</td>\n",
              "    </tr>\n",
              "    <tr>\n",
              "      <th>8</th>\n",
              "      <td>406000.0</td>\n",
              "      <td>0.191785</td>\n",
              "    </tr>\n",
              "    <tr>\n",
              "      <th>9</th>\n",
              "      <td>455500.0</td>\n",
              "      <td>0.191785</td>\n",
              "    </tr>\n",
              "    <tr>\n",
              "      <th>10</th>\n",
              "      <td>505000.0</td>\n",
              "      <td>0.191785</td>\n",
              "    </tr>\n",
              "    <tr>\n",
              "      <th>11</th>\n",
              "      <td>554500.0</td>\n",
              "      <td>0.191785</td>\n",
              "    </tr>\n",
              "    <tr>\n",
              "      <th>12</th>\n",
              "      <td>604000.0</td>\n",
              "      <td>0.191785</td>\n",
              "    </tr>\n",
              "    <tr>\n",
              "      <th>13</th>\n",
              "      <td>653500.0</td>\n",
              "      <td>0.191785</td>\n",
              "    </tr>\n",
              "    <tr>\n",
              "      <th>14</th>\n",
              "      <td>703000.0</td>\n",
              "      <td>0.191785</td>\n",
              "    </tr>\n",
              "    <tr>\n",
              "      <th>15</th>\n",
              "      <td>752500.0</td>\n",
              "      <td>0.191785</td>\n",
              "    </tr>\n",
              "    <tr>\n",
              "      <th>16</th>\n",
              "      <td>802000.0</td>\n",
              "      <td>0.191785</td>\n",
              "    </tr>\n",
              "    <tr>\n",
              "      <th>17</th>\n",
              "      <td>851500.0</td>\n",
              "      <td>0.191785</td>\n",
              "    </tr>\n",
              "    <tr>\n",
              "      <th>18</th>\n",
              "      <td>901000.0</td>\n",
              "      <td>0.191785</td>\n",
              "    </tr>\n",
              "    <tr>\n",
              "      <th>19</th>\n",
              "      <td>950500.0</td>\n",
              "      <td>0.191785</td>\n",
              "    </tr>\n",
              "  </tbody>\n",
              "</table>\n",
              "</div>"
            ],
            "text/plain": [
              "    LIMIT_BAL  partial_dependence\n",
              "0     10000.0            0.279659\n",
              "1     59500.0            0.246689\n",
              "2    109000.0            0.224878\n",
              "3    158500.0            0.214962\n",
              "4    208000.0            0.211952\n",
              "5    257500.0            0.210509\n",
              "6    307000.0            0.208517\n",
              "7    356500.0            0.199648\n",
              "8    406000.0            0.191785\n",
              "9    455500.0            0.191785\n",
              "10   505000.0            0.191785\n",
              "11   554500.0            0.191785\n",
              "12   604000.0            0.191785\n",
              "13   653500.0            0.191785\n",
              "14   703000.0            0.191785\n",
              "15   752500.0            0.191785\n",
              "16   802000.0            0.191785\n",
              "17   851500.0            0.191785\n",
              "18   901000.0            0.191785\n",
              "19   950500.0            0.191785"
            ]
          },
          "metadata": {
            "tags": []
          },
          "execution_count": 60
        }
      ]
    },
    {
      "cell_type": "markdown",
      "metadata": {
        "id": "YkhA9MoepOIc",
        "colab_type": "text"
      },
      "source": [
        "#### Helper function for finding percentiles of predictions"
      ]
    },
    {
      "cell_type": "markdown",
      "metadata": {
        "id": "qeHHucSOpOIe",
        "colab_type": "text"
      },
      "source": [
        "ICE can be calculated for any row in the training or test data, but without intimate knowledge of a data source it can be difficult to know where to apply ICE. Calculating and analyzing ICE curves for every row of training and test data set can be overwhelming, even for the example credit card default dataset. One place to start with ICE is to calculate ICE curves at every decile of predicted probabilities in a dataset, giving an indication of local prediction behavior across the dataset. The function below finds and returns the row indices for the maximum, minimum, and deciles of one column in terms of another -- in this case, the model predictions (`p_DEFAULT_NEXT_MONTH`) and the row identifier (`ID`), respectively. "
      ]
    },
    {
      "cell_type": "code",
      "metadata": {
        "id": "ds10PIHkpOIh",
        "colab_type": "code",
        "colab": {}
      },
      "source": [
        "def get_percentile_dict(yhat, id_, frame):\n",
        "\n",
        "    \"\"\" Returns the percentiles of a column, yhat, as the indices based on \n",
        "        another column id_.\n",
        "    \n",
        "    Args:\n",
        "        yhat: Column in which to find percentiles.\n",
        "        id_: Id column that stores indices for percentiles of yhat.\n",
        "        frame: Pandas DataFrame containing yhat and id_. \n",
        "    \n",
        "    Returns:\n",
        "        Dictionary of percentile values and index column values.\n",
        "    \n",
        "    \"\"\"\n",
        "    \n",
        "    # create a copy of frame and sort it by yhat\n",
        "    sort_df = frame.copy(deep=True)\n",
        "    sort_df.sort_values(yhat, inplace=True)\n",
        "    sort_df.reset_index(inplace=True)\n",
        "    \n",
        "    # find top and bottom percentiles\n",
        "    percentiles_dict = {}\n",
        "    percentiles_dict[0] = sort_df.loc[0, id_]\n",
        "    percentiles_dict[99] = sort_df.loc[sort_df.shape[0]-1, id_]\n",
        "\n",
        "    # find 10th-90th percentiles\n",
        "    inc = sort_df.shape[0]//10\n",
        "    for i in range(1, 10):\n",
        "        percentiles_dict[i * 10] = sort_df.loc[i * inc,  id_]\n",
        "\n",
        "    return percentiles_dict\n"
      ],
      "execution_count": 0,
      "outputs": []
    },
    {
      "cell_type": "markdown",
      "metadata": {
        "id": "Sd1-o7gApOIn",
        "colab_type": "text"
      },
      "source": [
        "#### Find some percentiles of yhat in the test data\n",
        "The values for `ID` that correspond to the maximum, minimum, and deciles of `p_DEFAULT_NEXT_MONTH` are displayed below. ICE will be calculated for the rows of the test dataset associated with these `ID` values."
      ]
    },
    {
      "cell_type": "code",
      "metadata": {
        "id": "U-5mRMSp_t_m",
        "colab_type": "code",
        "colab": {
          "base_uri": "https://localhost:8080/",
          "height": 444
        },
        "outputId": "b76abc0c-eac8-492e-b656-22cf0689697f"
      },
      "source": [
        "yhat_test"
      ],
      "execution_count": 66,
      "outputs": [
        {
          "output_type": "execute_result",
          "data": {
            "text/html": [
              "<div>\n",
              "<style scoped>\n",
              "    .dataframe tbody tr th:only-of-type {\n",
              "        vertical-align: middle;\n",
              "    }\n",
              "\n",
              "    .dataframe tbody tr th {\n",
              "        vertical-align: top;\n",
              "    }\n",
              "\n",
              "    .dataframe thead th {\n",
              "        text-align: right;\n",
              "    }\n",
              "</style>\n",
              "<table border=\"1\" class=\"dataframe\">\n",
              "  <thead>\n",
              "    <tr style=\"text-align: right;\">\n",
              "      <th></th>\n",
              "      <th>LIMIT_BAL</th>\n",
              "      <th>SEX</th>\n",
              "      <th>EDUCATION</th>\n",
              "      <th>MARRIAGE</th>\n",
              "      <th>AGE</th>\n",
              "      <th>PAY_0</th>\n",
              "      <th>PAY_2</th>\n",
              "      <th>PAY_3</th>\n",
              "      <th>PAY_4</th>\n",
              "      <th>PAY_5</th>\n",
              "      <th>PAY_6</th>\n",
              "      <th>BILL_AMT1</th>\n",
              "      <th>BILL_AMT2</th>\n",
              "      <th>BILL_AMT3</th>\n",
              "      <th>BILL_AMT4</th>\n",
              "      <th>BILL_AMT5</th>\n",
              "      <th>BILL_AMT6</th>\n",
              "      <th>PAY_AMT1</th>\n",
              "      <th>PAY_AMT2</th>\n",
              "      <th>PAY_AMT3</th>\n",
              "      <th>PAY_AMT4</th>\n",
              "      <th>PAY_AMT5</th>\n",
              "      <th>PAY_AMT6</th>\n",
              "      <th>DEFAULT_NEXT_MONTH</th>\n",
              "      <th>p_DEFAULT_NEXT_MONTH</th>\n",
              "    </tr>\n",
              "  </thead>\n",
              "  <tbody>\n",
              "    <tr>\n",
              "      <th>0</th>\n",
              "      <td>NaN</td>\n",
              "      <td>NaN</td>\n",
              "      <td>NaN</td>\n",
              "      <td>NaN</td>\n",
              "      <td>NaN</td>\n",
              "      <td>NaN</td>\n",
              "      <td>NaN</td>\n",
              "      <td>NaN</td>\n",
              "      <td>NaN</td>\n",
              "      <td>NaN</td>\n",
              "      <td>NaN</td>\n",
              "      <td>NaN</td>\n",
              "      <td>NaN</td>\n",
              "      <td>NaN</td>\n",
              "      <td>NaN</td>\n",
              "      <td>NaN</td>\n",
              "      <td>NaN</td>\n",
              "      <td>NaN</td>\n",
              "      <td>NaN</td>\n",
              "      <td>NaN</td>\n",
              "      <td>NaN</td>\n",
              "      <td>NaN</td>\n",
              "      <td>NaN</td>\n",
              "      <td>NaN</td>\n",
              "      <td>0.741446</td>\n",
              "    </tr>\n",
              "    <tr>\n",
              "      <th>1</th>\n",
              "      <td>20000.0</td>\n",
              "      <td>2.0</td>\n",
              "      <td>2.0</td>\n",
              "      <td>1.0</td>\n",
              "      <td>24.0</td>\n",
              "      <td>2.0</td>\n",
              "      <td>2.0</td>\n",
              "      <td>-1.0</td>\n",
              "      <td>-1.0</td>\n",
              "      <td>-2.0</td>\n",
              "      <td>-2.0</td>\n",
              "      <td>3913.0</td>\n",
              "      <td>3102.0</td>\n",
              "      <td>689.0</td>\n",
              "      <td>0.0</td>\n",
              "      <td>0.0</td>\n",
              "      <td>0.0</td>\n",
              "      <td>0.0</td>\n",
              "      <td>689.0</td>\n",
              "      <td>0.0</td>\n",
              "      <td>0.0</td>\n",
              "      <td>0.0</td>\n",
              "      <td>0.0</td>\n",
              "      <td>1.0</td>\n",
              "      <td>0.023761</td>\n",
              "    </tr>\n",
              "    <tr>\n",
              "      <th>2</th>\n",
              "      <td>NaN</td>\n",
              "      <td>NaN</td>\n",
              "      <td>NaN</td>\n",
              "      <td>NaN</td>\n",
              "      <td>NaN</td>\n",
              "      <td>NaN</td>\n",
              "      <td>NaN</td>\n",
              "      <td>NaN</td>\n",
              "      <td>NaN</td>\n",
              "      <td>NaN</td>\n",
              "      <td>NaN</td>\n",
              "      <td>NaN</td>\n",
              "      <td>NaN</td>\n",
              "      <td>NaN</td>\n",
              "      <td>NaN</td>\n",
              "      <td>NaN</td>\n",
              "      <td>NaN</td>\n",
              "      <td>NaN</td>\n",
              "      <td>NaN</td>\n",
              "      <td>NaN</td>\n",
              "      <td>NaN</td>\n",
              "      <td>NaN</td>\n",
              "      <td>NaN</td>\n",
              "      <td>NaN</td>\n",
              "      <td>0.245857</td>\n",
              "    </tr>\n",
              "    <tr>\n",
              "      <th>3</th>\n",
              "      <td>NaN</td>\n",
              "      <td>NaN</td>\n",
              "      <td>NaN</td>\n",
              "      <td>NaN</td>\n",
              "      <td>NaN</td>\n",
              "      <td>NaN</td>\n",
              "      <td>NaN</td>\n",
              "      <td>NaN</td>\n",
              "      <td>NaN</td>\n",
              "      <td>NaN</td>\n",
              "      <td>NaN</td>\n",
              "      <td>NaN</td>\n",
              "      <td>NaN</td>\n",
              "      <td>NaN</td>\n",
              "      <td>NaN</td>\n",
              "      <td>NaN</td>\n",
              "      <td>NaN</td>\n",
              "      <td>NaN</td>\n",
              "      <td>NaN</td>\n",
              "      <td>NaN</td>\n",
              "      <td>NaN</td>\n",
              "      <td>NaN</td>\n",
              "      <td>NaN</td>\n",
              "      <td>NaN</td>\n",
              "      <td>0.234787</td>\n",
              "    </tr>\n",
              "    <tr>\n",
              "      <th>4</th>\n",
              "      <td>NaN</td>\n",
              "      <td>NaN</td>\n",
              "      <td>NaN</td>\n",
              "      <td>NaN</td>\n",
              "      <td>NaN</td>\n",
              "      <td>NaN</td>\n",
              "      <td>NaN</td>\n",
              "      <td>NaN</td>\n",
              "      <td>NaN</td>\n",
              "      <td>NaN</td>\n",
              "      <td>NaN</td>\n",
              "      <td>NaN</td>\n",
              "      <td>NaN</td>\n",
              "      <td>NaN</td>\n",
              "      <td>NaN</td>\n",
              "      <td>NaN</td>\n",
              "      <td>NaN</td>\n",
              "      <td>NaN</td>\n",
              "      <td>NaN</td>\n",
              "      <td>NaN</td>\n",
              "      <td>NaN</td>\n",
              "      <td>NaN</td>\n",
              "      <td>NaN</td>\n",
              "      <td>NaN</td>\n",
              "      <td>0.076015</td>\n",
              "    </tr>\n",
              "    <tr>\n",
              "      <th>...</th>\n",
              "      <td>...</td>\n",
              "      <td>...</td>\n",
              "      <td>...</td>\n",
              "      <td>...</td>\n",
              "      <td>...</td>\n",
              "      <td>...</td>\n",
              "      <td>...</td>\n",
              "      <td>...</td>\n",
              "      <td>...</td>\n",
              "      <td>...</td>\n",
              "      <td>...</td>\n",
              "      <td>...</td>\n",
              "      <td>...</td>\n",
              "      <td>...</td>\n",
              "      <td>...</td>\n",
              "      <td>...</td>\n",
              "      <td>...</td>\n",
              "      <td>...</td>\n",
              "      <td>...</td>\n",
              "      <td>...</td>\n",
              "      <td>...</td>\n",
              "      <td>...</td>\n",
              "      <td>...</td>\n",
              "      <td>...</td>\n",
              "      <td>...</td>\n",
              "    </tr>\n",
              "    <tr>\n",
              "      <th>29974</th>\n",
              "      <td>230000.0</td>\n",
              "      <td>1.0</td>\n",
              "      <td>2.0</td>\n",
              "      <td>1.0</td>\n",
              "      <td>35.0</td>\n",
              "      <td>1.0</td>\n",
              "      <td>-2.0</td>\n",
              "      <td>-2.0</td>\n",
              "      <td>-2.0</td>\n",
              "      <td>-2.0</td>\n",
              "      <td>-2.0</td>\n",
              "      <td>0.0</td>\n",
              "      <td>0.0</td>\n",
              "      <td>0.0</td>\n",
              "      <td>0.0</td>\n",
              "      <td>0.0</td>\n",
              "      <td>0.0</td>\n",
              "      <td>0.0</td>\n",
              "      <td>0.0</td>\n",
              "      <td>0.0</td>\n",
              "      <td>0.0</td>\n",
              "      <td>0.0</td>\n",
              "      <td>0.0</td>\n",
              "      <td>1.0</td>\n",
              "      <td>NaN</td>\n",
              "    </tr>\n",
              "    <tr>\n",
              "      <th>29977</th>\n",
              "      <td>40000.0</td>\n",
              "      <td>1.0</td>\n",
              "      <td>2.0</td>\n",
              "      <td>2.0</td>\n",
              "      <td>47.0</td>\n",
              "      <td>2.0</td>\n",
              "      <td>2.0</td>\n",
              "      <td>3.0</td>\n",
              "      <td>2.0</td>\n",
              "      <td>2.0</td>\n",
              "      <td>2.0</td>\n",
              "      <td>52358.0</td>\n",
              "      <td>54892.0</td>\n",
              "      <td>53415.0</td>\n",
              "      <td>51259.0</td>\n",
              "      <td>47151.0</td>\n",
              "      <td>46934.0</td>\n",
              "      <td>4000.0</td>\n",
              "      <td>0.0</td>\n",
              "      <td>2000.0</td>\n",
              "      <td>0.0</td>\n",
              "      <td>3520.0</td>\n",
              "      <td>0.0</td>\n",
              "      <td>1.0</td>\n",
              "      <td>NaN</td>\n",
              "    </tr>\n",
              "    <tr>\n",
              "      <th>29987</th>\n",
              "      <td>360000.0</td>\n",
              "      <td>1.0</td>\n",
              "      <td>1.0</td>\n",
              "      <td>2.0</td>\n",
              "      <td>35.0</td>\n",
              "      <td>-1.0</td>\n",
              "      <td>-1.0</td>\n",
              "      <td>-2.0</td>\n",
              "      <td>-2.0</td>\n",
              "      <td>-2.0</td>\n",
              "      <td>-2.0</td>\n",
              "      <td>2220.0</td>\n",
              "      <td>0.0</td>\n",
              "      <td>0.0</td>\n",
              "      <td>0.0</td>\n",
              "      <td>0.0</td>\n",
              "      <td>0.0</td>\n",
              "      <td>0.0</td>\n",
              "      <td>0.0</td>\n",
              "      <td>0.0</td>\n",
              "      <td>0.0</td>\n",
              "      <td>0.0</td>\n",
              "      <td>0.0</td>\n",
              "      <td>0.0</td>\n",
              "      <td>NaN</td>\n",
              "    </tr>\n",
              "    <tr>\n",
              "      <th>29992</th>\n",
              "      <td>210000.0</td>\n",
              "      <td>1.0</td>\n",
              "      <td>2.0</td>\n",
              "      <td>1.0</td>\n",
              "      <td>34.0</td>\n",
              "      <td>3.0</td>\n",
              "      <td>2.0</td>\n",
              "      <td>2.0</td>\n",
              "      <td>2.0</td>\n",
              "      <td>2.0</td>\n",
              "      <td>2.0</td>\n",
              "      <td>2500.0</td>\n",
              "      <td>2500.0</td>\n",
              "      <td>2500.0</td>\n",
              "      <td>2500.0</td>\n",
              "      <td>2500.0</td>\n",
              "      <td>2500.0</td>\n",
              "      <td>0.0</td>\n",
              "      <td>0.0</td>\n",
              "      <td>0.0</td>\n",
              "      <td>0.0</td>\n",
              "      <td>0.0</td>\n",
              "      <td>0.0</td>\n",
              "      <td>1.0</td>\n",
              "      <td>NaN</td>\n",
              "    </tr>\n",
              "    <tr>\n",
              "      <th>29996</th>\n",
              "      <td>220000.0</td>\n",
              "      <td>1.0</td>\n",
              "      <td>3.0</td>\n",
              "      <td>1.0</td>\n",
              "      <td>39.0</td>\n",
              "      <td>0.0</td>\n",
              "      <td>0.0</td>\n",
              "      <td>0.0</td>\n",
              "      <td>0.0</td>\n",
              "      <td>0.0</td>\n",
              "      <td>0.0</td>\n",
              "      <td>188948.0</td>\n",
              "      <td>192815.0</td>\n",
              "      <td>208365.0</td>\n",
              "      <td>88004.0</td>\n",
              "      <td>31237.0</td>\n",
              "      <td>15980.0</td>\n",
              "      <td>8500.0</td>\n",
              "      <td>20000.0</td>\n",
              "      <td>5003.0</td>\n",
              "      <td>3047.0</td>\n",
              "      <td>5000.0</td>\n",
              "      <td>1000.0</td>\n",
              "      <td>0.0</td>\n",
              "      <td>NaN</td>\n",
              "    </tr>\n",
              "  </tbody>\n",
              "</table>\n",
              "<p>15333 rows × 25 columns</p>\n",
              "</div>"
            ],
            "text/plain": [
              "       LIMIT_BAL  SEX  EDUCATION  MARRIAGE   AGE  PAY_0  PAY_2  PAY_3  PAY_4  \\\n",
              "0            NaN  NaN        NaN       NaN   NaN    NaN    NaN    NaN    NaN   \n",
              "1        20000.0  2.0        2.0       1.0  24.0    2.0    2.0   -1.0   -1.0   \n",
              "2            NaN  NaN        NaN       NaN   NaN    NaN    NaN    NaN    NaN   \n",
              "3            NaN  NaN        NaN       NaN   NaN    NaN    NaN    NaN    NaN   \n",
              "4            NaN  NaN        NaN       NaN   NaN    NaN    NaN    NaN    NaN   \n",
              "...          ...  ...        ...       ...   ...    ...    ...    ...    ...   \n",
              "29974   230000.0  1.0        2.0       1.0  35.0    1.0   -2.0   -2.0   -2.0   \n",
              "29977    40000.0  1.0        2.0       2.0  47.0    2.0    2.0    3.0    2.0   \n",
              "29987   360000.0  1.0        1.0       2.0  35.0   -1.0   -1.0   -2.0   -2.0   \n",
              "29992   210000.0  1.0        2.0       1.0  34.0    3.0    2.0    2.0    2.0   \n",
              "29996   220000.0  1.0        3.0       1.0  39.0    0.0    0.0    0.0    0.0   \n",
              "\n",
              "       PAY_5  PAY_6  BILL_AMT1  BILL_AMT2  BILL_AMT3  BILL_AMT4  BILL_AMT5  \\\n",
              "0        NaN    NaN        NaN        NaN        NaN        NaN        NaN   \n",
              "1       -2.0   -2.0     3913.0     3102.0      689.0        0.0        0.0   \n",
              "2        NaN    NaN        NaN        NaN        NaN        NaN        NaN   \n",
              "3        NaN    NaN        NaN        NaN        NaN        NaN        NaN   \n",
              "4        NaN    NaN        NaN        NaN        NaN        NaN        NaN   \n",
              "...      ...    ...        ...        ...        ...        ...        ...   \n",
              "29974   -2.0   -2.0        0.0        0.0        0.0        0.0        0.0   \n",
              "29977    2.0    2.0    52358.0    54892.0    53415.0    51259.0    47151.0   \n",
              "29987   -2.0   -2.0     2220.0        0.0        0.0        0.0        0.0   \n",
              "29992    2.0    2.0     2500.0     2500.0     2500.0     2500.0     2500.0   \n",
              "29996    0.0    0.0   188948.0   192815.0   208365.0    88004.0    31237.0   \n",
              "\n",
              "       BILL_AMT6  PAY_AMT1  PAY_AMT2  PAY_AMT3  PAY_AMT4  PAY_AMT5  PAY_AMT6  \\\n",
              "0            NaN       NaN       NaN       NaN       NaN       NaN       NaN   \n",
              "1            0.0       0.0     689.0       0.0       0.0       0.0       0.0   \n",
              "2            NaN       NaN       NaN       NaN       NaN       NaN       NaN   \n",
              "3            NaN       NaN       NaN       NaN       NaN       NaN       NaN   \n",
              "4            NaN       NaN       NaN       NaN       NaN       NaN       NaN   \n",
              "...          ...       ...       ...       ...       ...       ...       ...   \n",
              "29974        0.0       0.0       0.0       0.0       0.0       0.0       0.0   \n",
              "29977    46934.0    4000.0       0.0    2000.0       0.0    3520.0       0.0   \n",
              "29987        0.0       0.0       0.0       0.0       0.0       0.0       0.0   \n",
              "29992     2500.0       0.0       0.0       0.0       0.0       0.0       0.0   \n",
              "29996    15980.0    8500.0   20000.0    5003.0    3047.0    5000.0    1000.0   \n",
              "\n",
              "       DEFAULT_NEXT_MONTH  p_DEFAULT_NEXT_MONTH  \n",
              "0                     NaN              0.741446  \n",
              "1                     1.0              0.023761  \n",
              "2                     NaN              0.245857  \n",
              "3                     NaN              0.234787  \n",
              "4                     NaN              0.076015  \n",
              "...                   ...                   ...  \n",
              "29974                 1.0                   NaN  \n",
              "29977                 1.0                   NaN  \n",
              "29987                 0.0                   NaN  \n",
              "29992                 1.0                   NaN  \n",
              "29996                 0.0                   NaN  \n",
              "\n",
              "[15333 rows x 25 columns]"
            ]
          },
          "metadata": {
            "tags": []
          },
          "execution_count": 66
        }
      ]
    },
    {
      "cell_type": "code",
      "metadata": {
        "id": "MdMTv0ClpOIp",
        "colab_type": "code",
        "colab": {
          "base_uri": "https://localhost:8080/",
          "height": 208
        },
        "outputId": "fafa66b7-e951-4ca8-bc4b-e5685c5f7a43"
      },
      "source": [
        "# merge GBM predictions onto test data\n",
        "yhat_test = pd.concat([test.reset_index(), pd.DataFrame(model.predict(test.drop([\"DEFAULT_NEXT_MONTH\"],axis=1)))],axis=1)\n",
        "yhat_test = yhat_test.rename(columns={0:'p_DEFAULT_NEXT_MONTH'})\n",
        "\n",
        "# find percentiles of predictions\n",
        "percentile_dict = get_percentile_dict('p_DEFAULT_NEXT_MONTH', 'ID', yhat_test)\n",
        "\n",
        "# display percentiles dictionary\n",
        "# ID values for rows\n",
        "# from lowest prediction \n",
        "# to highest prediction\n",
        "percentile_dict"
      ],
      "execution_count": 67,
      "outputs": [
        {
          "output_type": "execute_result",
          "data": {
            "text/plain": [
              "{0: 23477,\n",
              " 10: 17303,\n",
              " 20: 7996,\n",
              " 30: 9204,\n",
              " 40: 11944,\n",
              " 50: 12789,\n",
              " 60: 27040,\n",
              " 70: 3514,\n",
              " 80: 11397,\n",
              " 90: 12936,\n",
              " 99: 17757}"
            ]
          },
          "metadata": {
            "tags": []
          },
          "execution_count": 67
        }
      ]
    },
    {
      "cell_type": "markdown",
      "metadata": {
        "id": "eCQ6ZnZcpOIw",
        "colab_type": "text"
      },
      "source": [
        "#### Calculate ICE curve values\n",
        "ICE values represent a model's prediction for a row of data while an input variable of interest is varied across its domain. The values of the input variable are chosen to match the values at which partial dependence was calculated earlier, and ICE is calculated for the top three most important variables and for rows at each percentile of the test dataset. "
      ]
    },
    {
      "cell_type": "code",
      "metadata": {
        "id": "MuC7wvRlpOI0",
        "colab_type": "code",
        "colab": {}
      },
      "source": [
        "# retreive bins from original partial dependence calculation\n",
        "\n",
        "bins_PAY_0 = list(par_dep_PAY_0['PAY_0'])\n",
        "bins_LIMIT_BAL = list(par_dep_LIMIT_BAL['LIMIT_BAL'])\n",
        "bins_BILL_AMT1 = list(par_dep_BILL_AMT1['BILL_AMT1'])\n",
        "\n",
        "# for each percentile in percentile_dict\n",
        "# create a new column in the par_dep frame \n",
        "# representing the ICE curve for that percentile\n",
        "# and the variables of interest\n",
        "test_n = test.drop([\"DEFAULT_NEXT_MONTH\"],axis=1).reset_index()\n",
        "\n",
        "for i in sorted(percentile_dict.keys()):\n",
        "    \n",
        "    col_name = 'Percentile_' + str(i)\n",
        "    \n",
        "    # ICE curves for PAY_0 across percentiles at bins_PAY_0 intervals\n",
        "    par_dep_PAY_0[col_name] = par_dep('PAY_0', \n",
        "                                    test_n[test_n['ID'] == int(percentile_dict[i])][X],  \n",
        "                                    model, \n",
        "                                    bins=bins_PAY_0)['partial_dependence']\n",
        "    \n",
        "    # ICE curves for LIMIT_BAL across percentiles at bins_LIMIT_BAL intervals\n",
        "    par_dep_LIMIT_BAL[col_name] = par_dep('LIMIT_BAL', \n",
        "                                          test_n[test_n['ID'] == int(percentile_dict[i])][X], \n",
        "                                          model, \n",
        "                                          bins=bins_LIMIT_BAL)['partial_dependence']\n",
        "    \n",
        "\n",
        "\n",
        "    # ICE curves for BILL_AMT1 across percentiles at bins_BILL_AMT1 intervals\n",
        "    par_dep_BILL_AMT1[col_name] = par_dep('BILL_AMT1', \n",
        "                                          test_n[test_n['ID'] == int(percentile_dict[i])][X],  \n",
        "                                          model, \n",
        "                                          bins=bins_BILL_AMT1)['partial_dependence']"
      ],
      "execution_count": 0,
      "outputs": []
    },
    {
      "cell_type": "markdown",
      "metadata": {
        "id": "bkBws3YupOI4",
        "colab_type": "text"
      },
      "source": [
        "#### Display partial dependence and ICE for `LIMIT_BAL`\n",
        "Partial dependence and ICE values for rows at the minimum, maximum and deciles (0%, 10%, 20%, ..., 90%, 99%) of predictions for `DEFAULT_NEXT_MONTH` and at the values of `LIMIT_BAL` used for partial dependence are shown here. Each column of ICE values will be a curve in the plots below. ICE values represent a prediction for a row of test data, at a percentile of interest noted in the column name above, and setting `LIMIT_BAL` to the value of `LIMIT_BAL` at right. Notice that monotonic decreasing prediction behavior for `LIMIT_BAL` holds at each displayed percentile of predicted `DEFAULT_NEXT_MONTH`, helping to validate that the trained GBM predictions are monotonic for `LIMIT_BAL`."
      ]
    },
    {
      "cell_type": "code",
      "metadata": {
        "id": "VXAakYmepOI6",
        "colab_type": "code",
        "colab": {
          "base_uri": "https://localhost:8080/",
          "height": 697
        },
        "outputId": "9ce26b94-4c4a-4f4b-b3ad-cec260c5b6fb"
      },
      "source": [
        "par_dep_LIMIT_BAL"
      ],
      "execution_count": 69,
      "outputs": [
        {
          "output_type": "execute_result",
          "data": {
            "text/html": [
              "<div>\n",
              "<style scoped>\n",
              "    .dataframe tbody tr th:only-of-type {\n",
              "        vertical-align: middle;\n",
              "    }\n",
              "\n",
              "    .dataframe tbody tr th {\n",
              "        vertical-align: top;\n",
              "    }\n",
              "\n",
              "    .dataframe thead th {\n",
              "        text-align: right;\n",
              "    }\n",
              "</style>\n",
              "<table border=\"1\" class=\"dataframe\">\n",
              "  <thead>\n",
              "    <tr style=\"text-align: right;\">\n",
              "      <th></th>\n",
              "      <th>LIMIT_BAL</th>\n",
              "      <th>partial_dependence</th>\n",
              "      <th>Percentile_0</th>\n",
              "      <th>Percentile_10</th>\n",
              "      <th>Percentile_20</th>\n",
              "      <th>Percentile_30</th>\n",
              "      <th>Percentile_40</th>\n",
              "      <th>Percentile_50</th>\n",
              "      <th>Percentile_60</th>\n",
              "      <th>Percentile_70</th>\n",
              "      <th>Percentile_80</th>\n",
              "      <th>Percentile_90</th>\n",
              "      <th>Percentile_99</th>\n",
              "    </tr>\n",
              "  </thead>\n",
              "  <tbody>\n",
              "    <tr>\n",
              "      <th>0</th>\n",
              "      <td>10000.0</td>\n",
              "      <td>0.279659</td>\n",
              "      <td>0.017710</td>\n",
              "      <td>0.109711</td>\n",
              "      <td>0.132339</td>\n",
              "      <td>0.111569</td>\n",
              "      <td>0.133364</td>\n",
              "      <td>0.263167</td>\n",
              "      <td>0.274936</td>\n",
              "      <td>0.335844</td>\n",
              "      <td>0.336428</td>\n",
              "      <td>0.629257</td>\n",
              "      <td>0.922201</td>\n",
              "    </tr>\n",
              "    <tr>\n",
              "      <th>1</th>\n",
              "      <td>59500.0</td>\n",
              "      <td>0.246689</td>\n",
              "      <td>0.011464</td>\n",
              "      <td>0.096562</td>\n",
              "      <td>0.125872</td>\n",
              "      <td>0.101442</td>\n",
              "      <td>0.126854</td>\n",
              "      <td>0.177702</td>\n",
              "      <td>0.206752</td>\n",
              "      <td>0.242107</td>\n",
              "      <td>0.324046</td>\n",
              "      <td>0.608156</td>\n",
              "      <td>0.881062</td>\n",
              "    </tr>\n",
              "    <tr>\n",
              "      <th>2</th>\n",
              "      <td>109000.0</td>\n",
              "      <td>0.224878</td>\n",
              "      <td>0.005992</td>\n",
              "      <td>0.074086</td>\n",
              "      <td>0.092629</td>\n",
              "      <td>0.075265</td>\n",
              "      <td>0.087401</td>\n",
              "      <td>0.164533</td>\n",
              "      <td>0.197863</td>\n",
              "      <td>0.233021</td>\n",
              "      <td>0.308116</td>\n",
              "      <td>0.601457</td>\n",
              "      <td>0.881062</td>\n",
              "    </tr>\n",
              "    <tr>\n",
              "      <th>3</th>\n",
              "      <td>158500.0</td>\n",
              "      <td>0.214962</td>\n",
              "      <td>0.004265</td>\n",
              "      <td>0.065973</td>\n",
              "      <td>0.082666</td>\n",
              "      <td>0.064447</td>\n",
              "      <td>0.068675</td>\n",
              "      <td>0.155265</td>\n",
              "      <td>0.189737</td>\n",
              "      <td>0.225953</td>\n",
              "      <td>0.296253</td>\n",
              "      <td>0.598225</td>\n",
              "      <td>0.881062</td>\n",
              "    </tr>\n",
              "    <tr>\n",
              "      <th>4</th>\n",
              "      <td>208000.0</td>\n",
              "      <td>0.211952</td>\n",
              "      <td>0.004023</td>\n",
              "      <td>0.065973</td>\n",
              "      <td>0.080524</td>\n",
              "      <td>0.064447</td>\n",
              "      <td>0.066869</td>\n",
              "      <td>0.143649</td>\n",
              "      <td>0.184366</td>\n",
              "      <td>0.222735</td>\n",
              "      <td>0.291457</td>\n",
              "      <td>0.596577</td>\n",
              "      <td>0.879338</td>\n",
              "    </tr>\n",
              "    <tr>\n",
              "      <th>5</th>\n",
              "      <td>257500.0</td>\n",
              "      <td>0.210509</td>\n",
              "      <td>0.004023</td>\n",
              "      <td>0.065470</td>\n",
              "      <td>0.079482</td>\n",
              "      <td>0.064447</td>\n",
              "      <td>0.065270</td>\n",
              "      <td>0.142451</td>\n",
              "      <td>0.183851</td>\n",
              "      <td>0.221047</td>\n",
              "      <td>0.290226</td>\n",
              "      <td>0.595503</td>\n",
              "      <td>0.879338</td>\n",
              "    </tr>\n",
              "    <tr>\n",
              "      <th>6</th>\n",
              "      <td>307000.0</td>\n",
              "      <td>0.208517</td>\n",
              "      <td>0.003854</td>\n",
              "      <td>0.063332</td>\n",
              "      <td>0.078200</td>\n",
              "      <td>0.063859</td>\n",
              "      <td>0.063509</td>\n",
              "      <td>0.141424</td>\n",
              "      <td>0.183851</td>\n",
              "      <td>0.218256</td>\n",
              "      <td>0.279905</td>\n",
              "      <td>0.595503</td>\n",
              "      <td>0.879338</td>\n",
              "    </tr>\n",
              "    <tr>\n",
              "      <th>7</th>\n",
              "      <td>356500.0</td>\n",
              "      <td>0.199648</td>\n",
              "      <td>0.003186</td>\n",
              "      <td>0.055378</td>\n",
              "      <td>0.067393</td>\n",
              "      <td>0.057271</td>\n",
              "      <td>0.055673</td>\n",
              "      <td>0.122251</td>\n",
              "      <td>0.183851</td>\n",
              "      <td>0.200900</td>\n",
              "      <td>0.263366</td>\n",
              "      <td>0.587647</td>\n",
              "      <td>0.878329</td>\n",
              "    </tr>\n",
              "    <tr>\n",
              "      <th>8</th>\n",
              "      <td>406000.0</td>\n",
              "      <td>0.191785</td>\n",
              "      <td>0.003186</td>\n",
              "      <td>0.053129</td>\n",
              "      <td>0.064458</td>\n",
              "      <td>0.056138</td>\n",
              "      <td>0.044245</td>\n",
              "      <td>0.122251</td>\n",
              "      <td>0.183851</td>\n",
              "      <td>0.200900</td>\n",
              "      <td>0.254224</td>\n",
              "      <td>0.583385</td>\n",
              "      <td>0.876822</td>\n",
              "    </tr>\n",
              "    <tr>\n",
              "      <th>9</th>\n",
              "      <td>455500.0</td>\n",
              "      <td>0.191785</td>\n",
              "      <td>0.003186</td>\n",
              "      <td>0.053129</td>\n",
              "      <td>0.064458</td>\n",
              "      <td>0.056138</td>\n",
              "      <td>0.044245</td>\n",
              "      <td>0.122251</td>\n",
              "      <td>0.183851</td>\n",
              "      <td>0.200900</td>\n",
              "      <td>0.254224</td>\n",
              "      <td>0.583385</td>\n",
              "      <td>0.876822</td>\n",
              "    </tr>\n",
              "    <tr>\n",
              "      <th>10</th>\n",
              "      <td>505000.0</td>\n",
              "      <td>0.191785</td>\n",
              "      <td>0.003186</td>\n",
              "      <td>0.053129</td>\n",
              "      <td>0.064458</td>\n",
              "      <td>0.056138</td>\n",
              "      <td>0.044245</td>\n",
              "      <td>0.122251</td>\n",
              "      <td>0.183851</td>\n",
              "      <td>0.200900</td>\n",
              "      <td>0.254224</td>\n",
              "      <td>0.583385</td>\n",
              "      <td>0.876822</td>\n",
              "    </tr>\n",
              "    <tr>\n",
              "      <th>11</th>\n",
              "      <td>554500.0</td>\n",
              "      <td>0.191785</td>\n",
              "      <td>0.003186</td>\n",
              "      <td>0.053129</td>\n",
              "      <td>0.064458</td>\n",
              "      <td>0.056138</td>\n",
              "      <td>0.044245</td>\n",
              "      <td>0.122251</td>\n",
              "      <td>0.183851</td>\n",
              "      <td>0.200900</td>\n",
              "      <td>0.254224</td>\n",
              "      <td>0.583385</td>\n",
              "      <td>0.876822</td>\n",
              "    </tr>\n",
              "    <tr>\n",
              "      <th>12</th>\n",
              "      <td>604000.0</td>\n",
              "      <td>0.191785</td>\n",
              "      <td>0.003186</td>\n",
              "      <td>0.053129</td>\n",
              "      <td>0.064458</td>\n",
              "      <td>0.056138</td>\n",
              "      <td>0.044245</td>\n",
              "      <td>0.122251</td>\n",
              "      <td>0.183851</td>\n",
              "      <td>0.200900</td>\n",
              "      <td>0.254224</td>\n",
              "      <td>0.583385</td>\n",
              "      <td>0.876822</td>\n",
              "    </tr>\n",
              "    <tr>\n",
              "      <th>13</th>\n",
              "      <td>653500.0</td>\n",
              "      <td>0.191785</td>\n",
              "      <td>0.003186</td>\n",
              "      <td>0.053129</td>\n",
              "      <td>0.064458</td>\n",
              "      <td>0.056138</td>\n",
              "      <td>0.044245</td>\n",
              "      <td>0.122251</td>\n",
              "      <td>0.183851</td>\n",
              "      <td>0.200900</td>\n",
              "      <td>0.254224</td>\n",
              "      <td>0.583385</td>\n",
              "      <td>0.876822</td>\n",
              "    </tr>\n",
              "    <tr>\n",
              "      <th>14</th>\n",
              "      <td>703000.0</td>\n",
              "      <td>0.191785</td>\n",
              "      <td>0.003186</td>\n",
              "      <td>0.053129</td>\n",
              "      <td>0.064458</td>\n",
              "      <td>0.056138</td>\n",
              "      <td>0.044245</td>\n",
              "      <td>0.122251</td>\n",
              "      <td>0.183851</td>\n",
              "      <td>0.200900</td>\n",
              "      <td>0.254224</td>\n",
              "      <td>0.583385</td>\n",
              "      <td>0.876822</td>\n",
              "    </tr>\n",
              "    <tr>\n",
              "      <th>15</th>\n",
              "      <td>752500.0</td>\n",
              "      <td>0.191785</td>\n",
              "      <td>0.003186</td>\n",
              "      <td>0.053129</td>\n",
              "      <td>0.064458</td>\n",
              "      <td>0.056138</td>\n",
              "      <td>0.044245</td>\n",
              "      <td>0.122251</td>\n",
              "      <td>0.183851</td>\n",
              "      <td>0.200900</td>\n",
              "      <td>0.254224</td>\n",
              "      <td>0.583385</td>\n",
              "      <td>0.876822</td>\n",
              "    </tr>\n",
              "    <tr>\n",
              "      <th>16</th>\n",
              "      <td>802000.0</td>\n",
              "      <td>0.191785</td>\n",
              "      <td>0.003186</td>\n",
              "      <td>0.053129</td>\n",
              "      <td>0.064458</td>\n",
              "      <td>0.056138</td>\n",
              "      <td>0.044245</td>\n",
              "      <td>0.122251</td>\n",
              "      <td>0.183851</td>\n",
              "      <td>0.200900</td>\n",
              "      <td>0.254224</td>\n",
              "      <td>0.583385</td>\n",
              "      <td>0.876822</td>\n",
              "    </tr>\n",
              "    <tr>\n",
              "      <th>17</th>\n",
              "      <td>851500.0</td>\n",
              "      <td>0.191785</td>\n",
              "      <td>0.003186</td>\n",
              "      <td>0.053129</td>\n",
              "      <td>0.064458</td>\n",
              "      <td>0.056138</td>\n",
              "      <td>0.044245</td>\n",
              "      <td>0.122251</td>\n",
              "      <td>0.183851</td>\n",
              "      <td>0.200900</td>\n",
              "      <td>0.254224</td>\n",
              "      <td>0.583385</td>\n",
              "      <td>0.876822</td>\n",
              "    </tr>\n",
              "    <tr>\n",
              "      <th>18</th>\n",
              "      <td>901000.0</td>\n",
              "      <td>0.191785</td>\n",
              "      <td>0.003186</td>\n",
              "      <td>0.053129</td>\n",
              "      <td>0.064458</td>\n",
              "      <td>0.056138</td>\n",
              "      <td>0.044245</td>\n",
              "      <td>0.122251</td>\n",
              "      <td>0.183851</td>\n",
              "      <td>0.200900</td>\n",
              "      <td>0.254224</td>\n",
              "      <td>0.583385</td>\n",
              "      <td>0.876822</td>\n",
              "    </tr>\n",
              "    <tr>\n",
              "      <th>19</th>\n",
              "      <td>950500.0</td>\n",
              "      <td>0.191785</td>\n",
              "      <td>0.003186</td>\n",
              "      <td>0.053129</td>\n",
              "      <td>0.064458</td>\n",
              "      <td>0.056138</td>\n",
              "      <td>0.044245</td>\n",
              "      <td>0.122251</td>\n",
              "      <td>0.183851</td>\n",
              "      <td>0.200900</td>\n",
              "      <td>0.254224</td>\n",
              "      <td>0.583385</td>\n",
              "      <td>0.876822</td>\n",
              "    </tr>\n",
              "  </tbody>\n",
              "</table>\n",
              "</div>"
            ],
            "text/plain": [
              "    LIMIT_BAL  partial_dependence  Percentile_0  Percentile_10  Percentile_20  \\\n",
              "0     10000.0            0.279659      0.017710       0.109711       0.132339   \n",
              "1     59500.0            0.246689      0.011464       0.096562       0.125872   \n",
              "2    109000.0            0.224878      0.005992       0.074086       0.092629   \n",
              "3    158500.0            0.214962      0.004265       0.065973       0.082666   \n",
              "4    208000.0            0.211952      0.004023       0.065973       0.080524   \n",
              "5    257500.0            0.210509      0.004023       0.065470       0.079482   \n",
              "6    307000.0            0.208517      0.003854       0.063332       0.078200   \n",
              "7    356500.0            0.199648      0.003186       0.055378       0.067393   \n",
              "8    406000.0            0.191785      0.003186       0.053129       0.064458   \n",
              "9    455500.0            0.191785      0.003186       0.053129       0.064458   \n",
              "10   505000.0            0.191785      0.003186       0.053129       0.064458   \n",
              "11   554500.0            0.191785      0.003186       0.053129       0.064458   \n",
              "12   604000.0            0.191785      0.003186       0.053129       0.064458   \n",
              "13   653500.0            0.191785      0.003186       0.053129       0.064458   \n",
              "14   703000.0            0.191785      0.003186       0.053129       0.064458   \n",
              "15   752500.0            0.191785      0.003186       0.053129       0.064458   \n",
              "16   802000.0            0.191785      0.003186       0.053129       0.064458   \n",
              "17   851500.0            0.191785      0.003186       0.053129       0.064458   \n",
              "18   901000.0            0.191785      0.003186       0.053129       0.064458   \n",
              "19   950500.0            0.191785      0.003186       0.053129       0.064458   \n",
              "\n",
              "    Percentile_30  Percentile_40  Percentile_50  Percentile_60  Percentile_70  \\\n",
              "0        0.111569       0.133364       0.263167       0.274936       0.335844   \n",
              "1        0.101442       0.126854       0.177702       0.206752       0.242107   \n",
              "2        0.075265       0.087401       0.164533       0.197863       0.233021   \n",
              "3        0.064447       0.068675       0.155265       0.189737       0.225953   \n",
              "4        0.064447       0.066869       0.143649       0.184366       0.222735   \n",
              "5        0.064447       0.065270       0.142451       0.183851       0.221047   \n",
              "6        0.063859       0.063509       0.141424       0.183851       0.218256   \n",
              "7        0.057271       0.055673       0.122251       0.183851       0.200900   \n",
              "8        0.056138       0.044245       0.122251       0.183851       0.200900   \n",
              "9        0.056138       0.044245       0.122251       0.183851       0.200900   \n",
              "10       0.056138       0.044245       0.122251       0.183851       0.200900   \n",
              "11       0.056138       0.044245       0.122251       0.183851       0.200900   \n",
              "12       0.056138       0.044245       0.122251       0.183851       0.200900   \n",
              "13       0.056138       0.044245       0.122251       0.183851       0.200900   \n",
              "14       0.056138       0.044245       0.122251       0.183851       0.200900   \n",
              "15       0.056138       0.044245       0.122251       0.183851       0.200900   \n",
              "16       0.056138       0.044245       0.122251       0.183851       0.200900   \n",
              "17       0.056138       0.044245       0.122251       0.183851       0.200900   \n",
              "18       0.056138       0.044245       0.122251       0.183851       0.200900   \n",
              "19       0.056138       0.044245       0.122251       0.183851       0.200900   \n",
              "\n",
              "    Percentile_80  Percentile_90  Percentile_99  \n",
              "0        0.336428       0.629257       0.922201  \n",
              "1        0.324046       0.608156       0.881062  \n",
              "2        0.308116       0.601457       0.881062  \n",
              "3        0.296253       0.598225       0.881062  \n",
              "4        0.291457       0.596577       0.879338  \n",
              "5        0.290226       0.595503       0.879338  \n",
              "6        0.279905       0.595503       0.879338  \n",
              "7        0.263366       0.587647       0.878329  \n",
              "8        0.254224       0.583385       0.876822  \n",
              "9        0.254224       0.583385       0.876822  \n",
              "10       0.254224       0.583385       0.876822  \n",
              "11       0.254224       0.583385       0.876822  \n",
              "12       0.254224       0.583385       0.876822  \n",
              "13       0.254224       0.583385       0.876822  \n",
              "14       0.254224       0.583385       0.876822  \n",
              "15       0.254224       0.583385       0.876822  \n",
              "16       0.254224       0.583385       0.876822  \n",
              "17       0.254224       0.583385       0.876822  \n",
              "18       0.254224       0.583385       0.876822  \n",
              "19       0.254224       0.583385       0.876822  "
            ]
          },
          "metadata": {
            "tags": []
          },
          "execution_count": 69
        }
      ]
    },
    {
      "cell_type": "markdown",
      "metadata": {
        "id": "uZb-vfeBpOI_",
        "colab_type": "text"
      },
      "source": [
        "### 5. Plotting partial dependence and ICE to validate and explain monotonic behavior\n",
        "\n",
        "Overlaying partial dependence onto ICE in a plot is a convenient way to validate and understand both global and local monotonic behavior. Plots of partial dependence curves overlayed onto ICE curves for several percentiles of predictions for `DEFAULT_NEXT_MONTH` are used to validate monotonic behavior, describe the GBM model mechanisms, and to compare the most extreme GBM behavior with the average GBM behavior in the test data. Partial dependence and ICE plots are displayed for the three most important variables in the GBM: `PAY_0`, `LIMIT_BAL`, and `BILL_AMT1`."
      ]
    },
    {
      "cell_type": "code",
      "metadata": {
        "id": "K49IFxdspOI_",
        "colab_type": "code",
        "colab": {}
      },
      "source": [
        "#### Function to plot partial dependence and ICE\n",
        "\n",
        "def plot_par_dep_ICE(xs, par_dep_frame):\n",
        "\n",
        "    \n",
        "    \"\"\" Plots ICE overlayed onto partial dependence for a single variable.\n",
        "    \n",
        "    Args: \n",
        "        xs: Name of variable for which to plot ICE and partial dependence.\n",
        "        par_dep_frame: Name of Pandas DataFrame containing ICE and partial\n",
        "                       dependence values.\n",
        "    \n",
        "    \"\"\"\n",
        "    \n",
        "    # initialize figure and axis\n",
        "    fig, ax = plt.subplots()\n",
        "    \n",
        "    # plot ICE curves\n",
        "    par_dep_frame.drop('partial_dependence', axis=1).plot(x=xs, \n",
        "                                                          colormap='gnuplot',\n",
        "                                                          ax=ax)\n",
        "\n",
        "    # overlay partial dependence, annotate plot\n",
        "    par_dep_frame.plot(title='Partial Dependence and ICE for ' + str(xs),\n",
        "                       x=xs, \n",
        "                       y='partial_dependence',\n",
        "                       style='r-', \n",
        "                       linewidth=3, \n",
        "                       ax=ax)\n",
        "\n",
        "    # add legend\n",
        "    _ = plt.legend(bbox_to_anchor=(1.05, 0),\n",
        "                   loc=3, \n",
        "                   borderaxespad=0.)\n"
      ],
      "execution_count": 0,
      "outputs": []
    },
    {
      "cell_type": "markdown",
      "metadata": {
        "id": "RbzMk0WWpOJE",
        "colab_type": "text"
      },
      "source": [
        "#### Partial dependence and ICE plot for `LIMIT_BAL`\n",
        "The monotonic prediction behavior displayed in the partial dependence, and ICE tables for `LIMIT_BAL` is also visible in this plot. Monotonic decreasing behavior is evident at every percentile of predictions for `DEFAULT_NEXT_MONTH`. Most percentiles of predictions show that sharper decreases in probability of default occur when `LIMIT_BAL` increases just slightly from its lowest values in the test set. However, for the custumers that are most likely to default according to the GBM model, no increase in `LIMIT_BAL` has a strong impact on probabilitiy of default. As mentioned previously, the displayed relationship between credit balance limits and probablility of default is not uncommon in credit lending. As can be seen from the displayed histogram, above ~$NT 500,000 prediction behavior may have been learned from extremely small samples of data. "
      ]
    },
    {
      "cell_type": "code",
      "metadata": {
        "id": "q5AyVjGVpOJG",
        "colab_type": "code",
        "colab": {
          "base_uri": "https://localhost:8080/",
          "height": 296
        },
        "outputId": "9f4b4df5-98ac-4a08-bb4c-a1c30e4734f1"
      },
      "source": [
        "plot_par_dep_ICE('LIMIT_BAL', par_dep_LIMIT_BAL) # plot partial dependence and ICE for LIMIT_BAL"
      ],
      "execution_count": 71,
      "outputs": [
        {
          "output_type": "display_data",
          "data": {
            "image/png": "[encoded data removed]",
            "text/plain": [
              "<Figure size 432x288 with 1 Axes>"
            ]
          },
          "metadata": {
            "tags": []
          }
        }
      ]
    },
    {
      "cell_type": "code",
      "metadata": {
        "id": "b5VjKC4ApOJO",
        "colab_type": "code",
        "colab": {
          "base_uri": "https://localhost:8080/",
          "height": 281
        },
        "outputId": "17eb3032-aa52-4dd3-d8a6-ecd81af9a7e9"
      },
      "source": [
        "_ = train['LIMIT_BAL'].plot(kind='hist', bins=20, title='Histogram: LIMIT_BAL')"
      ],
      "execution_count": 72,
      "outputs": [
        {
          "output_type": "display_data",
          "data": {
            "image/png": "[encoded data removed]",
            "text/plain": [
              "<Figure size 432x288 with 1 Axes>"
            ]
          },
          "metadata": {
            "tags": []
          }
        }
      ]
    },
    {
      "cell_type": "markdown",
      "metadata": {
        "id": "oFOeRuUipOJa",
        "colab_type": "text"
      },
      "source": [
        "#### Partial dependence and ICE plot for `PAY_0`\n",
        "Monotonic increasing prediction behavior for `PAY_0` is displayed for all percentiles of model predictions. Predition behavior is different at different deciles, but not abnormal or vastly different from the average prediction behavior represented by the red partial dependence curve. The largest jump in predicted probability appears to occur at `PAY_0 = 2`, or when a customer becomes two months late on their most recent payment. Above `PAY_0 = 3` there are few examples from which the model could learn."
      ]
    },
    {
      "cell_type": "code",
      "metadata": {
        "id": "Wsi5HDHJpOJc",
        "colab_type": "code",
        "colab": {
          "base_uri": "https://localhost:8080/",
          "height": 296
        },
        "outputId": "d8f22ca0-3252-410b-dcec-16b63ade2fe1"
      },
      "source": [
        "plot_par_dep_ICE('PAY_0', par_dep_PAY_0) # plot partial dependence and ICE for PAY_0"
      ],
      "execution_count": 73,
      "outputs": [
        {
          "output_type": "display_data",
          "data": {
            "image/png": "[encoded data removed]",
            "text/plain": [
              "<Figure size 432x288 with 1 Axes>"
            ]
          },
          "metadata": {
            "tags": []
          }
        }
      ]
    },
    {
      "cell_type": "code",
      "metadata": {
        "id": "QM3YxRR5pOJm",
        "colab_type": "code",
        "colab": {
          "base_uri": "https://localhost:8080/",
          "height": 281
        },
        "outputId": "f5afb609-fb09-429e-d533-f565fece719c"
      },
      "source": [
        "_ = train['PAY_0'].plot(kind='hist', bins=20, title='Histogram: PAY_0')"
      ],
      "execution_count": 74,
      "outputs": [
        {
          "output_type": "display_data",
          "data": {
            "image/png": "[encoded data removed]",
            "text/plain": [
              "<Figure size 432x288 with 1 Axes>"
            ]
          },
          "metadata": {
            "tags": []
          }
        }
      ]
    },
    {
      "cell_type": "markdown",
      "metadata": {
        "id": "yuLkhmkcpOJu",
        "colab_type": "text"
      },
      "source": [
        "#### Partial dependence and ICE plot for `BILL_AMT1`\n",
        "Monotonic decreasing prediction behavior for `BILL_AMT1` is also displayed for all percentiles. This mild decrease in probability of default as most recent bill amount increases could be related to wealthier, big-spending customers taking on more debt but also being able to pay it off reliably. Also, customers with negative bills are more likely to default, potentially indicating charge-offs are being recorded as negative bills. In a mission-critical situation, this issue would require more debugging. Also predictions below \\$ NT 0 and above \\$ NT 400,000 are based on very little training data."
      ]
    },
    {
      "cell_type": "code",
      "metadata": {
        "scrolled": true,
        "id": "iOK6RQxSpOJw",
        "colab_type": "code",
        "colab": {
          "base_uri": "https://localhost:8080/",
          "height": 296
        },
        "outputId": "52fcfb2b-ebc4-4f5a-be45-86b8c991a4fe"
      },
      "source": [
        "plot_par_dep_ICE('BILL_AMT1', par_dep_BILL_AMT1) # plot partial dependence and ICE for BILL_AMT1"
      ],
      "execution_count": 75,
      "outputs": [
        {
          "output_type": "display_data",
          "data": {
            "image/png": "[encoded data removed]",
            "text/plain": [
              "<Figure size 432x288 with 1 Axes>"
            ]
          },
          "metadata": {
            "tags": []
          }
        }
      ]
    },
    {
      "cell_type": "code",
      "metadata": {
        "id": "N8X12yqmpOJ2",
        "colab_type": "code",
        "colab": {
          "base_uri": "https://localhost:8080/",
          "height": 281
        },
        "outputId": "0f5f4168-e415-4e90-b27a-5143ac83a978"
      },
      "source": [
        "_ = train['BILL_AMT1'].plot(kind='hist', bins=20, title='Histogram: BILL_AMT1')"
      ],
      "execution_count": 76,
      "outputs": [
        {
          "output_type": "display_data",
          "data": {
            "image/png": "[encoded data removed]",
            "text/plain": [
              "<Figure size 432x288 with 1 Axes>"
            ]
          },
          "metadata": {
            "tags": []
          }
        }
      ]
    },
    {
      "cell_type": "markdown",
      "metadata": {
        "id": "XeGgFFQ5pOJ8",
        "colab_type": "text"
      },
      "source": [
        "### 6. Generate reason codes using the Shapley method \n",
        "Now that the monotonic behavior of the GBM has been verified and compared against domain knowledge and reasonable expectations, a method called Shapley explanations will be used to calculate the local variable importance for any one prediction: http://papers.nips.cc/paper/7062-a-unified-approach-to-interpreting-model-predictions. Shapley explanations are the only possible consistent local variable importance values. (Here consistency means that if a variable is more important than another variable in a given prediction, the more important variable's Shapley value will not be smaller in magnitude than the less important variable's Shapley value.) Very crucially Shapley values also *always* sum to the actual prediction of the XGBoost model. When used in a model-specific context for decision tree models, Shapley values are likely the most accurate known local variable importance method available today. In this notebook, XGBoost itself is used to create Shapley values with the `pred_contribs` parameter to `predict()`, but the `shap` package is also available for other types of models: https://github.com/slundberg/shap. \n",
        "\n",
        "The numeric Shapley values in each column are an estimate of how much each variable contributed to each prediction. Shapley contributions can indicate how a variable and its values were weighted in any given decision by the model. These values are crucially important for machine learning interpretability and are related to \"local feature importance\", \"reason codes\", or \"turn-down codes.\" The latter phrases are borrowed from credit scoring. Credit lenders in the U.S. must provide reasons for automatically rejecting a credit application. Reason codes can be easily extracted from Shapley local variable contribution values by ranking the variables that played the largest role in any given decision."
      ]
    },
    {
      "cell_type": "markdown",
      "metadata": {
        "id": "0M6nMiLqpOJ9",
        "colab_type": "text"
      },
      "source": [
        "To find the index corresponding to a particular row of interest later, the index of the `test` DataFrame is reset to begin at 0 and increase sequentially. Without resetting the index, the `test` DataFrame row indices still correspond to the original raw data from which the test set was sampled."
      ]
    },
    {
      "cell_type": "code",
      "metadata": {
        "id": "V36f8xb3pOJ_",
        "colab_type": "code",
        "colab": {}
      },
      "source": [
        "test_n.reset_index(drop=True, inplace=True)"
      ],
      "execution_count": 0,
      "outputs": []
    },
    {
      "cell_type": "markdown",
      "metadata": {
        "id": "YfovUOGnpOKD",
        "colab_type": "text"
      },
      "source": [
        "#### Select most risky customer in test data\n",
        "One person who might be of immediate interest is the most likely to default customer in the test data. This customer's row will be selected and local variable importance for the corresponding prediction will be analyzed."
      ]
    },
    {
      "cell_type": "code",
      "metadata": {
        "id": "dfByWA8JpOKF",
        "colab_type": "code",
        "colab": {}
      },
      "source": [
        "decile = 99\n",
        "row = test_n[test_n['ID'] == percentile_dict[decile]]"
      ],
      "execution_count": 0,
      "outputs": []
    },
    {
      "cell_type": "markdown",
      "metadata": {
        "id": "ZIewYiVKpOKK",
        "colab_type": "text"
      },
      "source": [
        "#### Create a Pandas DataFrame of Shapley values for riskiest customer\n",
        "The most interesting Shapley values are probably those that push this customer's probability of default higher, i.e. the highest positive Shapley values. Those values are plotted below."
      ]
    },
    {
      "cell_type": "code",
      "metadata": {
        "id": "V-IMgmB-pOKM",
        "colab_type": "code",
        "colab": {}
      },
      "source": [
        "# reset test data index to find riskiest customer in shap_values \n",
        "# sort to find largest positive contributions\n",
        "s_df = pd.DataFrame(shap_values[row.index[0], :][:-1].reshape(23, 1), columns=['Reason Codes'], index=X)\n",
        "s_df.sort_values(by='Reason Codes', inplace=True, ascending=False)"
      ],
      "execution_count": 0,
      "outputs": []
    },
    {
      "cell_type": "code",
      "metadata": {
        "id": "4-5eZGwKpOKR",
        "colab_type": "code",
        "colab": {
          "base_uri": "https://localhost:8080/",
          "height": 771
        },
        "outputId": "ffdaa2e6-ebf6-4ae4-abc8-1defb7f5a34e"
      },
      "source": [
        "s_df"
      ],
      "execution_count": 80,
      "outputs": [
        {
          "output_type": "execute_result",
          "data": {
            "text/html": [
              "<div>\n",
              "<style scoped>\n",
              "    .dataframe tbody tr th:only-of-type {\n",
              "        vertical-align: middle;\n",
              "    }\n",
              "\n",
              "    .dataframe tbody tr th {\n",
              "        vertical-align: top;\n",
              "    }\n",
              "\n",
              "    .dataframe thead th {\n",
              "        text-align: right;\n",
              "    }\n",
              "</style>\n",
              "<table border=\"1\" class=\"dataframe\">\n",
              "  <thead>\n",
              "    <tr style=\"text-align: right;\">\n",
              "      <th></th>\n",
              "      <th>Reason Codes</th>\n",
              "    </tr>\n",
              "  </thead>\n",
              "  <tbody>\n",
              "    <tr>\n",
              "      <th>PAY_0</th>\n",
              "      <td>1.496389</td>\n",
              "    </tr>\n",
              "    <tr>\n",
              "      <th>LIMIT_BAL</th>\n",
              "      <td>0.364790</td>\n",
              "    </tr>\n",
              "    <tr>\n",
              "      <th>PAY_5</th>\n",
              "      <td>0.314047</td>\n",
              "    </tr>\n",
              "    <tr>\n",
              "      <th>PAY_6</th>\n",
              "      <td>0.293947</td>\n",
              "    </tr>\n",
              "    <tr>\n",
              "      <th>PAY_4</th>\n",
              "      <td>0.245809</td>\n",
              "    </tr>\n",
              "    <tr>\n",
              "      <th>PAY_2</th>\n",
              "      <td>0.217919</td>\n",
              "    </tr>\n",
              "    <tr>\n",
              "      <th>BILL_AMT1</th>\n",
              "      <td>0.215625</td>\n",
              "    </tr>\n",
              "    <tr>\n",
              "      <th>PAY_3</th>\n",
              "      <td>0.179457</td>\n",
              "    </tr>\n",
              "    <tr>\n",
              "      <th>AGE</th>\n",
              "      <td>0.154877</td>\n",
              "    </tr>\n",
              "    <tr>\n",
              "      <th>MARRIAGE</th>\n",
              "      <td>0.135945</td>\n",
              "    </tr>\n",
              "    <tr>\n",
              "      <th>PAY_AMT1</th>\n",
              "      <td>0.115085</td>\n",
              "    </tr>\n",
              "    <tr>\n",
              "      <th>PAY_AMT3</th>\n",
              "      <td>0.101443</td>\n",
              "    </tr>\n",
              "    <tr>\n",
              "      <th>PAY_AMT2</th>\n",
              "      <td>0.093505</td>\n",
              "    </tr>\n",
              "    <tr>\n",
              "      <th>PAY_AMT4</th>\n",
              "      <td>0.052874</td>\n",
              "    </tr>\n",
              "    <tr>\n",
              "      <th>PAY_AMT6</th>\n",
              "      <td>0.035843</td>\n",
              "    </tr>\n",
              "    <tr>\n",
              "      <th>BILL_AMT2</th>\n",
              "      <td>0.028917</td>\n",
              "    </tr>\n",
              "    <tr>\n",
              "      <th>BILL_AMT3</th>\n",
              "      <td>0.025330</td>\n",
              "    </tr>\n",
              "    <tr>\n",
              "      <th>PAY_AMT5</th>\n",
              "      <td>0.014538</td>\n",
              "    </tr>\n",
              "    <tr>\n",
              "      <th>BILL_AMT4</th>\n",
              "      <td>0.003720</td>\n",
              "    </tr>\n",
              "    <tr>\n",
              "      <th>EDUCATION</th>\n",
              "      <td>0.001361</td>\n",
              "    </tr>\n",
              "    <tr>\n",
              "      <th>BILL_AMT6</th>\n",
              "      <td>-0.004096</td>\n",
              "    </tr>\n",
              "    <tr>\n",
              "      <th>BILL_AMT5</th>\n",
              "      <td>-0.016487</td>\n",
              "    </tr>\n",
              "    <tr>\n",
              "      <th>SEX</th>\n",
              "      <td>-0.062279</td>\n",
              "    </tr>\n",
              "  </tbody>\n",
              "</table>\n",
              "</div>"
            ],
            "text/plain": [
              "           Reason Codes\n",
              "PAY_0          1.496389\n",
              "LIMIT_BAL      0.364790\n",
              "PAY_5          0.314047\n",
              "PAY_6          0.293947\n",
              "PAY_4          0.245809\n",
              "PAY_2          0.217919\n",
              "BILL_AMT1      0.215625\n",
              "PAY_3          0.179457\n",
              "AGE            0.154877\n",
              "MARRIAGE       0.135945\n",
              "PAY_AMT1       0.115085\n",
              "PAY_AMT3       0.101443\n",
              "PAY_AMT2       0.093505\n",
              "PAY_AMT4       0.052874\n",
              "PAY_AMT6       0.035843\n",
              "BILL_AMT2      0.028917\n",
              "BILL_AMT3      0.025330\n",
              "PAY_AMT5       0.014538\n",
              "BILL_AMT4      0.003720\n",
              "EDUCATION      0.001361\n",
              "BILL_AMT6     -0.004096\n",
              "BILL_AMT5     -0.016487\n",
              "SEX           -0.062279"
            ]
          },
          "metadata": {
            "tags": []
          },
          "execution_count": 80
        }
      ]
    },
    {
      "cell_type": "markdown",
      "metadata": {
        "id": "hk6sSkdDpOKW",
        "colab_type": "text"
      },
      "source": [
        "#### Plot top local contributions as reason codes"
      ]
    },
    {
      "cell_type": "code",
      "metadata": {
        "id": "_tDwtkx5pOKY",
        "colab_type": "code",
        "colab": {
          "base_uri": "https://localhost:8080/",
          "height": 336
        },
        "outputId": "84d9d488-7b34-4fd9-c31a-4540297452d0"
      },
      "source": [
        "_ = s_df[:5].plot(kind='bar', \n",
        "                  title='Top Five Reason Codes for a Risky Customer\\n', \n",
        "                  legend=False)"
      ],
      "execution_count": 81,
      "outputs": [
        {
          "output_type": "display_data",
          "data": {
            "image/png": "[encoded data removed]",
            "text/plain": [
              "<Figure size 432x288 with 1 Axes>"
            ]
          },
          "metadata": {
            "tags": []
          }
        }
      ]
    },
    {
      "cell_type": "markdown",
      "metadata": {
        "id": "sYmJvGZbpOKe",
        "colab_type": "text"
      },
      "source": [
        "For the customer in the test dataset that the GBM predicts as most likely to default, the most important input variables in the prediction are, in descending order, `PAY_0`, `LIMIT_BAL`, `PAY_5`, `PAY_6`, and `PAY_4`."
      ]
    },
    {
      "cell_type": "markdown",
      "metadata": {
        "id": "ubjlvrLCpOKi",
        "colab_type": "text"
      },
      "source": [
        "#### Display customer in question "
      ]
    },
    {
      "cell_type": "markdown",
      "metadata": {
        "id": "Dadd34BxpOKj",
        "colab_type": "text"
      },
      "source": [
        "The local contributions for this customer appear reasonable, especially when considering her payment information. Her most recent payment was 3 months late and her payment for 6 months and 5 months previous were 7 months late. Also her credit limit was extremely low, so it's logical that these factors would weigh heavily into the model's prediction for default for this customer."
      ]
    },
    {
      "cell_type": "code",
      "metadata": {
        "id": "Lk2nKRHcpOKk",
        "colab_type": "code",
        "colab": {
          "base_uri": "https://localhost:8080/",
          "height": 101
        },
        "outputId": "3b0d1a5b-2aaa-4f8a-fc4d-f8a919e186bf"
      },
      "source": [
        "row # helps understand reason codes"
      ],
      "execution_count": 82,
      "outputs": [
        {
          "output_type": "execute_result",
          "data": {
            "text/html": [
              "<div>\n",
              "<style scoped>\n",
              "    .dataframe tbody tr th:only-of-type {\n",
              "        vertical-align: middle;\n",
              "    }\n",
              "\n",
              "    .dataframe tbody tr th {\n",
              "        vertical-align: top;\n",
              "    }\n",
              "\n",
              "    .dataframe thead th {\n",
              "        text-align: right;\n",
              "    }\n",
              "</style>\n",
              "<table border=\"1\" class=\"dataframe\">\n",
              "  <thead>\n",
              "    <tr style=\"text-align: right;\">\n",
              "      <th></th>\n",
              "      <th>ID</th>\n",
              "      <th>LIMIT_BAL</th>\n",
              "      <th>SEX</th>\n",
              "      <th>EDUCATION</th>\n",
              "      <th>MARRIAGE</th>\n",
              "      <th>AGE</th>\n",
              "      <th>PAY_0</th>\n",
              "      <th>PAY_2</th>\n",
              "      <th>PAY_3</th>\n",
              "      <th>PAY_4</th>\n",
              "      <th>PAY_5</th>\n",
              "      <th>PAY_6</th>\n",
              "      <th>BILL_AMT1</th>\n",
              "      <th>BILL_AMT2</th>\n",
              "      <th>BILL_AMT3</th>\n",
              "      <th>BILL_AMT4</th>\n",
              "      <th>BILL_AMT5</th>\n",
              "      <th>BILL_AMT6</th>\n",
              "      <th>PAY_AMT1</th>\n",
              "      <th>PAY_AMT2</th>\n",
              "      <th>PAY_AMT3</th>\n",
              "      <th>PAY_AMT4</th>\n",
              "      <th>PAY_AMT5</th>\n",
              "      <th>PAY_AMT6</th>\n",
              "    </tr>\n",
              "  </thead>\n",
              "  <tbody>\n",
              "    <tr>\n",
              "      <th>5399</th>\n",
              "      <td>17757</td>\n",
              "      <td>10000</td>\n",
              "      <td>2</td>\n",
              "      <td>3</td>\n",
              "      <td>1</td>\n",
              "      <td>51</td>\n",
              "      <td>3</td>\n",
              "      <td>2</td>\n",
              "      <td>2</td>\n",
              "      <td>7</td>\n",
              "      <td>7</td>\n",
              "      <td>7</td>\n",
              "      <td>2400</td>\n",
              "      <td>2400</td>\n",
              "      <td>2400</td>\n",
              "      <td>2400</td>\n",
              "      <td>2400</td>\n",
              "      <td>2400</td>\n",
              "      <td>0</td>\n",
              "      <td>0</td>\n",
              "      <td>0</td>\n",
              "      <td>0</td>\n",
              "      <td>0</td>\n",
              "      <td>0</td>\n",
              "    </tr>\n",
              "  </tbody>\n",
              "</table>\n",
              "</div>"
            ],
            "text/plain": [
              "         ID  LIMIT_BAL  SEX  EDUCATION  MARRIAGE  AGE  PAY_0  PAY_2  PAY_3  \\\n",
              "5399  17757      10000    2          3         1   51      3      2      2   \n",
              "\n",
              "      PAY_4  PAY_5  PAY_6  BILL_AMT1  BILL_AMT2  BILL_AMT3  BILL_AMT4  \\\n",
              "5399      7      7      7       2400       2400       2400       2400   \n",
              "\n",
              "      BILL_AMT5  BILL_AMT6  PAY_AMT1  PAY_AMT2  PAY_AMT3  PAY_AMT4  PAY_AMT5  \\\n",
              "5399       2400       2400         0         0         0         0         0   \n",
              "\n",
              "      PAY_AMT6  \n",
              "5399         0  "
            ]
          },
          "metadata": {
            "tags": []
          },
          "execution_count": 82
        }
      ]
    },
    {
      "cell_type": "markdown",
      "metadata": {
        "id": "fMI12xngpOKo",
        "colab_type": "text"
      },
      "source": [
        "To generate reason codes for the model's decision, the locally important variable and its value are used together. If this customer was denied future credit based on this model and data, the top five Shapley-based reason codes for the automated decision would be:\n",
        "\n",
        "1. Most recent payment is 3 months delayed.\n",
        "2. Credit limit is too low: 10,000 $NT. 5th most recent payment is 7 months delayed.\n",
        "3. 5th most recent payment is 7 months \n",
        "4. 6th most recent payment is 7 months delayed.\n",
        "5. 4th most recent payment is 7 months delayed.\n",
        "\n",
        "(Of course, credit limits are set by the lender and are used to price-in risk to credit decisions, so using credit limits as reason codes or even in a probability of default model is likely questionable. However, in this small, example data set all input columns were used to generate a better model fit. For a slightly more careful treatment of gradient boosting in the context of credit scoring, please see: https://github.com/jphall663/interpretable_machine_learning_with_python/blob/master/dia.ipynb)"
      ]
    },
    {
      "cell_type": "markdown",
      "metadata": {
        "id": "j73jsxRHpOKq",
        "colab_type": "text"
      },
      "source": [
        "#### Summary\n",
        "\n",
        "In this notebook, a highly transparent, nonlinear, monotonic GBM classifier was trained to predict credit card defaults and the monotonic behavior of the classifier was analyzed and validated. To do so, Pearson correlation between each input and the target was used to determine the direction for monotonicity constraints for each input variable in the XGBoost classifier. GBM variable importance, partial dependence, and ICE were calculated, plotted, and compared to one another, domain knowledge, and reasonable expectations. Shapley values were then used to explain the model predictions for the single most risky customer in the test set. These techniques should generalize well for many types of business and research problems, enabling you to train a monotonic GBM model and analyze, validate, and explain it to your colleagues, bosses, and potentially, external regulators. "
      ]
    },
    {
      "cell_type": "markdown",
      "metadata": {
        "id": "Zd2HitXJIMt4",
        "colab_type": "text"
      },
      "source": [
        "# LOCO\n",
        "\n",
        "For nonlinear models, nonlinear dependencies can allow variables to nearly completely replace one another when a variable is dropped and the model is retrained. Hence, the approach of injecting missing values is used to estimate local contributions of input variables for nonlinear models here, as opposed to dropping a variable and retraining the model. LightGBM should have similar functionality to just set as missing."
      ]
    },
    {
      "cell_type": "code",
      "metadata": {
        "id": "X-nqs-NlK9Dy",
        "colab_type": "code",
        "colab": {
          "base_uri": "https://localhost:8080/",
          "height": 774
        },
        "outputId": "51f851a5-02e7-4a9b-cc95-b011460f3c04"
      },
      "source": [
        "data"
      ],
      "execution_count": 85,
      "outputs": [
        {
          "output_type": "execute_result",
          "data": {
            "text/html": [
              "<div>\n",
              "<style scoped>\n",
              "    .dataframe tbody tr th:only-of-type {\n",
              "        vertical-align: middle;\n",
              "    }\n",
              "\n",
              "    .dataframe tbody tr th {\n",
              "        vertical-align: top;\n",
              "    }\n",
              "\n",
              "    .dataframe thead th {\n",
              "        text-align: right;\n",
              "    }\n",
              "</style>\n",
              "<table border=\"1\" class=\"dataframe\">\n",
              "  <thead>\n",
              "    <tr style=\"text-align: right;\">\n",
              "      <th></th>\n",
              "      <th>ID</th>\n",
              "      <th>LIMIT_BAL</th>\n",
              "      <th>SEX</th>\n",
              "      <th>EDUCATION</th>\n",
              "      <th>MARRIAGE</th>\n",
              "      <th>AGE</th>\n",
              "      <th>PAY_0</th>\n",
              "      <th>PAY_2</th>\n",
              "      <th>PAY_3</th>\n",
              "      <th>PAY_4</th>\n",
              "      <th>PAY_5</th>\n",
              "      <th>PAY_6</th>\n",
              "      <th>BILL_AMT1</th>\n",
              "      <th>BILL_AMT2</th>\n",
              "      <th>BILL_AMT3</th>\n",
              "      <th>BILL_AMT4</th>\n",
              "      <th>BILL_AMT5</th>\n",
              "      <th>BILL_AMT6</th>\n",
              "      <th>PAY_AMT1</th>\n",
              "      <th>PAY_AMT2</th>\n",
              "      <th>PAY_AMT3</th>\n",
              "      <th>PAY_AMT4</th>\n",
              "      <th>PAY_AMT5</th>\n",
              "      <th>PAY_AMT6</th>\n",
              "      <th>DEFAULT_NEXT_MONTH</th>\n",
              "    </tr>\n",
              "  </thead>\n",
              "  <tbody>\n",
              "    <tr>\n",
              "      <th>0</th>\n",
              "      <td>1</td>\n",
              "      <td>20000</td>\n",
              "      <td>female</td>\n",
              "      <td>university</td>\n",
              "      <td>married</td>\n",
              "      <td>24</td>\n",
              "      <td>2 month delay</td>\n",
              "      <td>2 month delay</td>\n",
              "      <td>pay duly</td>\n",
              "      <td>pay duly</td>\n",
              "      <td>no consumption</td>\n",
              "      <td>no consumption</td>\n",
              "      <td>3913</td>\n",
              "      <td>3102</td>\n",
              "      <td>689</td>\n",
              "      <td>0</td>\n",
              "      <td>0</td>\n",
              "      <td>0</td>\n",
              "      <td>0</td>\n",
              "      <td>689</td>\n",
              "      <td>0</td>\n",
              "      <td>0</td>\n",
              "      <td>0</td>\n",
              "      <td>0</td>\n",
              "      <td>1</td>\n",
              "    </tr>\n",
              "    <tr>\n",
              "      <th>1</th>\n",
              "      <td>2</td>\n",
              "      <td>120000</td>\n",
              "      <td>female</td>\n",
              "      <td>university</td>\n",
              "      <td>single</td>\n",
              "      <td>26</td>\n",
              "      <td>pay duly</td>\n",
              "      <td>2 month delay</td>\n",
              "      <td>use of revolving credit</td>\n",
              "      <td>use of revolving credit</td>\n",
              "      <td>use of revolving credit</td>\n",
              "      <td>2 month delay</td>\n",
              "      <td>2682</td>\n",
              "      <td>1725</td>\n",
              "      <td>2682</td>\n",
              "      <td>3272</td>\n",
              "      <td>3455</td>\n",
              "      <td>3261</td>\n",
              "      <td>0</td>\n",
              "      <td>1000</td>\n",
              "      <td>1000</td>\n",
              "      <td>1000</td>\n",
              "      <td>0</td>\n",
              "      <td>2000</td>\n",
              "      <td>1</td>\n",
              "    </tr>\n",
              "    <tr>\n",
              "      <th>2</th>\n",
              "      <td>3</td>\n",
              "      <td>90000</td>\n",
              "      <td>female</td>\n",
              "      <td>university</td>\n",
              "      <td>single</td>\n",
              "      <td>34</td>\n",
              "      <td>use of revolving credit</td>\n",
              "      <td>use of revolving credit</td>\n",
              "      <td>use of revolving credit</td>\n",
              "      <td>use of revolving credit</td>\n",
              "      <td>use of revolving credit</td>\n",
              "      <td>use of revolving credit</td>\n",
              "      <td>29239</td>\n",
              "      <td>14027</td>\n",
              "      <td>13559</td>\n",
              "      <td>14331</td>\n",
              "      <td>14948</td>\n",
              "      <td>15549</td>\n",
              "      <td>1518</td>\n",
              "      <td>1500</td>\n",
              "      <td>1000</td>\n",
              "      <td>1000</td>\n",
              "      <td>1000</td>\n",
              "      <td>5000</td>\n",
              "      <td>0</td>\n",
              "    </tr>\n",
              "    <tr>\n",
              "      <th>3</th>\n",
              "      <td>4</td>\n",
              "      <td>50000</td>\n",
              "      <td>female</td>\n",
              "      <td>university</td>\n",
              "      <td>married</td>\n",
              "      <td>37</td>\n",
              "      <td>use of revolving credit</td>\n",
              "      <td>use of revolving credit</td>\n",
              "      <td>use of revolving credit</td>\n",
              "      <td>use of revolving credit</td>\n",
              "      <td>use of revolving credit</td>\n",
              "      <td>use of revolving credit</td>\n",
              "      <td>46990</td>\n",
              "      <td>48233</td>\n",
              "      <td>49291</td>\n",
              "      <td>28314</td>\n",
              "      <td>28959</td>\n",
              "      <td>29547</td>\n",
              "      <td>2000</td>\n",
              "      <td>2019</td>\n",
              "      <td>1200</td>\n",
              "      <td>1100</td>\n",
              "      <td>1069</td>\n",
              "      <td>1000</td>\n",
              "      <td>0</td>\n",
              "    </tr>\n",
              "    <tr>\n",
              "      <th>4</th>\n",
              "      <td>5</td>\n",
              "      <td>50000</td>\n",
              "      <td>male</td>\n",
              "      <td>university</td>\n",
              "      <td>married</td>\n",
              "      <td>57</td>\n",
              "      <td>pay duly</td>\n",
              "      <td>use of revolving credit</td>\n",
              "      <td>pay duly</td>\n",
              "      <td>use of revolving credit</td>\n",
              "      <td>use of revolving credit</td>\n",
              "      <td>use of revolving credit</td>\n",
              "      <td>8617</td>\n",
              "      <td>5670</td>\n",
              "      <td>35835</td>\n",
              "      <td>20940</td>\n",
              "      <td>19146</td>\n",
              "      <td>19131</td>\n",
              "      <td>2000</td>\n",
              "      <td>36681</td>\n",
              "      <td>10000</td>\n",
              "      <td>9000</td>\n",
              "      <td>689</td>\n",
              "      <td>679</td>\n",
              "      <td>0</td>\n",
              "    </tr>\n",
              "    <tr>\n",
              "      <th>...</th>\n",
              "      <td>...</td>\n",
              "      <td>...</td>\n",
              "      <td>...</td>\n",
              "      <td>...</td>\n",
              "      <td>...</td>\n",
              "      <td>...</td>\n",
              "      <td>...</td>\n",
              "      <td>...</td>\n",
              "      <td>...</td>\n",
              "      <td>...</td>\n",
              "      <td>...</td>\n",
              "      <td>...</td>\n",
              "      <td>...</td>\n",
              "      <td>...</td>\n",
              "      <td>...</td>\n",
              "      <td>...</td>\n",
              "      <td>...</td>\n",
              "      <td>...</td>\n",
              "      <td>...</td>\n",
              "      <td>...</td>\n",
              "      <td>...</td>\n",
              "      <td>...</td>\n",
              "      <td>...</td>\n",
              "      <td>...</td>\n",
              "      <td>...</td>\n",
              "    </tr>\n",
              "    <tr>\n",
              "      <th>29995</th>\n",
              "      <td>29996</td>\n",
              "      <td>220000</td>\n",
              "      <td>male</td>\n",
              "      <td>high school</td>\n",
              "      <td>married</td>\n",
              "      <td>39</td>\n",
              "      <td>use of revolving credit</td>\n",
              "      <td>use of revolving credit</td>\n",
              "      <td>use of revolving credit</td>\n",
              "      <td>use of revolving credit</td>\n",
              "      <td>use of revolving credit</td>\n",
              "      <td>use of revolving credit</td>\n",
              "      <td>188948</td>\n",
              "      <td>192815</td>\n",
              "      <td>208365</td>\n",
              "      <td>88004</td>\n",
              "      <td>31237</td>\n",
              "      <td>15980</td>\n",
              "      <td>8500</td>\n",
              "      <td>20000</td>\n",
              "      <td>5003</td>\n",
              "      <td>3047</td>\n",
              "      <td>5000</td>\n",
              "      <td>1000</td>\n",
              "      <td>0</td>\n",
              "    </tr>\n",
              "    <tr>\n",
              "      <th>29996</th>\n",
              "      <td>29997</td>\n",
              "      <td>150000</td>\n",
              "      <td>male</td>\n",
              "      <td>high school</td>\n",
              "      <td>single</td>\n",
              "      <td>43</td>\n",
              "      <td>pay duly</td>\n",
              "      <td>pay duly</td>\n",
              "      <td>pay duly</td>\n",
              "      <td>pay duly</td>\n",
              "      <td>use of revolving credit</td>\n",
              "      <td>use of revolving credit</td>\n",
              "      <td>1683</td>\n",
              "      <td>1828</td>\n",
              "      <td>3502</td>\n",
              "      <td>8979</td>\n",
              "      <td>5190</td>\n",
              "      <td>0</td>\n",
              "      <td>1837</td>\n",
              "      <td>3526</td>\n",
              "      <td>8998</td>\n",
              "      <td>129</td>\n",
              "      <td>0</td>\n",
              "      <td>0</td>\n",
              "      <td>0</td>\n",
              "    </tr>\n",
              "    <tr>\n",
              "      <th>29997</th>\n",
              "      <td>29998</td>\n",
              "      <td>30000</td>\n",
              "      <td>male</td>\n",
              "      <td>university</td>\n",
              "      <td>single</td>\n",
              "      <td>37</td>\n",
              "      <td>4 month delay</td>\n",
              "      <td>3 month delay</td>\n",
              "      <td>2 month delay</td>\n",
              "      <td>pay duly</td>\n",
              "      <td>use of revolving credit</td>\n",
              "      <td>use of revolving credit</td>\n",
              "      <td>3565</td>\n",
              "      <td>3356</td>\n",
              "      <td>2758</td>\n",
              "      <td>20878</td>\n",
              "      <td>20582</td>\n",
              "      <td>19357</td>\n",
              "      <td>0</td>\n",
              "      <td>0</td>\n",
              "      <td>22000</td>\n",
              "      <td>4200</td>\n",
              "      <td>2000</td>\n",
              "      <td>3100</td>\n",
              "      <td>1</td>\n",
              "    </tr>\n",
              "    <tr>\n",
              "      <th>29998</th>\n",
              "      <td>29999</td>\n",
              "      <td>80000</td>\n",
              "      <td>male</td>\n",
              "      <td>high school</td>\n",
              "      <td>married</td>\n",
              "      <td>41</td>\n",
              "      <td>1 month delay</td>\n",
              "      <td>pay duly</td>\n",
              "      <td>use of revolving credit</td>\n",
              "      <td>use of revolving credit</td>\n",
              "      <td>use of revolving credit</td>\n",
              "      <td>pay duly</td>\n",
              "      <td>-1645</td>\n",
              "      <td>78379</td>\n",
              "      <td>76304</td>\n",
              "      <td>52774</td>\n",
              "      <td>11855</td>\n",
              "      <td>48944</td>\n",
              "      <td>85900</td>\n",
              "      <td>3409</td>\n",
              "      <td>1178</td>\n",
              "      <td>1926</td>\n",
              "      <td>52964</td>\n",
              "      <td>1804</td>\n",
              "      <td>1</td>\n",
              "    </tr>\n",
              "    <tr>\n",
              "      <th>29999</th>\n",
              "      <td>30000</td>\n",
              "      <td>50000</td>\n",
              "      <td>male</td>\n",
              "      <td>university</td>\n",
              "      <td>married</td>\n",
              "      <td>46</td>\n",
              "      <td>use of revolving credit</td>\n",
              "      <td>use of revolving credit</td>\n",
              "      <td>use of revolving credit</td>\n",
              "      <td>use of revolving credit</td>\n",
              "      <td>use of revolving credit</td>\n",
              "      <td>use of revolving credit</td>\n",
              "      <td>47929</td>\n",
              "      <td>48905</td>\n",
              "      <td>49764</td>\n",
              "      <td>36535</td>\n",
              "      <td>32428</td>\n",
              "      <td>15313</td>\n",
              "      <td>2078</td>\n",
              "      <td>1800</td>\n",
              "      <td>1430</td>\n",
              "      <td>1000</td>\n",
              "      <td>1000</td>\n",
              "      <td>1000</td>\n",
              "      <td>1</td>\n",
              "    </tr>\n",
              "  </tbody>\n",
              "</table>\n",
              "<p>30000 rows × 25 columns</p>\n",
              "</div>"
            ],
            "text/plain": [
              "          ID  LIMIT_BAL     SEX    EDUCATION MARRIAGE  AGE  \\\n",
              "0          1      20000  female   university  married   24   \n",
              "1          2     120000  female   university   single   26   \n",
              "2          3      90000  female   university   single   34   \n",
              "3          4      50000  female   university  married   37   \n",
              "4          5      50000    male   university  married   57   \n",
              "...      ...        ...     ...          ...      ...  ...   \n",
              "29995  29996     220000    male  high school  married   39   \n",
              "29996  29997     150000    male  high school   single   43   \n",
              "29997  29998      30000    male   university   single   37   \n",
              "29998  29999      80000    male  high school  married   41   \n",
              "29999  30000      50000    male   university  married   46   \n",
              "\n",
              "                         PAY_0                    PAY_2  \\\n",
              "0                2 month delay            2 month delay   \n",
              "1                     pay duly            2 month delay   \n",
              "2      use of revolving credit  use of revolving credit   \n",
              "3      use of revolving credit  use of revolving credit   \n",
              "4                     pay duly  use of revolving credit   \n",
              "...                        ...                      ...   \n",
              "29995  use of revolving credit  use of revolving credit   \n",
              "29996                 pay duly                 pay duly   \n",
              "29997            4 month delay            3 month delay   \n",
              "29998            1 month delay                 pay duly   \n",
              "29999  use of revolving credit  use of revolving credit   \n",
              "\n",
              "                         PAY_3                    PAY_4  \\\n",
              "0                     pay duly                 pay duly   \n",
              "1      use of revolving credit  use of revolving credit   \n",
              "2      use of revolving credit  use of revolving credit   \n",
              "3      use of revolving credit  use of revolving credit   \n",
              "4                     pay duly  use of revolving credit   \n",
              "...                        ...                      ...   \n",
              "29995  use of revolving credit  use of revolving credit   \n",
              "29996                 pay duly                 pay duly   \n",
              "29997            2 month delay                 pay duly   \n",
              "29998  use of revolving credit  use of revolving credit   \n",
              "29999  use of revolving credit  use of revolving credit   \n",
              "\n",
              "                         PAY_5                    PAY_6  BILL_AMT1  BILL_AMT2  \\\n",
              "0               no consumption           no consumption       3913       3102   \n",
              "1      use of revolving credit            2 month delay       2682       1725   \n",
              "2      use of revolving credit  use of revolving credit      29239      14027   \n",
              "3      use of revolving credit  use of revolving credit      46990      48233   \n",
              "4      use of revolving credit  use of revolving credit       8617       5670   \n",
              "...                        ...                      ...        ...        ...   \n",
              "29995  use of revolving credit  use of revolving credit     188948     192815   \n",
              "29996  use of revolving credit  use of revolving credit       1683       1828   \n",
              "29997  use of revolving credit  use of revolving credit       3565       3356   \n",
              "29998  use of revolving credit                 pay duly      -1645      78379   \n",
              "29999  use of revolving credit  use of revolving credit      47929      48905   \n",
              "\n",
              "       BILL_AMT3  BILL_AMT4  BILL_AMT5  BILL_AMT6  PAY_AMT1  PAY_AMT2  \\\n",
              "0            689          0          0          0         0       689   \n",
              "1           2682       3272       3455       3261         0      1000   \n",
              "2          13559      14331      14948      15549      1518      1500   \n",
              "3          49291      28314      28959      29547      2000      2019   \n",
              "4          35835      20940      19146      19131      2000     36681   \n",
              "...          ...        ...        ...        ...       ...       ...   \n",
              "29995     208365      88004      31237      15980      8500     20000   \n",
              "29996       3502       8979       5190          0      1837      3526   \n",
              "29997       2758      20878      20582      19357         0         0   \n",
              "29998      76304      52774      11855      48944     85900      3409   \n",
              "29999      49764      36535      32428      15313      2078      1800   \n",
              "\n",
              "       PAY_AMT3  PAY_AMT4  PAY_AMT5  PAY_AMT6  DEFAULT_NEXT_MONTH  \n",
              "0             0         0         0         0                   1  \n",
              "1          1000      1000         0      2000                   1  \n",
              "2          1000      1000      1000      5000                   0  \n",
              "3          1200      1100      1069      1000                   0  \n",
              "4         10000      9000       689       679                   0  \n",
              "...         ...       ...       ...       ...                 ...  \n",
              "29995      5003      3047      5000      1000                   0  \n",
              "29996      8998       129         0         0                   0  \n",
              "29997     22000      4200      2000      3100                   1  \n",
              "29998      1178      1926     52964      1804                   1  \n",
              "29999      1430      1000      1000      1000                   1  \n",
              "\n",
              "[30000 rows x 25 columns]"
            ]
          },
          "metadata": {
            "tags": []
          },
          "execution_count": 85
        }
      ]
    },
    {
      "cell_type": "code",
      "metadata": {
        "id": "xfV2C6y4ILf_",
        "colab_type": "code",
        "colab": {
          "base_uri": "https://localhost:8080/",
          "height": 320
        },
        "outputId": "aec55702-1939-492d-e0e9-bcfce0cbab26"
      },
      "source": [
        "### Lets First Do LOCO\n",
        "data[X + [y]].describe()"
      ],
      "execution_count": 88,
      "outputs": [
        {
          "output_type": "execute_result",
          "data": {
            "text/html": [
              "<div>\n",
              "<style scoped>\n",
              "    .dataframe tbody tr th:only-of-type {\n",
              "        vertical-align: middle;\n",
              "    }\n",
              "\n",
              "    .dataframe tbody tr th {\n",
              "        vertical-align: top;\n",
              "    }\n",
              "\n",
              "    .dataframe thead th {\n",
              "        text-align: right;\n",
              "    }\n",
              "</style>\n",
              "<table border=\"1\" class=\"dataframe\">\n",
              "  <thead>\n",
              "    <tr style=\"text-align: right;\">\n",
              "      <th></th>\n",
              "      <th>LIMIT_BAL</th>\n",
              "      <th>AGE</th>\n",
              "      <th>BILL_AMT1</th>\n",
              "      <th>BILL_AMT2</th>\n",
              "      <th>BILL_AMT3</th>\n",
              "      <th>BILL_AMT4</th>\n",
              "      <th>BILL_AMT5</th>\n",
              "      <th>BILL_AMT6</th>\n",
              "      <th>PAY_AMT1</th>\n",
              "      <th>PAY_AMT2</th>\n",
              "      <th>PAY_AMT3</th>\n",
              "      <th>PAY_AMT4</th>\n",
              "      <th>PAY_AMT5</th>\n",
              "      <th>PAY_AMT6</th>\n",
              "      <th>DEFAULT_NEXT_MONTH</th>\n",
              "    </tr>\n",
              "  </thead>\n",
              "  <tbody>\n",
              "    <tr>\n",
              "      <th>count</th>\n",
              "      <td>30000.000000</td>\n",
              "      <td>30000.000000</td>\n",
              "      <td>30000.000000</td>\n",
              "      <td>30000.000000</td>\n",
              "      <td>3.000000e+04</td>\n",
              "      <td>30000.000000</td>\n",
              "      <td>30000.000000</td>\n",
              "      <td>30000.000000</td>\n",
              "      <td>30000.000000</td>\n",
              "      <td>3.000000e+04</td>\n",
              "      <td>30000.00000</td>\n",
              "      <td>30000.000000</td>\n",
              "      <td>30000.000000</td>\n",
              "      <td>30000.000000</td>\n",
              "      <td>30000.000000</td>\n",
              "    </tr>\n",
              "    <tr>\n",
              "      <th>mean</th>\n",
              "      <td>167484.322667</td>\n",
              "      <td>35.485500</td>\n",
              "      <td>51223.330900</td>\n",
              "      <td>49179.075167</td>\n",
              "      <td>4.701315e+04</td>\n",
              "      <td>43262.948967</td>\n",
              "      <td>40311.400967</td>\n",
              "      <td>38871.760400</td>\n",
              "      <td>5663.580500</td>\n",
              "      <td>5.921163e+03</td>\n",
              "      <td>5225.68150</td>\n",
              "      <td>4826.076867</td>\n",
              "      <td>4799.387633</td>\n",
              "      <td>5215.502567</td>\n",
              "      <td>0.221200</td>\n",
              "    </tr>\n",
              "    <tr>\n",
              "      <th>std</th>\n",
              "      <td>129747.661567</td>\n",
              "      <td>9.217904</td>\n",
              "      <td>73635.860576</td>\n",
              "      <td>71173.768783</td>\n",
              "      <td>6.934939e+04</td>\n",
              "      <td>64332.856134</td>\n",
              "      <td>60797.155770</td>\n",
              "      <td>59554.107537</td>\n",
              "      <td>16563.280354</td>\n",
              "      <td>2.304087e+04</td>\n",
              "      <td>17606.96147</td>\n",
              "      <td>15666.159744</td>\n",
              "      <td>15278.305679</td>\n",
              "      <td>17777.465775</td>\n",
              "      <td>0.415062</td>\n",
              "    </tr>\n",
              "    <tr>\n",
              "      <th>min</th>\n",
              "      <td>10000.000000</td>\n",
              "      <td>21.000000</td>\n",
              "      <td>-165580.000000</td>\n",
              "      <td>-69777.000000</td>\n",
              "      <td>-1.572640e+05</td>\n",
              "      <td>-170000.000000</td>\n",
              "      <td>-81334.000000</td>\n",
              "      <td>-339603.000000</td>\n",
              "      <td>0.000000</td>\n",
              "      <td>0.000000e+00</td>\n",
              "      <td>0.00000</td>\n",
              "      <td>0.000000</td>\n",
              "      <td>0.000000</td>\n",
              "      <td>0.000000</td>\n",
              "      <td>0.000000</td>\n",
              "    </tr>\n",
              "    <tr>\n",
              "      <th>25%</th>\n",
              "      <td>50000.000000</td>\n",
              "      <td>28.000000</td>\n",
              "      <td>3558.750000</td>\n",
              "      <td>2984.750000</td>\n",
              "      <td>2.666250e+03</td>\n",
              "      <td>2326.750000</td>\n",
              "      <td>1763.000000</td>\n",
              "      <td>1256.000000</td>\n",
              "      <td>1000.000000</td>\n",
              "      <td>8.330000e+02</td>\n",
              "      <td>390.00000</td>\n",
              "      <td>296.000000</td>\n",
              "      <td>252.500000</td>\n",
              "      <td>117.750000</td>\n",
              "      <td>0.000000</td>\n",
              "    </tr>\n",
              "    <tr>\n",
              "      <th>50%</th>\n",
              "      <td>140000.000000</td>\n",
              "      <td>34.000000</td>\n",
              "      <td>22381.500000</td>\n",
              "      <td>21200.000000</td>\n",
              "      <td>2.008850e+04</td>\n",
              "      <td>19052.000000</td>\n",
              "      <td>18104.500000</td>\n",
              "      <td>17071.000000</td>\n",
              "      <td>2100.000000</td>\n",
              "      <td>2.009000e+03</td>\n",
              "      <td>1800.00000</td>\n",
              "      <td>1500.000000</td>\n",
              "      <td>1500.000000</td>\n",
              "      <td>1500.000000</td>\n",
              "      <td>0.000000</td>\n",
              "    </tr>\n",
              "    <tr>\n",
              "      <th>75%</th>\n",
              "      <td>240000.000000</td>\n",
              "      <td>41.000000</td>\n",
              "      <td>67091.000000</td>\n",
              "      <td>64006.250000</td>\n",
              "      <td>6.016475e+04</td>\n",
              "      <td>54506.000000</td>\n",
              "      <td>50190.500000</td>\n",
              "      <td>49198.250000</td>\n",
              "      <td>5006.000000</td>\n",
              "      <td>5.000000e+03</td>\n",
              "      <td>4505.00000</td>\n",
              "      <td>4013.250000</td>\n",
              "      <td>4031.500000</td>\n",
              "      <td>4000.000000</td>\n",
              "      <td>0.000000</td>\n",
              "    </tr>\n",
              "    <tr>\n",
              "      <th>max</th>\n",
              "      <td>1000000.000000</td>\n",
              "      <td>79.000000</td>\n",
              "      <td>964511.000000</td>\n",
              "      <td>983931.000000</td>\n",
              "      <td>1.664089e+06</td>\n",
              "      <td>891586.000000</td>\n",
              "      <td>927171.000000</td>\n",
              "      <td>961664.000000</td>\n",
              "      <td>873552.000000</td>\n",
              "      <td>1.684259e+06</td>\n",
              "      <td>896040.00000</td>\n",
              "      <td>621000.000000</td>\n",
              "      <td>426529.000000</td>\n",
              "      <td>528666.000000</td>\n",
              "      <td>1.000000</td>\n",
              "    </tr>\n",
              "  </tbody>\n",
              "</table>\n",
              "</div>"
            ],
            "text/plain": [
              "            LIMIT_BAL           AGE      BILL_AMT1      BILL_AMT2  \\\n",
              "count    30000.000000  30000.000000   30000.000000   30000.000000   \n",
              "mean    167484.322667     35.485500   51223.330900   49179.075167   \n",
              "std     129747.661567      9.217904   73635.860576   71173.768783   \n",
              "min      10000.000000     21.000000 -165580.000000  -69777.000000   \n",
              "25%      50000.000000     28.000000    3558.750000    2984.750000   \n",
              "50%     140000.000000     34.000000   22381.500000   21200.000000   \n",
              "75%     240000.000000     41.000000   67091.000000   64006.250000   \n",
              "max    1000000.000000     79.000000  964511.000000  983931.000000   \n",
              "\n",
              "          BILL_AMT3      BILL_AMT4      BILL_AMT5      BILL_AMT6  \\\n",
              "count  3.000000e+04   30000.000000   30000.000000   30000.000000   \n",
              "mean   4.701315e+04   43262.948967   40311.400967   38871.760400   \n",
              "std    6.934939e+04   64332.856134   60797.155770   59554.107537   \n",
              "min   -1.572640e+05 -170000.000000  -81334.000000 -339603.000000   \n",
              "25%    2.666250e+03    2326.750000    1763.000000    1256.000000   \n",
              "50%    2.008850e+04   19052.000000   18104.500000   17071.000000   \n",
              "75%    6.016475e+04   54506.000000   50190.500000   49198.250000   \n",
              "max    1.664089e+06  891586.000000  927171.000000  961664.000000   \n",
              "\n",
              "            PAY_AMT1      PAY_AMT2      PAY_AMT3       PAY_AMT4  \\\n",
              "count   30000.000000  3.000000e+04   30000.00000   30000.000000   \n",
              "mean     5663.580500  5.921163e+03    5225.68150    4826.076867   \n",
              "std     16563.280354  2.304087e+04   17606.96147   15666.159744   \n",
              "min         0.000000  0.000000e+00       0.00000       0.000000   \n",
              "25%      1000.000000  8.330000e+02     390.00000     296.000000   \n",
              "50%      2100.000000  2.009000e+03    1800.00000    1500.000000   \n",
              "75%      5006.000000  5.000000e+03    4505.00000    4013.250000   \n",
              "max    873552.000000  1.684259e+06  896040.00000  621000.000000   \n",
              "\n",
              "            PAY_AMT5       PAY_AMT6  DEFAULT_NEXT_MONTH  \n",
              "count   30000.000000   30000.000000        30000.000000  \n",
              "mean     4799.387633    5215.502567            0.221200  \n",
              "std     15278.305679   17777.465775            0.415062  \n",
              "min         0.000000       0.000000            0.000000  \n",
              "25%       252.500000     117.750000            0.000000  \n",
              "50%      1500.000000    1500.000000            0.000000  \n",
              "75%      4031.500000    4000.000000            0.000000  \n",
              "max    426529.000000  528666.000000            1.000000  "
            ]
          },
          "metadata": {
            "tags": []
          },
          "execution_count": 88
        }
      ]
    },
    {
      "cell_type": "code",
      "metadata": {
        "id": "a9qMbynSMW7_",
        "colab_type": "code",
        "colab": {}
      },
      "source": [
        "yhat = 'DEFAULT_NEXT_MONTH'"
      ],
      "execution_count": 0,
      "outputs": []
    },
    {
      "cell_type": "code",
      "metadata": {
        "id": "9zWpYwHOM6Vv",
        "colab_type": "code",
        "colab": {}
      },
      "source": [
        "i = \"LIMIT_BAL\""
      ],
      "execution_count": 0,
      "outputs": []
    },
    {
      "cell_type": "code",
      "metadata": {
        "id": "BZjRMcP2M33O",
        "colab_type": "code",
        "colab": {}
      },
      "source": [
        "test_loco = test.copy()\n",
        "test_loco[i] = np.nan\n",
        "preds_loco = model.predict(test_loco)"
      ],
      "execution_count": 0,
      "outputs": []
    },
    {
      "cell_type": "code",
      "metadata": {
        "id": "uu3fkrwVM8_Q",
        "colab_type": "code",
        "colab": {
          "base_uri": "https://localhost:8080/",
          "height": 52
        },
        "outputId": "35c95d8d-375b-4ac8-ae8a-f49341244793"
      },
      "source": [
        "preds_loco"
      ],
      "execution_count": 91,
      "outputs": [
        {
          "output_type": "execute_result",
          "data": {
            "text/plain": [
              "array([0.77539217, 0.07649864, 0.28123155, ..., 0.32319451, 0.92266493,\n",
              "       0.13997837])"
            ]
          },
          "metadata": {
            "tags": []
          },
          "execution_count": 91
        }
      ]
    },
    {
      "cell_type": "markdown",
      "metadata": {
        "id": "Xo8q6arEQwc1",
        "colab_type": "text"
      },
      "source": [
        "### Generate reason codes using the LOCO method"
      ]
    },
    {
      "cell_type": "code",
      "metadata": {
        "id": "J8i6B2EjLXOO",
        "colab_type": "code",
        "colab": {
          "base_uri": "https://localhost:8080/",
          "height": 726
        },
        "outputId": "136ce794-f3e6-4d52-bb2c-4621b68bcdc2"
      },
      "source": [
        "\n",
        "print('Calculating LOCO contributions ...')\n",
        "for k, i in enumerate(X):\n",
        "\n",
        "    # train and predict with x_i set to missing\n",
        "    test_loco = test.drop([\"DEFAULT_NEXT_MONTH\"],axis=1).copy()\n",
        "    test_loco[i] = np.nan\n",
        "    preds_loco = model.predict(test_loco)\n",
        "    \n",
        "    # create a new, named column for the LOCO prediction\n",
        "    if k ==0:\n",
        "      preds2 = pd.DataFrame(preds_loco)\n",
        "      preds2.columns = [i]\n",
        "      preds2['DEFAULT_NEXT_MONTH_pred']= model.predict(test.drop([\"DEFAULT_NEXT_MONTH\"],axis=1))\n",
        "      preds2['ID'] = test.index\n",
        "      preds2 = preds2.set_index('ID')\n",
        "    else:\n",
        "      preds2[i] = preds_loco\n",
        "    \n",
        "    # subtract the LOCO prediction from the original prediction\n",
        "    preds2[i] = preds2['DEFAULT_NEXT_MONTH_pred'] - preds2[i]\n",
        "    \n",
        "    # update progress\n",
        "    print('LOCO Progress: ' + i + ' (' + str(k+1) + '/' + str(len(X)) + ') ...')\n",
        "    \n",
        "# scale contributions to sum to yhat - y_0\n",
        "print('\\nScaling contributions ...')\n",
        "\n",
        "y_0 = test['DEFAULT_NEXT_MONTH'].mean()\n",
        "pred_ = preds2['DEFAULT_NEXT_MONTH_pred']\n",
        "scaler = (pred_ - y_0) / preds2[X].sum(axis=1)\n",
        "preds2[X] = preds2[X].multiply(scaler, axis=0)   \n",
        "\n",
        "print('Done.')  \n",
        "\n",
        "preds2.head()"
      ],
      "execution_count": 97,
      "outputs": [
        {
          "output_type": "stream",
          "text": [
            "Calculating LOCO contributions ...\n",
            "LOCO Progress: LIMIT_BAL (1/23) ...\n",
            "LOCO Progress: SEX (2/23) ...\n",
            "LOCO Progress: EDUCATION (3/23) ...\n",
            "LOCO Progress: MARRIAGE (4/23) ...\n",
            "LOCO Progress: AGE (5/23) ...\n",
            "LOCO Progress: PAY_0 (6/23) ...\n",
            "LOCO Progress: PAY_2 (7/23) ...\n",
            "LOCO Progress: PAY_3 (8/23) ...\n",
            "LOCO Progress: PAY_4 (9/23) ...\n",
            "LOCO Progress: PAY_5 (10/23) ...\n",
            "LOCO Progress: PAY_6 (11/23) ...\n",
            "LOCO Progress: BILL_AMT1 (12/23) ...\n",
            "LOCO Progress: BILL_AMT2 (13/23) ...\n",
            "LOCO Progress: BILL_AMT3 (14/23) ...\n",
            "LOCO Progress: BILL_AMT4 (15/23) ...\n",
            "LOCO Progress: BILL_AMT5 (16/23) ...\n",
            "LOCO Progress: BILL_AMT6 (17/23) ...\n",
            "LOCO Progress: PAY_AMT1 (18/23) ...\n",
            "LOCO Progress: PAY_AMT2 (19/23) ...\n",
            "LOCO Progress: PAY_AMT3 (20/23) ...\n",
            "LOCO Progress: PAY_AMT4 (21/23) ...\n",
            "LOCO Progress: PAY_AMT5 (22/23) ...\n",
            "LOCO Progress: PAY_AMT6 (23/23) ...\n",
            "\n",
            "Scaling contributions ...\n",
            "Done.\n"
          ],
          "name": "stdout"
        },
        {
          "output_type": "execute_result",
          "data": {
            "text/html": [
              "<div>\n",
              "<style scoped>\n",
              "    .dataframe tbody tr th:only-of-type {\n",
              "        vertical-align: middle;\n",
              "    }\n",
              "\n",
              "    .dataframe tbody tr th {\n",
              "        vertical-align: top;\n",
              "    }\n",
              "\n",
              "    .dataframe thead th {\n",
              "        text-align: right;\n",
              "    }\n",
              "</style>\n",
              "<table border=\"1\" class=\"dataframe\">\n",
              "  <thead>\n",
              "    <tr style=\"text-align: right;\">\n",
              "      <th></th>\n",
              "      <th>LIMIT_BAL</th>\n",
              "      <th>DEFAULT_NEXT_MONTH</th>\n",
              "      <th>SEX</th>\n",
              "      <th>EDUCATION</th>\n",
              "      <th>MARRIAGE</th>\n",
              "      <th>AGE</th>\n",
              "      <th>PAY_0</th>\n",
              "      <th>PAY_2</th>\n",
              "      <th>PAY_3</th>\n",
              "      <th>PAY_4</th>\n",
              "      <th>PAY_5</th>\n",
              "      <th>PAY_6</th>\n",
              "      <th>BILL_AMT1</th>\n",
              "      <th>BILL_AMT2</th>\n",
              "      <th>BILL_AMT3</th>\n",
              "      <th>BILL_AMT4</th>\n",
              "      <th>BILL_AMT5</th>\n",
              "      <th>BILL_AMT6</th>\n",
              "      <th>PAY_AMT1</th>\n",
              "      <th>PAY_AMT2</th>\n",
              "      <th>PAY_AMT3</th>\n",
              "      <th>PAY_AMT4</th>\n",
              "      <th>PAY_AMT5</th>\n",
              "      <th>PAY_AMT6</th>\n",
              "    </tr>\n",
              "    <tr>\n",
              "      <th>ID</th>\n",
              "      <th></th>\n",
              "      <th></th>\n",
              "      <th></th>\n",
              "      <th></th>\n",
              "      <th></th>\n",
              "      <th></th>\n",
              "      <th></th>\n",
              "      <th></th>\n",
              "      <th></th>\n",
              "      <th></th>\n",
              "      <th></th>\n",
              "      <th></th>\n",
              "      <th></th>\n",
              "      <th></th>\n",
              "      <th></th>\n",
              "      <th></th>\n",
              "      <th></th>\n",
              "      <th></th>\n",
              "      <th></th>\n",
              "      <th></th>\n",
              "      <th></th>\n",
              "      <th></th>\n",
              "      <th></th>\n",
              "      <th></th>\n",
              "    </tr>\n",
              "  </thead>\n",
              "  <tbody>\n",
              "    <tr>\n",
              "      <th>1</th>\n",
              "      <td>-0.087589</td>\n",
              "      <td>0.741446</td>\n",
              "      <td>-0.027768</td>\n",
              "      <td>0.000000</td>\n",
              "      <td>0.000000</td>\n",
              "      <td>0.001757</td>\n",
              "      <td>0.840609</td>\n",
              "      <td>0.036896</td>\n",
              "      <td>-0.159518</td>\n",
              "      <td>-0.031806</td>\n",
              "      <td>-0.034717</td>\n",
              "      <td>-0.000795</td>\n",
              "      <td>-0.006602</td>\n",
              "      <td>-0.001185</td>\n",
              "      <td>0.0</td>\n",
              "      <td>0.000000</td>\n",
              "      <td>0.000000</td>\n",
              "      <td>0.0</td>\n",
              "      <td>0.000000</td>\n",
              "      <td>-0.007187</td>\n",
              "      <td>0.000000</td>\n",
              "      <td>0.000000</td>\n",
              "      <td>0.000000</td>\n",
              "      <td>0.000000</td>\n",
              "    </tr>\n",
              "    <tr>\n",
              "      <th>7</th>\n",
              "      <td>-0.074004</td>\n",
              "      <td>0.023761</td>\n",
              "      <td>0.000000</td>\n",
              "      <td>0.000000</td>\n",
              "      <td>-0.014284</td>\n",
              "      <td>0.010908</td>\n",
              "      <td>0.000000</td>\n",
              "      <td>0.000000</td>\n",
              "      <td>0.000000</td>\n",
              "      <td>0.000000</td>\n",
              "      <td>0.000000</td>\n",
              "      <td>0.000000</td>\n",
              "      <td>-0.017010</td>\n",
              "      <td>-0.002131</td>\n",
              "      <td>0.0</td>\n",
              "      <td>-0.004393</td>\n",
              "      <td>-0.002042</td>\n",
              "      <td>0.0</td>\n",
              "      <td>-0.031742</td>\n",
              "      <td>-0.028994</td>\n",
              "      <td>-0.026132</td>\n",
              "      <td>-0.004187</td>\n",
              "      <td>-0.001373</td>\n",
              "      <td>-0.000204</td>\n",
              "    </tr>\n",
              "    <tr>\n",
              "      <th>9</th>\n",
              "      <td>0.018465</td>\n",
              "      <td>0.245857</td>\n",
              "      <td>0.012581</td>\n",
              "      <td>-0.001143</td>\n",
              "      <td>-0.000000</td>\n",
              "      <td>-0.002951</td>\n",
              "      <td>-0.000000</td>\n",
              "      <td>-0.000000</td>\n",
              "      <td>-0.046886</td>\n",
              "      <td>-0.000000</td>\n",
              "      <td>-0.000000</td>\n",
              "      <td>-0.000000</td>\n",
              "      <td>0.021144</td>\n",
              "      <td>-0.000000</td>\n",
              "      <td>-0.0</td>\n",
              "      <td>-0.000000</td>\n",
              "      <td>0.003358</td>\n",
              "      <td>-0.0</td>\n",
              "      <td>0.005743</td>\n",
              "      <td>-0.000000</td>\n",
              "      <td>0.008711</td>\n",
              "      <td>0.004575</td>\n",
              "      <td>0.001027</td>\n",
              "      <td>0.001883</td>\n",
              "    </tr>\n",
              "    <tr>\n",
              "      <th>11</th>\n",
              "      <td>0.005469</td>\n",
              "      <td>0.234787</td>\n",
              "      <td>0.003596</td>\n",
              "      <td>-0.000465</td>\n",
              "      <td>0.002360</td>\n",
              "      <td>-0.002400</td>\n",
              "      <td>-0.000000</td>\n",
              "      <td>-0.000000</td>\n",
              "      <td>-0.014868</td>\n",
              "      <td>-0.000000</td>\n",
              "      <td>-0.000000</td>\n",
              "      <td>0.000998</td>\n",
              "      <td>0.012758</td>\n",
              "      <td>-0.000000</td>\n",
              "      <td>-0.0</td>\n",
              "      <td>-0.000000</td>\n",
              "      <td>0.000925</td>\n",
              "      <td>-0.0</td>\n",
              "      <td>0.002540</td>\n",
              "      <td>-0.000000</td>\n",
              "      <td>0.003220</td>\n",
              "      <td>0.000950</td>\n",
              "      <td>0.000353</td>\n",
              "      <td>-0.000000</td>\n",
              "    </tr>\n",
              "    <tr>\n",
              "      <th>12</th>\n",
              "      <td>-0.036447</td>\n",
              "      <td>0.076015</td>\n",
              "      <td>-0.003719</td>\n",
              "      <td>0.000000</td>\n",
              "      <td>-0.009344</td>\n",
              "      <td>0.017796</td>\n",
              "      <td>0.000000</td>\n",
              "      <td>-0.001542</td>\n",
              "      <td>-0.013797</td>\n",
              "      <td>-0.002496</td>\n",
              "      <td>-0.012118</td>\n",
              "      <td>0.021336</td>\n",
              "      <td>-0.015861</td>\n",
              "      <td>-0.002648</td>\n",
              "      <td>0.0</td>\n",
              "      <td>-0.004111</td>\n",
              "      <td>-0.002296</td>\n",
              "      <td>0.0</td>\n",
              "      <td>-0.026130</td>\n",
              "      <td>-0.011256</td>\n",
              "      <td>-0.022017</td>\n",
              "      <td>-0.005314</td>\n",
              "      <td>0.000000</td>\n",
              "      <td>-0.013373</td>\n",
              "    </tr>\n",
              "  </tbody>\n",
              "</table>\n",
              "</div>"
            ],
            "text/plain": [
              "    LIMIT_BAL  DEFAULT_NEXT_MONTH       SEX  EDUCATION  MARRIAGE       AGE  \\\n",
              "ID                                                                           \n",
              "1   -0.087589            0.741446 -0.027768   0.000000  0.000000  0.001757   \n",
              "7   -0.074004            0.023761  0.000000   0.000000 -0.014284  0.010908   \n",
              "9    0.018465            0.245857  0.012581  -0.001143 -0.000000 -0.002951   \n",
              "11   0.005469            0.234787  0.003596  -0.000465  0.002360 -0.002400   \n",
              "12  -0.036447            0.076015 -0.003719   0.000000 -0.009344  0.017796   \n",
              "\n",
              "       PAY_0     PAY_2     PAY_3     PAY_4     PAY_5     PAY_6  BILL_AMT1  \\\n",
              "ID                                                                          \n",
              "1   0.840609  0.036896 -0.159518 -0.031806 -0.034717 -0.000795  -0.006602   \n",
              "7   0.000000  0.000000  0.000000  0.000000  0.000000  0.000000  -0.017010   \n",
              "9  -0.000000 -0.000000 -0.046886 -0.000000 -0.000000 -0.000000   0.021144   \n",
              "11 -0.000000 -0.000000 -0.014868 -0.000000 -0.000000  0.000998   0.012758   \n",
              "12  0.000000 -0.001542 -0.013797 -0.002496 -0.012118  0.021336  -0.015861   \n",
              "\n",
              "    BILL_AMT2  BILL_AMT3  BILL_AMT4  BILL_AMT5  BILL_AMT6  PAY_AMT1  PAY_AMT2  \\\n",
              "ID                                                                              \n",
              "1   -0.001185        0.0   0.000000   0.000000        0.0  0.000000 -0.007187   \n",
              "7   -0.002131        0.0  -0.004393  -0.002042        0.0 -0.031742 -0.028994   \n",
              "9   -0.000000       -0.0  -0.000000   0.003358       -0.0  0.005743 -0.000000   \n",
              "11  -0.000000       -0.0  -0.000000   0.000925       -0.0  0.002540 -0.000000   \n",
              "12  -0.002648        0.0  -0.004111  -0.002296        0.0 -0.026130 -0.011256   \n",
              "\n",
              "    PAY_AMT3  PAY_AMT4  PAY_AMT5  PAY_AMT6  \n",
              "ID                                          \n",
              "1   0.000000  0.000000  0.000000  0.000000  \n",
              "7  -0.026132 -0.004187 -0.001373 -0.000204  \n",
              "9   0.008711  0.004575  0.001027  0.001883  \n",
              "11  0.003220  0.000950  0.000353 -0.000000  \n",
              "12 -0.022017 -0.005314  0.000000 -0.013373  "
            ]
          },
          "metadata": {
            "tags": []
          },
          "execution_count": 97
        }
      ]
    },
    {
      "cell_type": "markdown",
      "metadata": {
        "id": "VjtBnoglQnBr",
        "colab_type": "text"
      },
      "source": [
        "\n",
        "\n",
        "The numeric LOCO values in each column are an estimate of how much each variable contributed to each prediction. LOCO can indicate how a variable and its values were weighted in any given decision by the model. These values are crucially important for machine learning interpretability and are related to \"local feature importance\", \"reason codes\", or \"turn-down codes.\" The latter phrases are borrowed from credit scoring. Credit lenders in the U.S. must provide reasons for automatically rejecting a credit application. Reason codes can be easily extracted from LOCO local variable contribution values by simply ranking the variables that played the largest role in any given decision.\n"
      ]
    },
    {
      "cell_type": "code",
      "metadata": {
        "id": "Dzea6hydRQE5",
        "colab_type": "code",
        "colab": {
          "base_uri": "https://localhost:8080/",
          "height": 132
        },
        "outputId": "fadc0ac7-f139-4ef3-9464-de2de61d54e8"
      },
      "source": [
        "risky_loco"
      ],
      "execution_count": 102,
      "outputs": [
        {
          "output_type": "execute_result",
          "data": {
            "text/html": [
              "<div>\n",
              "<style scoped>\n",
              "    .dataframe tbody tr th:only-of-type {\n",
              "        vertical-align: middle;\n",
              "    }\n",
              "\n",
              "    .dataframe tbody tr th {\n",
              "        vertical-align: top;\n",
              "    }\n",
              "\n",
              "    .dataframe thead th {\n",
              "        text-align: right;\n",
              "    }\n",
              "</style>\n",
              "<table border=\"1\" class=\"dataframe\">\n",
              "  <thead>\n",
              "    <tr style=\"text-align: right;\">\n",
              "      <th></th>\n",
              "      <th>LIMIT_BAL</th>\n",
              "      <th>SEX</th>\n",
              "      <th>EDUCATION</th>\n",
              "      <th>MARRIAGE</th>\n",
              "      <th>AGE</th>\n",
              "      <th>PAY_0</th>\n",
              "      <th>PAY_2</th>\n",
              "      <th>PAY_3</th>\n",
              "      <th>PAY_4</th>\n",
              "      <th>PAY_5</th>\n",
              "      <th>PAY_6</th>\n",
              "      <th>BILL_AMT1</th>\n",
              "      <th>BILL_AMT2</th>\n",
              "      <th>BILL_AMT3</th>\n",
              "      <th>BILL_AMT4</th>\n",
              "      <th>BILL_AMT5</th>\n",
              "      <th>BILL_AMT6</th>\n",
              "      <th>PAY_AMT1</th>\n",
              "      <th>PAY_AMT2</th>\n",
              "      <th>PAY_AMT3</th>\n",
              "      <th>PAY_AMT4</th>\n",
              "      <th>PAY_AMT5</th>\n",
              "      <th>PAY_AMT6</th>\n",
              "    </tr>\n",
              "    <tr>\n",
              "      <th>ID</th>\n",
              "      <th></th>\n",
              "      <th></th>\n",
              "      <th></th>\n",
              "      <th></th>\n",
              "      <th></th>\n",
              "      <th></th>\n",
              "      <th></th>\n",
              "      <th></th>\n",
              "      <th></th>\n",
              "      <th></th>\n",
              "      <th></th>\n",
              "      <th></th>\n",
              "      <th></th>\n",
              "      <th></th>\n",
              "      <th></th>\n",
              "      <th></th>\n",
              "      <th></th>\n",
              "      <th></th>\n",
              "      <th></th>\n",
              "      <th></th>\n",
              "      <th></th>\n",
              "      <th></th>\n",
              "      <th></th>\n",
              "    </tr>\n",
              "  </thead>\n",
              "  <tbody>\n",
              "    <tr>\n",
              "      <th>17757</th>\n",
              "      <td>0.0</td>\n",
              "      <td>-0.050616</td>\n",
              "      <td>0.0</td>\n",
              "      <td>0.0</td>\n",
              "      <td>0.080526</td>\n",
              "      <td>0.515178</td>\n",
              "      <td>0.008199</td>\n",
              "      <td>0.003268</td>\n",
              "      <td>0.055602</td>\n",
              "      <td>0.079242</td>\n",
              "      <td>0.095613</td>\n",
              "      <td>-0.013842</td>\n",
              "      <td>0.0</td>\n",
              "      <td>0.0</td>\n",
              "      <td>0.0</td>\n",
              "      <td>-0.049255</td>\n",
              "      <td>-0.021064</td>\n",
              "      <td>0.0</td>\n",
              "      <td>0.0</td>\n",
              "      <td>0.0</td>\n",
              "      <td>0.0</td>\n",
              "      <td>0.0</td>\n",
              "      <td>0.0</td>\n",
              "    </tr>\n",
              "  </tbody>\n",
              "</table>\n",
              "</div>"
            ],
            "text/plain": [
              "       LIMIT_BAL       SEX  EDUCATION  MARRIAGE       AGE     PAY_0     PAY_2  \\\n",
              "ID                                                                              \n",
              "17757        0.0 -0.050616        0.0       0.0  0.080526  0.515178  0.008199   \n",
              "\n",
              "          PAY_3     PAY_4     PAY_5     PAY_6  BILL_AMT1  BILL_AMT2  \\\n",
              "ID                                                                    \n",
              "17757  0.003268  0.055602  0.079242  0.095613  -0.013842        0.0   \n",
              "\n",
              "       BILL_AMT3  BILL_AMT4  BILL_AMT5  BILL_AMT6  PAY_AMT1  PAY_AMT2  \\\n",
              "ID                                                                      \n",
              "17757        0.0        0.0  -0.049255  -0.021064       0.0       0.0   \n",
              "\n",
              "       PAY_AMT3  PAY_AMT4  PAY_AMT5  PAY_AMT6  \n",
              "ID                                             \n",
              "17757       0.0       0.0       0.0       0.0  "
            ]
          },
          "metadata": {
            "tags": []
          },
          "execution_count": 102
        }
      ]
    },
    {
      "cell_type": "code",
      "metadata": {
        "id": "KYqdd3AZO7Cq",
        "colab_type": "code",
        "colab": {
          "base_uri": "https://localhost:8080/",
          "height": 317
        },
        "outputId": "a7f68c7e-cd19-4c23-eab0-76ae964d0cbb"
      },
      "source": [
        "# select single customer\n",
        "# convert to Pandas\n",
        "# drop prediction and row ID\n",
        "\n",
        "risky_loco = preds2[preds2.index == int(percentile_dict[99])].drop([\"DEFAULT_NEXT_MONTH\"], axis=1)   \n",
        "\n",
        "# transpose into column vector and sort        \n",
        "risky_loco = risky_loco.T.sort_values(by=17757, ascending=False)[:5]\n",
        "\n",
        "# plot\n",
        "_ = risky_loco.plot(kind='bar', \n",
        "                    title='Top Five Reason Codes for a Risky Customer\\n', \n",
        "                    legend=False)"
      ],
      "execution_count": 104,
      "outputs": [
        {
          "output_type": "display_data",
          "data": {
            "image/png": "[encoded data removed]",
            "text/plain": [
              "<Figure size 432x288 with 1 Axes>"
            ]
          },
          "metadata": {
            "tags": []
          }
        }
      ]
    },
    {
      "cell_type": "code",
      "metadata": {
        "id": "KGY_fWF-Rpxa",
        "colab_type": "code",
        "colab": {
          "base_uri": "https://localhost:8080/",
          "height": 225
        },
        "outputId": "6eb5d458-a8b9-4e56-9f58-64822f06d826"
      },
      "source": [
        "data['ID']"
      ],
      "execution_count": 106,
      "outputs": [
        {
          "output_type": "execute_result",
          "data": {
            "text/plain": [
              "0            1\n",
              "1            2\n",
              "2            3\n",
              "3            4\n",
              "4            5\n",
              "         ...  \n",
              "29995    29996\n",
              "29996    29997\n",
              "29997    29998\n",
              "29998    29999\n",
              "29999    30000\n",
              "Name: ID, Length: 30000, dtype: int64"
            ]
          },
          "metadata": {
            "tags": []
          },
          "execution_count": 106
        }
      ]
    },
    {
      "cell_type": "code",
      "metadata": {
        "id": "HAhd47MhRuET",
        "colab_type": "code",
        "colab": {
          "base_uri": "https://localhost:8080/",
          "height": 34
        },
        "outputId": "1fbe2ab5-0209-42df-fb9e-32f692921ade"
      },
      "source": [
        "def recode_cc_data(frame):\n",
        "    \n",
        "    \"\"\" Recodes numeric categorical variables into categorical character variables\n",
        "    with more transparent values. \n",
        "    \n",
        "    Args:\n",
        "        frame: Pandas DataFrame version of UCI credit card default data.\n",
        "        \n",
        "    Returns: \n",
        "        H2OFrame with recoded values.\n",
        "        \n",
        "    \"\"\"\n",
        "    \n",
        "    # define recoded values\n",
        "    sex_dict = {1:'male', 2:'female'}\n",
        "    education_dict = {0:'other', 1:'graduate school', 2:'university', 3:'high school', \n",
        "                      4:'other', 5:'other', 6:'other'}\n",
        "    marriage_dict = {0:'other', 1:'married', 2:'single', 3:'divorced'}\n",
        "    pay_dict = {-2:'no consumption', -1:'pay duly', 0:'use of revolving credit', 1:'1 month delay', \n",
        "                2:'2 month delay', 3:'3 month delay', 4:'4 month delay', 5:'5 month delay', 6:'6 month delay', \n",
        "                7:'7 month delay', 8:'8 month delay', 9:'9+ month delay'}\n",
        "    \n",
        "    # recode values using Pandas apply() and anonymous function\n",
        "    frame['SEX'] = frame['SEX'].apply(lambda i: sex_dict[i])\n",
        "    frame['EDUCATION'] = frame['EDUCATION'].apply(lambda i: education_dict[i])    \n",
        "    frame['MARRIAGE'] = frame['MARRIAGE'].apply(lambda i: marriage_dict[i]) \n",
        "    for name in frame.columns:\n",
        "        if name in ['PAY_0', 'PAY_2', 'PAY_3', 'PAY_4', 'PAY_5', 'PAY_6']:\n",
        "            frame[name] = frame[name].apply(lambda i: pay_dict[i])            \n",
        "                \n",
        "    return frame\n",
        "\n",
        "data = recode_cc_data(data)"
      ],
      "execution_count": 107,
      "outputs": [
        {
          "output_type": "execute_result",
          "data": {
            "text/plain": [
              "17757"
            ]
          },
          "metadata": {
            "tags": []
          },
          "execution_count": 107
        }
      ]
    },
    {
      "cell_type": "code",
      "metadata": {
        "id": "2AKzz6eER3am",
        "colab_type": "code",
        "colab": {
          "base_uri": "https://localhost:8080/",
          "height": 135
        },
        "outputId": "81a0c1b1-488e-4f05-9c35-f8ea70b61bd1"
      },
      "source": [
        "data[data[\"ID\"]==percentile_dict[99]] # helps understand reason codes"
      ],
      "execution_count": 111,
      "outputs": [
        {
          "output_type": "execute_result",
          "data": {
            "text/html": [
              "<div>\n",
              "<style scoped>\n",
              "    .dataframe tbody tr th:only-of-type {\n",
              "        vertical-align: middle;\n",
              "    }\n",
              "\n",
              "    .dataframe tbody tr th {\n",
              "        vertical-align: top;\n",
              "    }\n",
              "\n",
              "    .dataframe thead th {\n",
              "        text-align: right;\n",
              "    }\n",
              "</style>\n",
              "<table border=\"1\" class=\"dataframe\">\n",
              "  <thead>\n",
              "    <tr style=\"text-align: right;\">\n",
              "      <th></th>\n",
              "      <th>ID</th>\n",
              "      <th>LIMIT_BAL</th>\n",
              "      <th>SEX</th>\n",
              "      <th>EDUCATION</th>\n",
              "      <th>MARRIAGE</th>\n",
              "      <th>AGE</th>\n",
              "      <th>PAY_0</th>\n",
              "      <th>PAY_2</th>\n",
              "      <th>PAY_3</th>\n",
              "      <th>PAY_4</th>\n",
              "      <th>PAY_5</th>\n",
              "      <th>PAY_6</th>\n",
              "      <th>BILL_AMT1</th>\n",
              "      <th>BILL_AMT2</th>\n",
              "      <th>BILL_AMT3</th>\n",
              "      <th>BILL_AMT4</th>\n",
              "      <th>BILL_AMT5</th>\n",
              "      <th>BILL_AMT6</th>\n",
              "      <th>PAY_AMT1</th>\n",
              "      <th>PAY_AMT2</th>\n",
              "      <th>PAY_AMT3</th>\n",
              "      <th>PAY_AMT4</th>\n",
              "      <th>PAY_AMT5</th>\n",
              "      <th>PAY_AMT6</th>\n",
              "      <th>DEFAULT_NEXT_MONTH</th>\n",
              "    </tr>\n",
              "  </thead>\n",
              "  <tbody>\n",
              "    <tr>\n",
              "      <th>17756</th>\n",
              "      <td>17757</td>\n",
              "      <td>10000</td>\n",
              "      <td>female</td>\n",
              "      <td>high school</td>\n",
              "      <td>married</td>\n",
              "      <td>51</td>\n",
              "      <td>3 month delay</td>\n",
              "      <td>2 month delay</td>\n",
              "      <td>2 month delay</td>\n",
              "      <td>7 month delay</td>\n",
              "      <td>7 month delay</td>\n",
              "      <td>7 month delay</td>\n",
              "      <td>2400</td>\n",
              "      <td>2400</td>\n",
              "      <td>2400</td>\n",
              "      <td>2400</td>\n",
              "      <td>2400</td>\n",
              "      <td>2400</td>\n",
              "      <td>0</td>\n",
              "      <td>0</td>\n",
              "      <td>0</td>\n",
              "      <td>0</td>\n",
              "      <td>0</td>\n",
              "      <td>0</td>\n",
              "      <td>1</td>\n",
              "    </tr>\n",
              "  </tbody>\n",
              "</table>\n",
              "</div>"
            ],
            "text/plain": [
              "          ID  LIMIT_BAL     SEX    EDUCATION MARRIAGE  AGE          PAY_0  \\\n",
              "17756  17757      10000  female  high school  married   51  3 month delay   \n",
              "\n",
              "               PAY_2          PAY_3          PAY_4          PAY_5  \\\n",
              "17756  2 month delay  2 month delay  7 month delay  7 month delay   \n",
              "\n",
              "               PAY_6  BILL_AMT1  BILL_AMT2  BILL_AMT3  BILL_AMT4  BILL_AMT5  \\\n",
              "17756  7 month delay       2400       2400       2400       2400       2400   \n",
              "\n",
              "       BILL_AMT6  PAY_AMT1  PAY_AMT2  PAY_AMT3  PAY_AMT4  PAY_AMT5  PAY_AMT6  \\\n",
              "17756       2400         0         0         0         0         0         0   \n",
              "\n",
              "       DEFAULT_NEXT_MONTH  \n",
              "17756                   1  "
            ]
          },
          "metadata": {
            "tags": []
          },
          "execution_count": 111
        }
      ]
    },
    {
      "cell_type": "markdown",
      "metadata": {
        "id": "AFo7suh1SV1Y",
        "colab_type": "text"
      },
      "source": [
        "\n",
        "\n",
        "To generate reason codes for the model's decision, the locally important variable and its value are used together. If this customer was denied future credit based on this model and data, the top five LOCO-based reason codes for the automated decision would be:\n",
        "\n",
        "    Most recent payment is 3 months delayed.\n",
        "    6th most recent payment is 4 months delayed.\n",
        "    3rd most recent payment is 3 months delayed.\n",
        "    5th most recent payment is 2 months delayed.\n",
        "    Customer age is 59.\n",
        "\n",
        "(Of course, in many places, variables like AGE and SEX cannot, and should not, be used in credit lending or other high-stakes decisions. For a slightly more careful treatment of GBM in a fair lending context, see: https://github.com/jphall663/interpretable_machine_learning_with_python/blob/master/dia.ipynb)\n"
      ]
    },
    {
      "cell_type": "markdown",
      "metadata": {
        "id": "7BLbxshWSr2a",
        "colab_type": "text"
      },
      "source": [
        "For LOCO you should in fact run an ensemble model to give you the best results. "
      ]
    },
    {
      "cell_type": "code",
      "metadata": {
        "id": "KU1MEC15RlNO",
        "colab_type": "code",
        "colab": {}
      },
      "source": [
        "### bottom - https://nbviewer.jupyter.org/github/jphall663/interpretable_machine_learning_with_python/blob/master/dt_surrogate_loco.ipynb\n"
      ],
      "execution_count": 0,
      "outputs": []
    },
    {
      "cell_type": "markdown",
      "metadata": {
        "id": "_8-vuVDlW-63",
        "colab_type": "text"
      },
      "source": [
        "##"
      ]
    },
    {
      "cell_type": "code",
      "metadata": {
        "id": "Muskwy2kW_32",
        "colab_type": "code",
        "colab": {}
      },
      "source": [
        ""
      ],
      "execution_count": 0,
      "outputs": []
    },
    {
      "cell_type": "markdown",
      "metadata": {
        "id": "yo9lTXnpXGiI",
        "colab_type": "text"
      },
      "source": [
        "# Disparate Impact Analysis"
      ]
    },
    {
      "cell_type": "markdown",
      "metadata": {
        "id": "gLjrZi-ZZbew",
        "colab_type": "text"
      },
      "source": [
        "Assess if your machine learning model is treating different groups of people similarly or differently\n",
        "\n",
        "Fairness is an incredibly important, but highly complex entity. So much so that leading scholars have yet to agree on a strict definition. However, there is a practical way to discuss and handle observational fairness, or how your model predictions affect different groups of people. This procedure is often known as disparate impact analysis (DIA). DIA is far from perfect, as it relies heavily on user-defined thresholds and reference levels for disparity and does not attempt to remediate disparity or provide information on sources of disparity, but it is a fairly straightforward method to quantify your model’s behavior across sensitive demographic segments or other potentially interesting groups of observations. DIA is also an accepted, regulation-compliant tool for fair-lending purposes in the U.S. financial services industry. If it’s good enough for multibillion-dollar credit portfolios, it’s probably good enough for your project.\n",
        "\n",
        "This example DIA notebook starts by training a constrained, monotonic gradient boosting machine (GBM) classifier on the UCI credit card default data using the popular open source library, h2o. A probability cutoff for making credit decisions is selected by maximizing the F1 statistic and confusion matrices are generated to summarize the GBM’s decisions across male and female customers. A basic DIA procedure is then conducted using the information stored in the confusion matrices then several traditional fair lending measures are calculated.\n",
        "\n",
        "Because DIA really only considers groups of people, it's important to pair DIA with constrained models that can't treat similar people too differently. When using complex models with DIA, it's also important to look for any local, or individual, dicrimination that would not be flagged in the group quantities.\n",
        "\n",
        "For an excellent and free reference on the topics of fairness and machine learning be sure to follow the book being written by Solon Barocas, Moritz Hardt and Arvind Narayanan: https://fairmlbook.org/."
      ]
    },
    {
      "cell_type": "markdown",
      "metadata": {
        "id": "thtENgctXLRt",
        "colab_type": "text"
      },
      "source": [
        "#### Select a Probability Cutoff by Maximizing F1 Statistic"
      ]
    },
    {
      "cell_type": "markdown",
      "metadata": {
        "id": "xqTTObNUaMa4",
        "colab_type": "text"
      },
      "source": [
        "unction to calculate PR-AUC Curve\n",
        "\n",
        "Predictive models often produce probabilities, not decisions. So to make a decision with a model-generated predicted probability for any one customer, you must specify a numeric cutoff above which we say a customer will default and below which we say they will not default. Cutoffs play a crucial role in DIA as they impact the underlying measurements used to calculate diparity. In fact, tuning cutoffs carefully is a potential remdiation tactic for any discovered disparity. There are many accepted ways to select a cutoff (besides simply using 0.5) and in this notebook the cutoff will be selected by striking a balance between the model's recall (true positive rate) and it's precision using the F1 statistic. Using precision and recall to select a cutoff is sometimes seen as more robust to imbalanced data than the standard ROC approach. Maximizing F1 typically results in a good balance between sensitivity and precision."
      ]
    },
    {
      "cell_type": "code",
      "metadata": {
        "id": "y7SyWDjda-vj",
        "colab_type": "code",
        "colab": {}
      },
      "source": [
        "    preds_loco = model.predict(test_loco)\n",
        "    \n",
        "    # create a new, named column for the LOCO prediction\n",
        "    if k ==0:\n",
        "      preds2 = pd.DataFrame(preds_loco)\n",
        "      preds2.columns = [i]\n",
        "      preds2['DEFAULT_NEXT_MONTH']= model.predict(test.drop([\"DEFAULT_NEXT_MONTH\"],axis=1))\n",
        "      preds2['ID'] = test.index\n",
        "      preds2 = preds2.set_index('ID')"
      ],
      "execution_count": 0,
      "outputs": []
    },
    {
      "cell_type": "code",
      "metadata": {
        "id": "b5MsGmHSa1bv",
        "colab_type": "code",
        "colab": {}
      },
      "source": [
        "preds= model.predict(test.drop([\"DEFAULT_NEXT_MONTH\"],axis=1))\n",
        "preds_frame = recode_cc_data(test.copy())\n",
        "preds_frame['DEFAULT_NEXT_MONTH_pred'] = preds \n"
      ],
      "execution_count": 0,
      "outputs": []
    },
    {
      "cell_type": "code",
      "metadata": {
        "id": "Y6J5k28gZ4Z_",
        "colab_type": "code",
        "colab": {}
      },
      "source": [
        "def get_prauc(frame, y, yhat, pos=1, neg=0, res=0.01):\n",
        "    \n",
        "    \"\"\" Calculates precision, recall, and f1 for a pandas dataframe of y and yhat values.\n",
        "    \n",
        "    Args:\n",
        "        frame: Pandas dataframe of actual (y) and predicted (yhat) values.\n",
        "        y: Name of actual value column.\n",
        "        yhat: Name of predicted value column.\n",
        "        pos: Primary target value, default 1.\n",
        "        neg: Secondary target value, default 0.\n",
        "        res: Resolution by which to loop through cutoffs, default 0.01.\n",
        "    \n",
        "    Returns:\n",
        "        Pandas dataframe of precision, recall, and f1 values. \n",
        "    \"\"\"\n",
        "    \n",
        "    frame_ = frame.copy(deep=True) # don't destroy original data\n",
        "    dname = 'd_' + str(y) # column for predicted decisions\n",
        "    eps = 1e-20 # for safe numerical operations\n",
        "    \n",
        "    # init p-r roc frame\n",
        "    prauc_frame = pd.DataFrame(columns=['cutoff', 'recall', 'precision', 'f1'])\n",
        "    \n",
        "    # loop through cutoffs to create p-r roc frame\n",
        "    for cutoff in np.arange(0, 1 + res, res):\n",
        "\n",
        "        # binarize decision to create confusion matrix values\n",
        "        frame_[dname] = np.where(frame_[yhat] > cutoff , 1, 0)\n",
        "        \n",
        "        # calculate confusion matrix values\n",
        "        tp = frame_[(frame_[dname] == pos) & (frame_[y] == pos)].shape[0]\n",
        "        fp = frame_[(frame_[dname] == pos) & (frame_[y] == neg)].shape[0]\n",
        "        tn = frame_[(frame_[dname] == neg) & (frame_[y] == neg)].shape[0]\n",
        "        fn = frame_[(frame_[dname] == neg) & (frame_[y] == pos)].shape[0]\n",
        "        \n",
        "        # calculate precision, recall, and f1\n",
        "        recall = (tp + eps)/((tp + fn) + eps)\n",
        "        precision = (tp + eps)/((tp + fp) + eps)\n",
        "        f1 = 2/((1/(recall + eps)) + (1/(precision + eps)))\n",
        "        \n",
        "        # add new values to frame\n",
        "        prauc_frame = prauc_frame.append({'cutoff': cutoff,\n",
        "                                          'recall': recall,\n",
        "                                          'precision': precision,\n",
        "                                          'f1': f1}, \n",
        "                                          ignore_index=True)\n",
        "    \n",
        "    # housekeeping\n",
        "    del frame_\n",
        "    \n",
        "    return prauc_frame\n",
        "        \n",
        "prauc_frame = get_prauc(preds_frame, 'DEFAULT_NEXT_MONTH', 'DEFAULT_NEXT_MONTH_pred')"
      ],
      "execution_count": 0,
      "outputs": []
    },
    {
      "cell_type": "markdown",
      "metadata": {
        "id": "Srssc3Oxc3SC",
        "colab_type": "text"
      },
      "source": [
        "##### Select Best Cutoff"
      ]
    },
    {
      "cell_type": "code",
      "metadata": {
        "id": "QqoXh-vRcTa0",
        "colab_type": "code",
        "colab": {
          "base_uri": "https://localhost:8080/",
          "height": 34
        },
        "outputId": "1e2e17b2-8a0e-4e45-928a-4e892e26a9cc"
      },
      "source": [
        "best_cut = prauc_frame.loc[prauc_frame['f1'].idxmax(), 'cutoff'] # Find cutoff w/ max F1\n",
        "### !!! UNCOMMENT LINES BELOW TO REMEDIATE MINOR FAIRNESS ISSUES !!! ###\n",
        "# best_cut = 0.3  # min threshold with overall fairness\n",
        "# best_cut = 0.46 # max accuracy\n",
        "# best_cut = 0.35 # max MCC\n",
        "print('%.2f' % best_cut)"
      ],
      "execution_count": 140,
      "outputs": [
        {
          "output_type": "stream",
          "text": [
            "0.25\n"
          ],
          "name": "stdout"
        }
      ]
    },
    {
      "cell_type": "markdown",
      "metadata": {
        "id": "EiuSegO2dAFw",
        "colab_type": "text"
      },
      "source": [
        "\n",
        "#### Plot PR-AUC Curve\n",
        "\n",
        "An area under the curve for precision and recall (PR-AUC) plot is a typical way to visualize recall and precision for a predictive model. The F1 statistic is the harmonic mean of recall and precision, and we can visualize where F1 is maximized on with the AUC-PR curve.\n"
      ]
    },
    {
      "cell_type": "code",
      "metadata": {
        "id": "Uxw_WpIacbno",
        "colab_type": "code",
        "colab": {
          "base_uri": "https://localhost:8080/",
          "height": 295
        },
        "outputId": "63ee64fa-488b-45eb-dce1-90572f100570"
      },
      "source": [
        "# Plot P-R AUC w/ best cutoff\n",
        "title_ = 'P-R Curve: Cutoff = ' + str(best_cut)\n",
        "ax = prauc_frame.plot(x='recall', y='precision', kind='scatter', title=title_, xlim=[0,1])\n",
        "_ = ax.axvline(best_cut, color='r')"
      ],
      "execution_count": 141,
      "outputs": [
        {
          "output_type": "display_data",
          "data": {
            "image/png": "[encoded data removed]",
            "text/plain": [
              "<Figure size 432x288 with 1 Axes>"
            ]
          },
          "metadata": {
            "tags": []
          }
        }
      ]
    },
    {
      "cell_type": "markdown",
      "metadata": {
        "id": "e4L6OLvOdM1q",
        "colab_type": "text"
      },
      "source": [
        "##### Report Raw Confusion Matrices¶\n",
        "\n",
        "The basic DIA procedure in this notebook is based on measurements found commonly in confusion matrices, so confusion matrices are calculated as a precursor to DIA and to provide a basic summary of the GBM's behavior in general and across men and women.\n"
      ]
    },
    {
      "cell_type": "code",
      "metadata": {
        "id": "qnZ_HB0tdDPr",
        "colab_type": "code",
        "colab": {
          "base_uri": "https://localhost:8080/",
          "height": 129
        },
        "outputId": "0adfd7ed-6960-4ce3-a474-483b9dfae78b"
      },
      "source": [
        "\n",
        "\n",
        "def get_confusion_matrix(frame, y, yhat, by=None, level=None, cutoff=0.5):\n",
        "\n",
        "    \"\"\" Creates confusion matrix from pandas dataframe of y and yhat values, can be sliced \n",
        "        by a variable and level.\n",
        "    \n",
        "    Args:\n",
        "        frame: Pandas dataframe of actual (y) and predicted (yhat) values.\n",
        "        y: Name of actual value column.\n",
        "        yhat: Name of predicted value column.\n",
        "        by: By variable to slice frame before creating confusion matrix, default None.\n",
        "        level: Value of by variable to slice frame before creating confusion matrix, default None.\n",
        "        cutoff: Cutoff threshold for confusion matrix, default 0.5. \n",
        "\n",
        "    Returns:\n",
        "        Confusion matrix as pandas dataframe. \n",
        "    \"\"\"\n",
        "    \n",
        "    # determine levels of target (y) variable\n",
        "    # sort for consistency\n",
        "    level_list = list(frame[y].unique())\n",
        "    level_list.sort(reverse=True)\n",
        "\n",
        "    # init confusion matrix\n",
        "    cm_frame = pd.DataFrame(columns=['actual: ' +  str(i) for i in level_list], \n",
        "                            index=['predicted: ' + str(i) for i in level_list])\n",
        "    \n",
        "    # don't destroy original data\n",
        "    frame_ = frame.copy(deep=True)\n",
        "    \n",
        "    # convert numeric predictions to binary decisions using cutoff\n",
        "    dname = 'd_' + str(y)\n",
        "    frame_[dname] = np.where(frame_[yhat] > cutoff , 1, 0)\n",
        "    \n",
        "    # slice frame\n",
        "    if (by is not None) & (level is not None):\n",
        "        frame_ = frame_[frame[by] == level]\n",
        "    \n",
        "    # calculate size of each confusion matrix value\n",
        "    for i, lev_i in enumerate(level_list):\n",
        "        for j, lev_j in enumerate(level_list):\n",
        "            cm_frame.iat[j, i] = frame_[(frame_[y] == lev_i) & (frame_[dname] == lev_j)].shape[0]\n",
        "            # i, j vs. j, i nasty little bug ... updated 8/30/19\n",
        "    \n",
        "    # output results\n",
        "    if by is None:\n",
        "        print('Confusion matrix:')\n",
        "    else:\n",
        "        print('Confusion matrix by ' + by + '=' + level)\n",
        "    \n",
        "    return cm_frame\n",
        "    \n",
        "    \n",
        "get_confusion_matrix(preds_frame, 'DEFAULT_NEXT_MONTH', 'DEFAULT_NEXT_MONTH_pred', cutoff=best_cut)\n",
        "\n"
      ],
      "execution_count": 142,
      "outputs": [
        {
          "output_type": "stream",
          "text": [
            "Confusion matrix:\n"
          ],
          "name": "stdout"
        },
        {
          "output_type": "execute_result",
          "data": {
            "text/html": [
              "<div>\n",
              "<style scoped>\n",
              "    .dataframe tbody tr th:only-of-type {\n",
              "        vertical-align: middle;\n",
              "    }\n",
              "\n",
              "    .dataframe tbody tr th {\n",
              "        vertical-align: top;\n",
              "    }\n",
              "\n",
              "    .dataframe thead th {\n",
              "        text-align: right;\n",
              "    }\n",
              "</style>\n",
              "<table border=\"1\" class=\"dataframe\">\n",
              "  <thead>\n",
              "    <tr style=\"text-align: right;\">\n",
              "      <th></th>\n",
              "      <th>actual: 1</th>\n",
              "      <th>actual: 0</th>\n",
              "    </tr>\n",
              "  </thead>\n",
              "  <tbody>\n",
              "    <tr>\n",
              "      <th>predicted: 1</th>\n",
              "      <td>1237</td>\n",
              "      <td>1291</td>\n",
              "    </tr>\n",
              "    <tr>\n",
              "      <th>predicted: 0</th>\n",
              "      <td>749</td>\n",
              "      <td>5777</td>\n",
              "    </tr>\n",
              "  </tbody>\n",
              "</table>\n",
              "</div>"
            ],
            "text/plain": [
              "             actual: 1 actual: 0\n",
              "predicted: 1      1237      1291\n",
              "predicted: 0       749      5777"
            ]
          },
          "metadata": {
            "tags": []
          },
          "execution_count": 142
        }
      ]
    },
    {
      "cell_type": "markdown",
      "metadata": {
        "id": "ki7aU9JYdhF5",
        "colab_type": "text"
      },
      "source": [
        "\n",
        "\n",
        "The general confusion matrix shows that the GBM is more accurate than not because the true positive and true negative cells contain the largest values by far. But the GBM seems to make a larger number of type II errors or false negative predictions. False negatives can be a disparity issue, because for complex reasons, many credit scoring and other models tend to over-estimate the likelihood of non-reference groups - typically people other than white males - to default. This is both a sociological fairness problem and a financial problem if an unpriviledged group is not recieving the credit they deserve, in favor of undeserving white males. Deserving people miss out on potentially life-changing credit and lenders incur large write-off costs.\n"
      ]
    },
    {
      "cell_type": "markdown",
      "metadata": {
        "id": "wVLP0BYtdkjM",
        "colab_type": "text"
      },
      "source": [
        "\n",
        "Report confusion matrices by SEX\n",
        "\n",
        "The only values for SEX in the dataset are female and male.\n"
      ]
    },
    {
      "cell_type": "code",
      "metadata": {
        "id": "IpulI4indSWK",
        "colab_type": "code",
        "colab": {
          "base_uri": "https://localhost:8080/",
          "height": 34
        },
        "outputId": "321b396d-d7b7-45dd-b783-b2f5416ffec2"
      },
      "source": [
        "sex_levels = list(preds_frame['SEX'].unique())\n",
        "sex_levels"
      ],
      "execution_count": 143,
      "outputs": [
        {
          "output_type": "execute_result",
          "data": {
            "text/html": [
              "['female', 'male']"
            ],
            "text/plain": [
              "['female', 'male']"
            ]
          },
          "metadata": {
            "tags": []
          },
          "execution_count": 143
        }
      ]
    },
    {
      "cell_type": "markdown",
      "metadata": {
        "id": "jgniCv1RemKH",
        "colab_type": "text"
      },
      "source": [
        "Confusion matrix for SEX = male"
      ]
    },
    {
      "cell_type": "code",
      "metadata": {
        "id": "RVO1uGeFduHJ",
        "colab_type": "code",
        "colab": {
          "base_uri": "https://localhost:8080/",
          "height": 129
        },
        "outputId": "0f1ce1cc-c0a4-45eb-ba1d-a39105e3586d"
      },
      "source": [
        "\n",
        "\n",
        "male_cm = get_confusion_matrix(preds_frame, 'DEFAULT_NEXT_MONTH', 'DEFAULT_NEXT_MONTH_pred', by='SEX', level='male', cutoff=best_cut)\n",
        "male_cm\n",
        "\n"
      ],
      "execution_count": 146,
      "outputs": [
        {
          "output_type": "stream",
          "text": [
            "Confusion matrix by SEX=male\n"
          ],
          "name": "stdout"
        },
        {
          "output_type": "execute_result",
          "data": {
            "text/html": [
              "<div>\n",
              "<style scoped>\n",
              "    .dataframe tbody tr th:only-of-type {\n",
              "        vertical-align: middle;\n",
              "    }\n",
              "\n",
              "    .dataframe tbody tr th {\n",
              "        vertical-align: top;\n",
              "    }\n",
              "\n",
              "    .dataframe thead th {\n",
              "        text-align: right;\n",
              "    }\n",
              "</style>\n",
              "<table border=\"1\" class=\"dataframe\">\n",
              "  <thead>\n",
              "    <tr style=\"text-align: right;\">\n",
              "      <th></th>\n",
              "      <th>actual: 1</th>\n",
              "      <th>actual: 0</th>\n",
              "    </tr>\n",
              "  </thead>\n",
              "  <tbody>\n",
              "    <tr>\n",
              "      <th>predicted: 1</th>\n",
              "      <td>553</td>\n",
              "      <td>567</td>\n",
              "    </tr>\n",
              "    <tr>\n",
              "      <th>predicted: 0</th>\n",
              "      <td>290</td>\n",
              "      <td>2182</td>\n",
              "    </tr>\n",
              "  </tbody>\n",
              "</table>\n",
              "</div>"
            ],
            "text/plain": [
              "             actual: 1 actual: 0\n",
              "predicted: 1       553       567\n",
              "predicted: 0       290      2182"
            ]
          },
          "metadata": {
            "tags": []
          },
          "execution_count": 146
        }
      ]
    },
    {
      "cell_type": "markdown",
      "metadata": {
        "id": "riyxIJskevk9",
        "colab_type": "text"
      },
      "source": [
        "Confusion matrix for SEX = female"
      ]
    },
    {
      "cell_type": "code",
      "metadata": {
        "id": "FQC0vsf7eoIK",
        "colab_type": "code",
        "colab": {
          "base_uri": "https://localhost:8080/",
          "height": 129
        },
        "outputId": "00457fed-3bc5-4c00-a00c-75f72738f172"
      },
      "source": [
        "female_cm = get_confusion_matrix(preds_frame, 'DEFAULT_NEXT_MONTH', 'DEFAULT_NEXT_MONTH_pred', by='SEX', level='female', cutoff=best_cut)\n",
        "female_cm"
      ],
      "execution_count": 147,
      "outputs": [
        {
          "output_type": "stream",
          "text": [
            "Confusion matrix by SEX=female\n"
          ],
          "name": "stdout"
        },
        {
          "output_type": "execute_result",
          "data": {
            "text/html": [
              "<div>\n",
              "<style scoped>\n",
              "    .dataframe tbody tr th:only-of-type {\n",
              "        vertical-align: middle;\n",
              "    }\n",
              "\n",
              "    .dataframe tbody tr th {\n",
              "        vertical-align: top;\n",
              "    }\n",
              "\n",
              "    .dataframe thead th {\n",
              "        text-align: right;\n",
              "    }\n",
              "</style>\n",
              "<table border=\"1\" class=\"dataframe\">\n",
              "  <thead>\n",
              "    <tr style=\"text-align: right;\">\n",
              "      <th></th>\n",
              "      <th>actual: 1</th>\n",
              "      <th>actual: 0</th>\n",
              "    </tr>\n",
              "  </thead>\n",
              "  <tbody>\n",
              "    <tr>\n",
              "      <th>predicted: 1</th>\n",
              "      <td>684</td>\n",
              "      <td>724</td>\n",
              "    </tr>\n",
              "    <tr>\n",
              "      <th>predicted: 0</th>\n",
              "      <td>459</td>\n",
              "      <td>3595</td>\n",
              "    </tr>\n",
              "  </tbody>\n",
              "</table>\n",
              "</div>"
            ],
            "text/plain": [
              "             actual: 1 actual: 0\n",
              "predicted: 1       684       724\n",
              "predicted: 0       459      3595"
            ]
          },
          "metadata": {
            "tags": []
          },
          "execution_count": 147
        }
      ]
    },
    {
      "cell_type": "markdown",
      "metadata": {
        "id": "SRSpChQ-fBYi",
        "colab_type": "text"
      },
      "source": [
        "### Disparate Impact Analysis (DIA)"
      ]
    },
    {
      "cell_type": "markdown",
      "metadata": {
        "id": "Lpq0FkNifE3M",
        "colab_type": "text"
      },
      "source": [
        "\n",
        "\n",
        "To perform the following basic DIA many different values from the confusion matrices reflecting different prediction behavior are calculated. These metrics essentially help us understand the GBM's overall performance and how it behaves when predicting:\n",
        "\n",
        "    Default correctly\n",
        "    Non-default correctly\n",
        "    Default incorrectly (type I errors)\n",
        "    Non-default incorrectly (type II errors)\n",
        "\n",
        "In a real-life lending scenario, type I errors essentially amount to false accusations of financial impropriety and type II errors result in awarding loans to undeserving customers. Both types of errors can be costly to the lender too. Type I errors likely result in lost interest and fees. Type II errors often result in write-offs.\n"
      ]
    },
    {
      "cell_type": "markdown",
      "metadata": {
        "id": "93YtV1QCfTe7",
        "colab_type": "text"
      },
      "source": [
        "Dictionary of metrics used to assess disparity and parity"
      ]
    },
    {
      "cell_type": "code",
      "metadata": {
        "id": "RBpw4d-ce0p6",
        "colab_type": "code",
        "colab": {}
      },
      "source": [
        "# represent metrics as dictionary for use later\n",
        "metric_dict = {\n",
        "\n",
        "#### overall performance\n",
        "'Prevalence': '(tp + fn) / (tp + tn +fp + fn)', # how much default actually happens for this group\n",
        "#'Adverse Impact': '(tp + fp) / (tp + tn + fp + fn)', # how often the model predicted default for each group   \n",
        "'Accuracy':       '(tp + tn) / (tp + tn + fp + fn)', # how often the model predicts default and non-default correctly for this group\n",
        "\n",
        "#### predicting default will happen\n",
        "# (correctly)\n",
        "'True Positive Rate': 'tp / (tp + fn)',  # out of the people in the group *that did* default, how many the model predicted *correctly* would default              \n",
        "'Precision':          'tp / (tp + fp)',  # out of the people in the group the model *predicted* would default, how many the model predicted *correctly* would default\n",
        "\n",
        "#### predicting default won't happen\n",
        "# (correctly)\n",
        "'Specificity':              'tn / (tn + fp)', # out of the people in the group *that did not* default, how many the model predicted *correctly* would not default\n",
        "'Negative Predicted Value': 'tn / (tn + fn)', # out of the people in the group the model *predicted* would not default, how many the model predicted *correctly* would not default  \n",
        "\n",
        "#### analyzing errors - type I\n",
        "# false accusations \n",
        "'False Positive Rate':  'fp / (tn + fp)', # out of the people in the group *that did not* default, how many the model predicted *incorrectly* would default\n",
        "'False Discovery Rate': 'fp / (tp + fp)', # out of the people in the group the model *predicted* would default, how many the model predicted *incorrectly* would default\n",
        "\n",
        "#### analyzing errors - type II\n",
        "# costly ommisions\n",
        "'False Negative Rate': 'fn / (tp + fn)', # out of the people in the group *that did* default, how many the model predicted *incorrectly* would not default\n",
        "'False Omissions Rate':'fn / (tn + fn)'  # out of the people in the group the model *predicted* would not default, how many the model predicted *incorrectly* would not default\n",
        "}  "
      ],
      "execution_count": 0,
      "outputs": []
    },
    {
      "cell_type": "markdown",
      "metadata": {
        "id": "TsY-ET40fbyQ",
        "colab_type": "text"
      },
      "source": [
        "Utility function to translate metrics into Pandas statements"
      ]
    },
    {
      "cell_type": "code",
      "metadata": {
        "id": "Q8IZ9UoxfWHv",
        "colab_type": "code",
        "colab": {}
      },
      "source": [
        "# small utility function\n",
        "# translates abbreviated metric expressions into executable Python statements\n",
        "\n",
        "def cm_exp_parser(expression):\n",
        "    \n",
        "    # tp | fp       cm_dict[level].iat[0, 0] | cm_dict[level].iat[0, 1]\n",
        "    # -------  ==>  --------------------------------------------\n",
        "    # fn | tn       cm_dict[level].iat[1, 0] | cm_dict[level].iat[1, 1]\n",
        "\n",
        "    expression = expression.replace('tp', 'cm_dict[level].iat[0, 0]')\\\n",
        "                           .replace('fp', 'cm_dict[level].iat[0, 1]')\\\n",
        "                           .replace('fn', 'cm_dict[level].iat[1, 0]')\\\n",
        "                           .replace('tn', 'cm_dict[level].iat[1, 1]')\n",
        "\n",
        "    return expression"
      ],
      "execution_count": 0,
      "outputs": []
    },
    {
      "cell_type": "markdown",
      "metadata": {
        "id": "n8U7DxhTfgZn",
        "colab_type": "text"
      },
      "source": [
        "Calculate and report metrics\n",
        "This nested loop calculates all the metrics defined above for men and women."
      ]
    },
    {
      "cell_type": "code",
      "metadata": {
        "id": "ZBpV5tKsfcio",
        "colab_type": "code",
        "colab": {
          "base_uri": "https://localhost:8080/",
          "height": 167
        },
        "outputId": "ae68e30b-3d0b-42d2-cc60-803dbe4de650"
      },
      "source": [
        "\n",
        "\n",
        "# initialize dict of confusion matrices and corresponding rows of dataframe\n",
        "cm_dict = {'male': male_cm, \n",
        "           'female': female_cm} \n",
        "\n",
        "metrics_frame = pd.DataFrame(index=sex_levels) # frame for metrics\n",
        "\n",
        "# nested loop through:\n",
        "# - sex levels\n",
        "# - metrics \n",
        "for level in sex_levels:\n",
        "    for metric in metric_dict.keys():\n",
        "              \n",
        "        # parse metric expressions into executable pandas statements\n",
        "        expression = cm_exp_parser(metric_dict[metric])\n",
        "\n",
        "        # dynamically evaluate metrics to avoid code duplication\n",
        "        metrics_frame.loc[level, metric] = eval(expression)  \n",
        "\n",
        "# display results                \n",
        "metrics_frame\n",
        "\n",
        "# Prevalance - how much default actually happend\n",
        "\n",
        "# In this sample \n"
      ],
      "execution_count": 150,
      "outputs": [
        {
          "output_type": "execute_result",
          "data": {
            "text/html": [
              "<div>\n",
              "<style scoped>\n",
              "    .dataframe tbody tr th:only-of-type {\n",
              "        vertical-align: middle;\n",
              "    }\n",
              "\n",
              "    .dataframe tbody tr th {\n",
              "        vertical-align: top;\n",
              "    }\n",
              "\n",
              "    .dataframe thead th {\n",
              "        text-align: right;\n",
              "    }\n",
              "</style>\n",
              "<table border=\"1\" class=\"dataframe\">\n",
              "  <thead>\n",
              "    <tr style=\"text-align: right;\">\n",
              "      <th></th>\n",
              "      <th>Prevalence</th>\n",
              "      <th>Accuracy</th>\n",
              "      <th>True Positive Rate</th>\n",
              "      <th>Precision</th>\n",
              "      <th>Specificity</th>\n",
              "      <th>Negative Predicted Value</th>\n",
              "      <th>False Positive Rate</th>\n",
              "      <th>False Discovery Rate</th>\n",
              "      <th>False Negative Rate</th>\n",
              "      <th>False Omissions Rate</th>\n",
              "    </tr>\n",
              "  </thead>\n",
              "  <tbody>\n",
              "    <tr>\n",
              "      <th>female</th>\n",
              "      <td>0.209264</td>\n",
              "      <td>0.783413</td>\n",
              "      <td>0.598425</td>\n",
              "      <td>0.485795</td>\n",
              "      <td>0.832369</td>\n",
              "      <td>0.886778</td>\n",
              "      <td>0.167631</td>\n",
              "      <td>0.514205</td>\n",
              "      <td>0.401575</td>\n",
              "      <td>0.113222</td>\n",
              "    </tr>\n",
              "    <tr>\n",
              "      <th>male</th>\n",
              "      <td>0.234688</td>\n",
              "      <td>0.761414</td>\n",
              "      <td>0.655991</td>\n",
              "      <td>0.493750</td>\n",
              "      <td>0.793743</td>\n",
              "      <td>0.882686</td>\n",
              "      <td>0.206257</td>\n",
              "      <td>0.506250</td>\n",
              "      <td>0.344009</td>\n",
              "      <td>0.117314</td>\n",
              "    </tr>\n",
              "  </tbody>\n",
              "</table>\n",
              "</div>"
            ],
            "text/plain": [
              "        Prevalence  Accuracy  True Positive Rate  Precision  Specificity  \\\n",
              "female    0.209264  0.783413            0.598425   0.485795     0.832369   \n",
              "male      0.234688  0.761414            0.655991   0.493750     0.793743   \n",
              "\n",
              "        Negative Predicted Value  False Positive Rate  False Discovery Rate  \\\n",
              "female                  0.886778             0.167631              0.514205   \n",
              "male                    0.882686             0.206257              0.506250   \n",
              "\n",
              "        False Negative Rate  False Omissions Rate  \n",
              "female             0.401575              0.113222  \n",
              "male               0.344009              0.117314  "
            ]
          },
          "metadata": {
            "tags": []
          },
          "execution_count": 150
        }
      ]
    },
    {
      "cell_type": "markdown",
      "metadata": {
        "id": "Ch9ipezmh3ml",
        "colab_type": "text"
      },
      "source": [
        "The False Positive Rate is high for men, that means that the model predicted a lot of men would default who did in fact not default. "
      ]
    },
    {
      "cell_type": "markdown",
      "metadata": {
        "id": "38IzW9Z_gu_F",
        "colab_type": "text"
      },
      "source": [
        "\n",
        "Plot false omissions rate by SEX\n",
        "\n",
        "Because the confusion matrices indicated there might be a problem with non-default predictions, false omissions rate will be examined closely. False omissions measures how many customers the model predicted incorrectly would not default, out of the customers in the group the model predicted would not default. (Of course other metrics are important from a fairness and business perspective. For an excellent in-depth discussion and example regarding numerous disparity metrics, see: https://github.com/dssg/aequitas/blob/master/docs/source/examples/compas_demo.ipynb)\n"
      ]
    },
    {
      "cell_type": "code",
      "metadata": {
        "id": "J-4Fz_7JflkA",
        "colab_type": "code",
        "colab": {
          "base_uri": "https://localhost:8080/",
          "height": 306
        },
        "outputId": "77e5df30-3e9a-4994-8939-b5cdc5b60bcc"
      },
      "source": [
        "## Too similar to do anything about it \n",
        "_ = metrics_frame['False Omissions Rate'].plot(kind='bar', color='b', title='False Omissions Rate')"
      ],
      "execution_count": 151,
      "outputs": [
        {
          "output_type": "display_data",
          "data": {
            "image/png": "[encoded data removed]",
            "text/plain": [
              "<Figure size 432x288 with 1 Axes>"
            ]
          },
          "metadata": {
            "tags": []
          }
        }
      ]
    },
    {
      "cell_type": "markdown",
      "metadata": {
        "id": "tJFrCRypg9BI",
        "colab_type": "text"
      },
      "source": [
        "\n",
        "Calculate and report disparity\n",
        "\n",
        "To calculate disparity we compare the confusion matrix for each sex to the metrics for a user-defined reference level and to user-defined thresholds. In this case, we take the class of people who seem most priviledged as the reference level, i.e. SEX = male. (Usually the reference level would be race = white or sex = male.) According to the four-fifths rule (https://en.wikipedia.org/wiki/Disparate_impact#The_80%_rule) thresholds are set such that metrics 20% lower or higher than the reference level metric will be flagged as disparate. Technically, the four-fifths rule only applies to the adverse impact ratio, discussed further below, but it will be applied to all other displayed metrics as a rule of thumb.\n"
      ]
    },
    {
      "cell_type": "code",
      "metadata": {
        "id": "YFvk84FAgz1v",
        "colab_type": "code",
        "colab": {
          "base_uri": "https://localhost:8080/",
          "height": 135
        },
        "outputId": "a84becc0-ab4d-4968-ed96-ec8c8bbe9a17"
      },
      "source": [
        "\n",
        "\n",
        "ref_level = 'male' # user-defined reference level\n",
        "\n",
        "parity_threshold_low = 0.8    # user-defined low threshold value\n",
        "parity_threshold_hi = 1.25    # user-defined high threshold value\n",
        "\n",
        "# init frame to store disparity measures\n",
        "disp_frame = pd.DataFrame(index=sex_levels)\n",
        "\n",
        "# compare all metrics to reference level\n",
        "disp_frame = metrics_frame/metrics_frame.loc[ref_level, :]\n",
        "\n",
        "# change column names\n",
        "disp_frame.columns=[col + ' Disparity' for col in metrics_frame.columns]\n",
        "\n",
        "# small utility function to format pandas table output\n",
        "def disparate_red(val):\n",
        "    \n",
        "    color = 'blue' if (parity_threshold_low < val < parity_threshold_hi) else 'red'\n",
        "    return 'color: %s' % color \n",
        "\n",
        "# display results\n",
        "disp_frame.style.applymap(disparate_red)\n",
        "\n"
      ],
      "execution_count": 152,
      "outputs": [
        {
          "output_type": "execute_result",
          "data": {
            "text/html": [
              "<style  type=\"text/css\" >\n",
              "    #T_864dfc22_56c0_11ea_b7ef_0242ac1c0002row0_col0 {\n",
              "            color:  blue;\n",
              "        }    #T_864dfc22_56c0_11ea_b7ef_0242ac1c0002row0_col1 {\n",
              "            color:  blue;\n",
              "        }    #T_864dfc22_56c0_11ea_b7ef_0242ac1c0002row0_col2 {\n",
              "            color:  blue;\n",
              "        }    #T_864dfc22_56c0_11ea_b7ef_0242ac1c0002row0_col3 {\n",
              "            color:  blue;\n",
              "        }    #T_864dfc22_56c0_11ea_b7ef_0242ac1c0002row0_col4 {\n",
              "            color:  blue;\n",
              "        }    #T_864dfc22_56c0_11ea_b7ef_0242ac1c0002row0_col5 {\n",
              "            color:  blue;\n",
              "        }    #T_864dfc22_56c0_11ea_b7ef_0242ac1c0002row0_col6 {\n",
              "            color:  blue;\n",
              "        }    #T_864dfc22_56c0_11ea_b7ef_0242ac1c0002row0_col7 {\n",
              "            color:  blue;\n",
              "        }    #T_864dfc22_56c0_11ea_b7ef_0242ac1c0002row0_col8 {\n",
              "            color:  blue;\n",
              "        }    #T_864dfc22_56c0_11ea_b7ef_0242ac1c0002row0_col9 {\n",
              "            color:  blue;\n",
              "        }    #T_864dfc22_56c0_11ea_b7ef_0242ac1c0002row1_col0 {\n",
              "            color:  blue;\n",
              "        }    #T_864dfc22_56c0_11ea_b7ef_0242ac1c0002row1_col1 {\n",
              "            color:  blue;\n",
              "        }    #T_864dfc22_56c0_11ea_b7ef_0242ac1c0002row1_col2 {\n",
              "            color:  blue;\n",
              "        }    #T_864dfc22_56c0_11ea_b7ef_0242ac1c0002row1_col3 {\n",
              "            color:  blue;\n",
              "        }    #T_864dfc22_56c0_11ea_b7ef_0242ac1c0002row1_col4 {\n",
              "            color:  blue;\n",
              "        }    #T_864dfc22_56c0_11ea_b7ef_0242ac1c0002row1_col5 {\n",
              "            color:  blue;\n",
              "        }    #T_864dfc22_56c0_11ea_b7ef_0242ac1c0002row1_col6 {\n",
              "            color:  blue;\n",
              "        }    #T_864dfc22_56c0_11ea_b7ef_0242ac1c0002row1_col7 {\n",
              "            color:  blue;\n",
              "        }    #T_864dfc22_56c0_11ea_b7ef_0242ac1c0002row1_col8 {\n",
              "            color:  blue;\n",
              "        }    #T_864dfc22_56c0_11ea_b7ef_0242ac1c0002row1_col9 {\n",
              "            color:  blue;\n",
              "        }</style><table id=\"T_864dfc22_56c0_11ea_b7ef_0242ac1c0002\" ><thead>    <tr>        <th class=\"blank level0\" ></th>        <th class=\"col_heading level0 col0\" >Prevalence Disparity</th>        <th class=\"col_heading level0 col1\" >Accuracy Disparity</th>        <th class=\"col_heading level0 col2\" >True Positive Rate Disparity</th>        <th class=\"col_heading level0 col3\" >Precision Disparity</th>        <th class=\"col_heading level0 col4\" >Specificity Disparity</th>        <th class=\"col_heading level0 col5\" >Negative Predicted Value Disparity</th>        <th class=\"col_heading level0 col6\" >False Positive Rate Disparity</th>        <th class=\"col_heading level0 col7\" >False Discovery Rate Disparity</th>        <th class=\"col_heading level0 col8\" >False Negative Rate Disparity</th>        <th class=\"col_heading level0 col9\" >False Omissions Rate Disparity</th>    </tr></thead><tbody>\n",
              "                <tr>\n",
              "                        <th id=\"T_864dfc22_56c0_11ea_b7ef_0242ac1c0002level0_row0\" class=\"row_heading level0 row0\" >female</th>\n",
              "                        <td id=\"T_864dfc22_56c0_11ea_b7ef_0242ac1c0002row0_col0\" class=\"data row0 col0\" >0.891668</td>\n",
              "                        <td id=\"T_864dfc22_56c0_11ea_b7ef_0242ac1c0002row0_col1\" class=\"data row0 col1\" >1.02889</td>\n",
              "                        <td id=\"T_864dfc22_56c0_11ea_b7ef_0242ac1c0002row0_col2\" class=\"data row0 col2\" >0.912247</td>\n",
              "                        <td id=\"T_864dfc22_56c0_11ea_b7ef_0242ac1c0002row0_col3\" class=\"data row0 col3\" >0.98389</td>\n",
              "                        <td id=\"T_864dfc22_56c0_11ea_b7ef_0242ac1c0002row0_col4\" class=\"data row0 col4\" >1.04866</td>\n",
              "                        <td id=\"T_864dfc22_56c0_11ea_b7ef_0242ac1c0002row0_col5\" class=\"data row0 col5\" >1.00464</td>\n",
              "                        <td id=\"T_864dfc22_56c0_11ea_b7ef_0242ac1c0002row0_col6\" class=\"data row0 col6\" >0.812731</td>\n",
              "                        <td id=\"T_864dfc22_56c0_11ea_b7ef_0242ac1c0002row0_col7\" class=\"data row0 col7\" >1.01571</td>\n",
              "                        <td id=\"T_864dfc22_56c0_11ea_b7ef_0242ac1c0002row0_col8\" class=\"data row0 col8\" >1.16734</td>\n",
              "                        <td id=\"T_864dfc22_56c0_11ea_b7ef_0242ac1c0002row0_col9\" class=\"data row0 col9\" >0.965116</td>\n",
              "            </tr>\n",
              "            <tr>\n",
              "                        <th id=\"T_864dfc22_56c0_11ea_b7ef_0242ac1c0002level0_row1\" class=\"row_heading level0 row1\" >male</th>\n",
              "                        <td id=\"T_864dfc22_56c0_11ea_b7ef_0242ac1c0002row1_col0\" class=\"data row1 col0\" >1</td>\n",
              "                        <td id=\"T_864dfc22_56c0_11ea_b7ef_0242ac1c0002row1_col1\" class=\"data row1 col1\" >1</td>\n",
              "                        <td id=\"T_864dfc22_56c0_11ea_b7ef_0242ac1c0002row1_col2\" class=\"data row1 col2\" >1</td>\n",
              "                        <td id=\"T_864dfc22_56c0_11ea_b7ef_0242ac1c0002row1_col3\" class=\"data row1 col3\" >1</td>\n",
              "                        <td id=\"T_864dfc22_56c0_11ea_b7ef_0242ac1c0002row1_col4\" class=\"data row1 col4\" >1</td>\n",
              "                        <td id=\"T_864dfc22_56c0_11ea_b7ef_0242ac1c0002row1_col5\" class=\"data row1 col5\" >1</td>\n",
              "                        <td id=\"T_864dfc22_56c0_11ea_b7ef_0242ac1c0002row1_col6\" class=\"data row1 col6\" >1</td>\n",
              "                        <td id=\"T_864dfc22_56c0_11ea_b7ef_0242ac1c0002row1_col7\" class=\"data row1 col7\" >1</td>\n",
              "                        <td id=\"T_864dfc22_56c0_11ea_b7ef_0242ac1c0002row1_col8\" class=\"data row1 col8\" >1</td>\n",
              "                        <td id=\"T_864dfc22_56c0_11ea_b7ef_0242ac1c0002row1_col9\" class=\"data row1 col9\" >1</td>\n",
              "            </tr>\n",
              "    </tbody></table>"
            ],
            "text/plain": [
              "<pandas.io.formats.style.Styler at 0x7f386c64a518>"
            ]
          },
          "metadata": {
            "tags": []
          },
          "execution_count": 152
        }
      ]
    },
    {
      "cell_type": "code",
      "metadata": {
        "id": "ztYTyttIg_FJ",
        "colab_type": "code",
        "colab": {
          "base_uri": "https://localhost:8080/",
          "height": 306
        },
        "outputId": "9aa129aa-a9b8-43aa-dd2c-29aa259452d2"
      },
      "source": [
        "## The model is a bit hard on predicting male defaults vs female defaults. \n",
        "\n",
        "ax = disp_frame['False Positive Rate Disparity'].plot(kind='bar', color='b', title='False Omissions Rate Disparity')\n",
        "_ = ax.axhline(parity_threshold_low, color='r', linestyle='--')\n",
        "_ = ax.axhline(parity_threshold_hi, color='r', linestyle='--')\n",
        "\n"
      ],
      "execution_count": 153,
      "outputs": [
        {
          "output_type": "display_data",
          "data": {
            "image/png": "[encoded data removed]",
            "text/plain": [
              "<Figure size 432x288 with 1 Axes>"
            ]
          },
          "metadata": {
            "tags": []
          }
        }
      ]
    },
    {
      "cell_type": "markdown",
      "metadata": {
        "id": "-dzDBm-Ric04",
        "colab_type": "text"
      },
      "source": [
        "\n",
        "\n",
        "Assess and report parity\n",
        "\n",
        "A binary indication of parity for metrics is reported by simply checking whether disparity values are within the user-defined thresholds. Further parity indicators are defined as combinations of other disparity values:\n",
        "\n",
        "    Type I Parity: Both FDR Parity and FPR Parity\n",
        "    Type II Parity: Both FOR Parity and FNR Parity\n",
        "    Equalized Odds: Both FPR Parity and TPR Parity\n",
        "    Supervised Fairness: Both Type I and Type II Parity\n",
        "    Overall Fairness: Fairness across all metrics\n",
        "\n"
      ]
    },
    {
      "cell_type": "code",
      "metadata": {
        "id": "bzC6PDRMiJnx",
        "colab_type": "code",
        "colab": {
          "base_uri": "https://localhost:8080/",
          "height": 177
        },
        "outputId": "5f1c4cb4-3883-41d7-ddb3-5b6497196f85"
      },
      "source": [
        "# parity checks\n",
        "# low_threshold (0.8) < *_metric/white_metric < (high_threshold) 1.25 => parity, else disparity \n",
        "\n",
        "# init frame for parity\n",
        "par_frame = pd.DataFrame(index=sex_levels, \n",
        "                         columns=[col + ' Parity' for col in metrics_frame.columns])\n",
        "# nested loop through: \n",
        "# - races\n",
        "# - disparity metrics\n",
        "for i, _ in enumerate(sex_levels):\n",
        "    for j, _ in enumerate(par_frame.columns):\n",
        "        par_frame.iat[i, j] = (parity_threshold_low < disp_frame.iat[i, j] < parity_threshold_hi)\n",
        "\n",
        "# add overall parity checks\n",
        "# Type I Parity: Fairness in both FDR Parity and FPR Parity\n",
        "# Type II Parity: Fairness in both FOR Parity and FNR Parity\n",
        "# Equalized Odds: Fairness in both FPR Parity and TPR Parity\n",
        "# Supervised Fairness: Fairness in both Type I and Type II Parity\n",
        "# Overall Fairness: Fairness across all parities for all metrics\n",
        "par_frame['Type I Parity'] = (par_frame['False Discovery Rate Parity']) & (par_frame['False Positive Rate Parity'])\n",
        "par_frame['Type II Parity'] = (par_frame['False Omissions Rate Parity']) & (par_frame['False Negative Rate Parity'])\n",
        "par_frame['Equalized Odds'] = (par_frame['False Positive Rate Parity']) & (par_frame['True Positive Rate Parity'])\n",
        "par_frame['Supervised Fairness'] = (par_frame['Type I Parity']) & (par_frame['Type II Parity'])\n",
        "par_frame['Overall Fairness'] = par_frame.all(axis='columns')\n",
        "par_frame.loc['all', :] = par_frame.all(axis='index')\n",
        "    \n",
        "# small utility function to format pandas table output    \n",
        "def color_false_red(val):\n",
        "\n",
        "    color = 'red' if not val else 'blue'\n",
        "    return 'color: %s' % color \n",
        "    \n",
        "par_frame.style.applymap(color_false_red)"
      ],
      "execution_count": 154,
      "outputs": [
        {
          "output_type": "execute_result",
          "data": {
            "text/html": [
              "<style  type=\"text/css\" >\n",
              "    #T_70d19524_56c1_11ea_b7ef_0242ac1c0002row0_col0 {\n",
              "            color:  blue;\n",
              "        }    #T_70d19524_56c1_11ea_b7ef_0242ac1c0002row0_col1 {\n",
              "            color:  blue;\n",
              "        }    #T_70d19524_56c1_11ea_b7ef_0242ac1c0002row0_col2 {\n",
              "            color:  blue;\n",
              "        }    #T_70d19524_56c1_11ea_b7ef_0242ac1c0002row0_col3 {\n",
              "            color:  blue;\n",
              "        }    #T_70d19524_56c1_11ea_b7ef_0242ac1c0002row0_col4 {\n",
              "            color:  blue;\n",
              "        }    #T_70d19524_56c1_11ea_b7ef_0242ac1c0002row0_col5 {\n",
              "            color:  blue;\n",
              "        }    #T_70d19524_56c1_11ea_b7ef_0242ac1c0002row0_col6 {\n",
              "            color:  blue;\n",
              "        }    #T_70d19524_56c1_11ea_b7ef_0242ac1c0002row0_col7 {\n",
              "            color:  blue;\n",
              "        }    #T_70d19524_56c1_11ea_b7ef_0242ac1c0002row0_col8 {\n",
              "            color:  blue;\n",
              "        }    #T_70d19524_56c1_11ea_b7ef_0242ac1c0002row0_col9 {\n",
              "            color:  blue;\n",
              "        }    #T_70d19524_56c1_11ea_b7ef_0242ac1c0002row0_col10 {\n",
              "            color:  blue;\n",
              "        }    #T_70d19524_56c1_11ea_b7ef_0242ac1c0002row0_col11 {\n",
              "            color:  blue;\n",
              "        }    #T_70d19524_56c1_11ea_b7ef_0242ac1c0002row0_col12 {\n",
              "            color:  blue;\n",
              "        }    #T_70d19524_56c1_11ea_b7ef_0242ac1c0002row0_col13 {\n",
              "            color:  blue;\n",
              "        }    #T_70d19524_56c1_11ea_b7ef_0242ac1c0002row0_col14 {\n",
              "            color:  blue;\n",
              "        }    #T_70d19524_56c1_11ea_b7ef_0242ac1c0002row1_col0 {\n",
              "            color:  blue;\n",
              "        }    #T_70d19524_56c1_11ea_b7ef_0242ac1c0002row1_col1 {\n",
              "            color:  blue;\n",
              "        }    #T_70d19524_56c1_11ea_b7ef_0242ac1c0002row1_col2 {\n",
              "            color:  blue;\n",
              "        }    #T_70d19524_56c1_11ea_b7ef_0242ac1c0002row1_col3 {\n",
              "            color:  blue;\n",
              "        }    #T_70d19524_56c1_11ea_b7ef_0242ac1c0002row1_col4 {\n",
              "            color:  blue;\n",
              "        }    #T_70d19524_56c1_11ea_b7ef_0242ac1c0002row1_col5 {\n",
              "            color:  blue;\n",
              "        }    #T_70d19524_56c1_11ea_b7ef_0242ac1c0002row1_col6 {\n",
              "            color:  blue;\n",
              "        }    #T_70d19524_56c1_11ea_b7ef_0242ac1c0002row1_col7 {\n",
              "            color:  blue;\n",
              "        }    #T_70d19524_56c1_11ea_b7ef_0242ac1c0002row1_col8 {\n",
              "            color:  blue;\n",
              "        }    #T_70d19524_56c1_11ea_b7ef_0242ac1c0002row1_col9 {\n",
              "            color:  blue;\n",
              "        }    #T_70d19524_56c1_11ea_b7ef_0242ac1c0002row1_col10 {\n",
              "            color:  blue;\n",
              "        }    #T_70d19524_56c1_11ea_b7ef_0242ac1c0002row1_col11 {\n",
              "            color:  blue;\n",
              "        }    #T_70d19524_56c1_11ea_b7ef_0242ac1c0002row1_col12 {\n",
              "            color:  blue;\n",
              "        }    #T_70d19524_56c1_11ea_b7ef_0242ac1c0002row1_col13 {\n",
              "            color:  blue;\n",
              "        }    #T_70d19524_56c1_11ea_b7ef_0242ac1c0002row1_col14 {\n",
              "            color:  blue;\n",
              "        }    #T_70d19524_56c1_11ea_b7ef_0242ac1c0002row2_col0 {\n",
              "            color:  blue;\n",
              "        }    #T_70d19524_56c1_11ea_b7ef_0242ac1c0002row2_col1 {\n",
              "            color:  blue;\n",
              "        }    #T_70d19524_56c1_11ea_b7ef_0242ac1c0002row2_col2 {\n",
              "            color:  blue;\n",
              "        }    #T_70d19524_56c1_11ea_b7ef_0242ac1c0002row2_col3 {\n",
              "            color:  blue;\n",
              "        }    #T_70d19524_56c1_11ea_b7ef_0242ac1c0002row2_col4 {\n",
              "            color:  blue;\n",
              "        }    #T_70d19524_56c1_11ea_b7ef_0242ac1c0002row2_col5 {\n",
              "            color:  blue;\n",
              "        }    #T_70d19524_56c1_11ea_b7ef_0242ac1c0002row2_col6 {\n",
              "            color:  blue;\n",
              "        }    #T_70d19524_56c1_11ea_b7ef_0242ac1c0002row2_col7 {\n",
              "            color:  blue;\n",
              "        }    #T_70d19524_56c1_11ea_b7ef_0242ac1c0002row2_col8 {\n",
              "            color:  blue;\n",
              "        }    #T_70d19524_56c1_11ea_b7ef_0242ac1c0002row2_col9 {\n",
              "            color:  blue;\n",
              "        }    #T_70d19524_56c1_11ea_b7ef_0242ac1c0002row2_col10 {\n",
              "            color:  blue;\n",
              "        }    #T_70d19524_56c1_11ea_b7ef_0242ac1c0002row2_col11 {\n",
              "            color:  blue;\n",
              "        }    #T_70d19524_56c1_11ea_b7ef_0242ac1c0002row2_col12 {\n",
              "            color:  blue;\n",
              "        }    #T_70d19524_56c1_11ea_b7ef_0242ac1c0002row2_col13 {\n",
              "            color:  blue;\n",
              "        }    #T_70d19524_56c1_11ea_b7ef_0242ac1c0002row2_col14 {\n",
              "            color:  blue;\n",
              "        }</style><table id=\"T_70d19524_56c1_11ea_b7ef_0242ac1c0002\" ><thead>    <tr>        <th class=\"blank level0\" ></th>        <th class=\"col_heading level0 col0\" >Prevalence Parity</th>        <th class=\"col_heading level0 col1\" >Accuracy Parity</th>        <th class=\"col_heading level0 col2\" >True Positive Rate Parity</th>        <th class=\"col_heading level0 col3\" >Precision Parity</th>        <th class=\"col_heading level0 col4\" >Specificity Parity</th>        <th class=\"col_heading level0 col5\" >Negative Predicted Value Parity</th>        <th class=\"col_heading level0 col6\" >False Positive Rate Parity</th>        <th class=\"col_heading level0 col7\" >False Discovery Rate Parity</th>        <th class=\"col_heading level0 col8\" >False Negative Rate Parity</th>        <th class=\"col_heading level0 col9\" >False Omissions Rate Parity</th>        <th class=\"col_heading level0 col10\" >Type I Parity</th>        <th class=\"col_heading level0 col11\" >Type II Parity</th>        <th class=\"col_heading level0 col12\" >Equalized Odds</th>        <th class=\"col_heading level0 col13\" >Supervised Fairness</th>        <th class=\"col_heading level0 col14\" >Overall Fairness</th>    </tr></thead><tbody>\n",
              "                <tr>\n",
              "                        <th id=\"T_70d19524_56c1_11ea_b7ef_0242ac1c0002level0_row0\" class=\"row_heading level0 row0\" >female</th>\n",
              "                        <td id=\"T_70d19524_56c1_11ea_b7ef_0242ac1c0002row0_col0\" class=\"data row0 col0\" >True</td>\n",
              "                        <td id=\"T_70d19524_56c1_11ea_b7ef_0242ac1c0002row0_col1\" class=\"data row0 col1\" >True</td>\n",
              "                        <td id=\"T_70d19524_56c1_11ea_b7ef_0242ac1c0002row0_col2\" class=\"data row0 col2\" >True</td>\n",
              "                        <td id=\"T_70d19524_56c1_11ea_b7ef_0242ac1c0002row0_col3\" class=\"data row0 col3\" >True</td>\n",
              "                        <td id=\"T_70d19524_56c1_11ea_b7ef_0242ac1c0002row0_col4\" class=\"data row0 col4\" >True</td>\n",
              "                        <td id=\"T_70d19524_56c1_11ea_b7ef_0242ac1c0002row0_col5\" class=\"data row0 col5\" >True</td>\n",
              "                        <td id=\"T_70d19524_56c1_11ea_b7ef_0242ac1c0002row0_col6\" class=\"data row0 col6\" >True</td>\n",
              "                        <td id=\"T_70d19524_56c1_11ea_b7ef_0242ac1c0002row0_col7\" class=\"data row0 col7\" >True</td>\n",
              "                        <td id=\"T_70d19524_56c1_11ea_b7ef_0242ac1c0002row0_col8\" class=\"data row0 col8\" >True</td>\n",
              "                        <td id=\"T_70d19524_56c1_11ea_b7ef_0242ac1c0002row0_col9\" class=\"data row0 col9\" >True</td>\n",
              "                        <td id=\"T_70d19524_56c1_11ea_b7ef_0242ac1c0002row0_col10\" class=\"data row0 col10\" >True</td>\n",
              "                        <td id=\"T_70d19524_56c1_11ea_b7ef_0242ac1c0002row0_col11\" class=\"data row0 col11\" >True</td>\n",
              "                        <td id=\"T_70d19524_56c1_11ea_b7ef_0242ac1c0002row0_col12\" class=\"data row0 col12\" >True</td>\n",
              "                        <td id=\"T_70d19524_56c1_11ea_b7ef_0242ac1c0002row0_col13\" class=\"data row0 col13\" >True</td>\n",
              "                        <td id=\"T_70d19524_56c1_11ea_b7ef_0242ac1c0002row0_col14\" class=\"data row0 col14\" >True</td>\n",
              "            </tr>\n",
              "            <tr>\n",
              "                        <th id=\"T_70d19524_56c1_11ea_b7ef_0242ac1c0002level0_row1\" class=\"row_heading level0 row1\" >male</th>\n",
              "                        <td id=\"T_70d19524_56c1_11ea_b7ef_0242ac1c0002row1_col0\" class=\"data row1 col0\" >True</td>\n",
              "                        <td id=\"T_70d19524_56c1_11ea_b7ef_0242ac1c0002row1_col1\" class=\"data row1 col1\" >True</td>\n",
              "                        <td id=\"T_70d19524_56c1_11ea_b7ef_0242ac1c0002row1_col2\" class=\"data row1 col2\" >True</td>\n",
              "                        <td id=\"T_70d19524_56c1_11ea_b7ef_0242ac1c0002row1_col3\" class=\"data row1 col3\" >True</td>\n",
              "                        <td id=\"T_70d19524_56c1_11ea_b7ef_0242ac1c0002row1_col4\" class=\"data row1 col4\" >True</td>\n",
              "                        <td id=\"T_70d19524_56c1_11ea_b7ef_0242ac1c0002row1_col5\" class=\"data row1 col5\" >True</td>\n",
              "                        <td id=\"T_70d19524_56c1_11ea_b7ef_0242ac1c0002row1_col6\" class=\"data row1 col6\" >True</td>\n",
              "                        <td id=\"T_70d19524_56c1_11ea_b7ef_0242ac1c0002row1_col7\" class=\"data row1 col7\" >True</td>\n",
              "                        <td id=\"T_70d19524_56c1_11ea_b7ef_0242ac1c0002row1_col8\" class=\"data row1 col8\" >True</td>\n",
              "                        <td id=\"T_70d19524_56c1_11ea_b7ef_0242ac1c0002row1_col9\" class=\"data row1 col9\" >True</td>\n",
              "                        <td id=\"T_70d19524_56c1_11ea_b7ef_0242ac1c0002row1_col10\" class=\"data row1 col10\" >True</td>\n",
              "                        <td id=\"T_70d19524_56c1_11ea_b7ef_0242ac1c0002row1_col11\" class=\"data row1 col11\" >True</td>\n",
              "                        <td id=\"T_70d19524_56c1_11ea_b7ef_0242ac1c0002row1_col12\" class=\"data row1 col12\" >True</td>\n",
              "                        <td id=\"T_70d19524_56c1_11ea_b7ef_0242ac1c0002row1_col13\" class=\"data row1 col13\" >True</td>\n",
              "                        <td id=\"T_70d19524_56c1_11ea_b7ef_0242ac1c0002row1_col14\" class=\"data row1 col14\" >True</td>\n",
              "            </tr>\n",
              "            <tr>\n",
              "                        <th id=\"T_70d19524_56c1_11ea_b7ef_0242ac1c0002level0_row2\" class=\"row_heading level0 row2\" >all</th>\n",
              "                        <td id=\"T_70d19524_56c1_11ea_b7ef_0242ac1c0002row2_col0\" class=\"data row2 col0\" >True</td>\n",
              "                        <td id=\"T_70d19524_56c1_11ea_b7ef_0242ac1c0002row2_col1\" class=\"data row2 col1\" >True</td>\n",
              "                        <td id=\"T_70d19524_56c1_11ea_b7ef_0242ac1c0002row2_col2\" class=\"data row2 col2\" >True</td>\n",
              "                        <td id=\"T_70d19524_56c1_11ea_b7ef_0242ac1c0002row2_col3\" class=\"data row2 col3\" >True</td>\n",
              "                        <td id=\"T_70d19524_56c1_11ea_b7ef_0242ac1c0002row2_col4\" class=\"data row2 col4\" >True</td>\n",
              "                        <td id=\"T_70d19524_56c1_11ea_b7ef_0242ac1c0002row2_col5\" class=\"data row2 col5\" >True</td>\n",
              "                        <td id=\"T_70d19524_56c1_11ea_b7ef_0242ac1c0002row2_col6\" class=\"data row2 col6\" >True</td>\n",
              "                        <td id=\"T_70d19524_56c1_11ea_b7ef_0242ac1c0002row2_col7\" class=\"data row2 col7\" >True</td>\n",
              "                        <td id=\"T_70d19524_56c1_11ea_b7ef_0242ac1c0002row2_col8\" class=\"data row2 col8\" >True</td>\n",
              "                        <td id=\"T_70d19524_56c1_11ea_b7ef_0242ac1c0002row2_col9\" class=\"data row2 col9\" >True</td>\n",
              "                        <td id=\"T_70d19524_56c1_11ea_b7ef_0242ac1c0002row2_col10\" class=\"data row2 col10\" >True</td>\n",
              "                        <td id=\"T_70d19524_56c1_11ea_b7ef_0242ac1c0002row2_col11\" class=\"data row2 col11\" >True</td>\n",
              "                        <td id=\"T_70d19524_56c1_11ea_b7ef_0242ac1c0002row2_col12\" class=\"data row2 col12\" >True</td>\n",
              "                        <td id=\"T_70d19524_56c1_11ea_b7ef_0242ac1c0002row2_col13\" class=\"data row2 col13\" >True</td>\n",
              "                        <td id=\"T_70d19524_56c1_11ea_b7ef_0242ac1c0002row2_col14\" class=\"data row2 col14\" >True</td>\n",
              "            </tr>\n",
              "    </tbody></table>"
            ],
            "text/plain": [
              "<pandas.io.formats.style.Styler at 0x7f386c6f76a0>"
            ]
          },
          "metadata": {
            "tags": []
          },
          "execution_count": 154
        }
      ]
    },
    {
      "cell_type": "markdown",
      "metadata": {
        "id": "QnygPa0ZioAu",
        "colab_type": "text"
      },
      "source": [
        "To address any bias, users could tune the GBM cutoff or regularization, could try new methods for reweighing data prior to model training, try new modeling methods specifically designed for fairness, or post-process the decisions. Checkout the IBM AIF360 package for some of these techniques: http://aif360.mybluemix.net/. Before attempting remediation here, more traditional fair lending measures will be assessed and, local, or individual, fairness will also be investigated."
      ]
    },
    {
      "cell_type": "markdown",
      "metadata": {
        "id": "p5Y6U3QnmyV_",
        "colab_type": "text"
      },
      "source": [
        "#### Traditional Fair Lending Measures\n",
        "\n",
        "Along with adverse impact ratio (AIR), several measures have long-standing legal precedence in fair lending, including marginal effect and standardized mean difference. These measures are calculated and discussed here.\n",
        "Simple function to calculate adverse impact ratio (AIR)\n",
        "\n",
        "AIR is perhaps the most well-known discrimination measure. It was first delineated by the U.S. Equal Employment Opportunity Commission (EEOC) and AIR is associated with the convenient 4/5ths, or 0.8, cutoff threshold. AIR values below 0.8 can be considered evidence of illegal discrimination in many lending or employment scenarios in the U.S.\n"
      ]
    },
    {
      "cell_type": "code",
      "metadata": {
        "id": "j2kBDTXjifQU",
        "colab_type": "code",
        "colab": {
          "base_uri": "https://localhost:8080/",
          "height": 69
        },
        "outputId": "282065c5-786d-4c96-8bc6-f24d973f21b4"
      },
      "source": [
        " def air(reference, protected):\n",
        "\n",
        "    \"\"\" Calculates the adverse impact ratio as a quotient between protected and \n",
        "        reference group acceptance rates: protected_prop/reference_prop. \n",
        "        Prints intermediate values. Tightly coupled to cm_dict. \n",
        "    \n",
        "    Args:\n",
        "        reference: name of reference group in cm_dict as a string.\n",
        "        protected: name of protected group in cm_dict as a string.\n",
        "\n",
        "    Returns:\n",
        "        AIR as a formatted string. \n",
        "        \n",
        "    \"\"\"\n",
        "\n",
        "    # reference group summary\n",
        "    reference_accepted = float(cm_dict[reference].iat[1,0] + cm_dict[reference].iat[1,1]) # predicted 0's\n",
        "    reference_total = float(cm_dict[reference].sum().sum())\n",
        "    reference_prop = reference_accepted/reference_total\n",
        "    print(reference.title() + ' proportion accepted: %.3f' % reference_prop)\n",
        "    \n",
        "    # protected group summary\n",
        "    protected_accepted = float(cm_dict[protected].iat[1,0] + cm_dict[protected].iat[1,1]) # predicted 0's\n",
        "    protected_total = float(cm_dict[protected].sum().sum())\n",
        "    protected_prop = protected_accepted/protected_total\n",
        "    print(protected.title() + ' proportion accepted: %.3f' % protected_prop)\n",
        "\n",
        "    # return adverse impact ratio\n",
        "    return 'Adverse impact ratio: %.3f' % (protected_prop/reference_prop)\n",
        "\n",
        "print(air('male', 'female'))"
      ],
      "execution_count": 155,
      "outputs": [
        {
          "output_type": "stream",
          "text": [
            "Male proportion accepted: 0.688\n",
            "Female proportion accepted: 0.742\n",
            "Adverse impact ratio: 1.078\n"
          ],
          "name": "stdout"
        }
      ]
    },
    {
      "cell_type": "markdown",
      "metadata": {
        "id": "ouYDLlznm_R1",
        "colab_type": "text"
      },
      "source": [
        "Typical desirable ranges of AIR are above the 0.8 marker set by the 4/5ths rule. Here we see an almost ideal result where the protected and reference groups have very similar acceptance rates and AIR is near 1, slightly in favour of women."
      ]
    },
    {
      "cell_type": "markdown",
      "metadata": {
        "id": "JHup0c0JnGPM",
        "colab_type": "text"
      },
      "source": [
        "\n",
        "##### Simple function to calculate marginal effect¶\n",
        "\n",
        "Marginal effect describes the difference between the percent of the reference group awarded a loan and the percent of the protected group awarded a loan under a model.\n"
      ]
    },
    {
      "cell_type": "code",
      "metadata": {
        "id": "zU1L1FFym3-G",
        "colab_type": "code",
        "colab": {
          "base_uri": "https://localhost:8080/",
          "height": 69
        },
        "outputId": "8616c185-b224-4135-f8ca-08b4e860fce5"
      },
      "source": [
        "def marginal_effect(reference, protected):\n",
        "\n",
        "    \"\"\" Calculates the marginal effect as a percentage difference between a reference and \n",
        "        a protected group: reference_percent - protected_percent. Prints intermediate values. \n",
        "        Tightly coupled to cm_dict. \n",
        "    \n",
        "    Args:\n",
        "        reference: name of reference group in cm_dict as a string.\n",
        "        protected: name of protected group in cm_dict as a string.\n",
        "\n",
        "    Returns:\n",
        "        Marginal effect as a formatted string. \n",
        "        \n",
        "    \"\"\"\n",
        "    \n",
        "    # reference group summary\n",
        "    reference_accepted = float(cm_dict[reference].iat[1,0] + cm_dict[reference].iat[1,1]) # predicted 0's\n",
        "    reference_total = float(cm_dict[reference].sum().sum())\n",
        "    reference_percent = 100*(reference_accepted/reference_total)\n",
        "    print(reference.title() + ' accepted: %.2f%%' % reference_percent)\n",
        "    \n",
        "    # protected group summary\n",
        "    protected_accepted = float(cm_dict[protected].iat[1,0] + cm_dict[protected].iat[1,1]) # predicted 0's\n",
        "    protected_total = float(cm_dict[protected].sum().sum())\n",
        "    protected_percent = 100*(protected_accepted/protected_total)\n",
        "    print(protected.title() + ' accepted: %.2f%%' % protected_percent)\n",
        "    \n",
        "    # return marginal effect\n",
        "    return 'Marginal effect: %.2f%%' % (reference_percent - protected_percent)\n",
        "\n",
        "print(marginal_effect('male', 'female'))"
      ],
      "execution_count": 156,
      "outputs": [
        {
          "output_type": "stream",
          "text": [
            "Male accepted: 68.82%\n",
            "Female accepted: 74.22%\n",
            "Marginal effect: -5.40%\n"
          ],
          "name": "stdout"
        }
      ]
    },
    {
      "cell_type": "markdown",
      "metadata": {
        "id": "XtNDMH7OnSXv",
        "colab_type": "text"
      },
      "source": [
        "Given that the marginal effect is negative, indicating that a higher percentage of individuals in the protected group were awarded a loan than in the reference group, this value would likely not indicate a discrimination problem in most scenarios. The magnitude of the marginal effect is also relatively small, another sign that discrimination concerning SEX is low under the model. Generally, larger marginal effects may be tolerated in newer credit products, whereas smaller marginal effects are expected in established credit products."
      ]
    },
    {
      "cell_type": "markdown",
      "metadata": {
        "id": "IKJF1fbxnX_F",
        "colab_type": "text"
      },
      "source": [
        "\n",
        "##### Standardized mean difference\n",
        "\n",
        "The standardized mean difference (SMD), i.e. Cohen's D, is the mean value of the prediction for the protected group minus the mean prediction for the reference group, all divided by the standard deviation of the prediction. Like AIR, SMD has some prescribed thresholds: 0.2, 0.5, and 0.8 for small, medium, and large differences, respectively. The standardized mean difference can also be used on continuous values like credit limits or loan amounts.\n"
      ]
    },
    {
      "cell_type": "code",
      "metadata": {
        "id": "e9uRSdUXnKYa",
        "colab_type": "code",
        "colab": {
          "base_uri": "https://localhost:8080/",
          "height": 86
        },
        "outputId": "ed2aeae8-f708-4597-b9da-2619c76ec934"
      },
      "source": [
        "def smd(frame, yhat, j, reference, protected):\n",
        "    \n",
        "    \"\"\" Calculates standardized mean difference between a protected and reference group:\n",
        "    (mean(yhat | j=protected) - mean(yhat | j=reference))/sigma(yhat). \n",
        "    Prints intermediate values. \n",
        "    \n",
        "    Args:\n",
        "        frame: Pandas dataframe containing j and predicted (yhat) values.\n",
        "        yhat: Name of predicted value column.\n",
        "        j: name of demographic column containing reference and protected group labels. \n",
        "        reference: name of reference group in j.\n",
        "        protected: name of protected group in j. \n",
        "\n",
        "    Returns:\n",
        "       Standardized mean difference as a formatted string.\n",
        "       \n",
        "    \"\"\"\n",
        "    \n",
        "    # yhat mean for j=reference\n",
        "    reference_yhat_mean = frame[frame[j] == reference][yhat].mean()\n",
        "    print(reference.title() + ' mean yhat: %.2f' % reference_yhat_mean)\n",
        "    \n",
        "    #yhat mean for j=protected \n",
        "    protected_yhat_mean = frame[frame[j] == protected][yhat].mean()\n",
        "    print(protected.title() + ' mean yhat: %.2f' % protected_yhat_mean)\n",
        "    \n",
        "    # std for yhat\n",
        "    sigma = frame[yhat].std()\n",
        "    print(yhat.title() + ' std. dev.:  %.2f' % sigma)\n",
        "    \n",
        "    return 'Standardized Mean Difference: %.2f' % ((protected_yhat_mean - reference_yhat_mean)/sigma)\n",
        "    \n",
        "print(smd(preds_frame, 'DEFAULT_NEXT_MONTH_pred', 'SEX', 'male', 'female'))"
      ],
      "execution_count": 158,
      "outputs": [
        {
          "output_type": "stream",
          "text": [
            "Male mean yhat: 0.24\n",
            "Female mean yhat: 0.21\n",
            "Default_Next_Month_Pred std. dev.:  0.20\n",
            "Standardized Mean Difference: -0.15\n"
          ],
          "name": "stdout"
        }
      ]
    },
    {
      "cell_type": "markdown",
      "metadata": {
        "id": "zQXjTqoAn3Oo",
        "colab_type": "text"
      },
      "source": [
        "\n",
        "\n",
        "For this model, in the test set, men receive a higher average probability of default than do women. This difference is evident even after standardizing with the standard deviation of the predictions. However, the difference is quite small, below the 0.2 threshold for a small difference. SMD also points to low disparity between men and women under this model.\n"
      ]
    },
    {
      "cell_type": "markdown",
      "metadata": {
        "id": "EvJzaHRzn82o",
        "colab_type": "text"
      },
      "source": [
        "#### Investigate Individual Disparity\n",
        "\n",
        "In nonlinear models, similar people can be treated differenly by the model, so even if the model is mostly fair for most kinds of people, there could still be people the model treated unfairly. This could occur for multiple reasons, including the functional form of the learned model or because different variables are combined by the model to represent strong signals. If a variable is important in a dataset, model, or problem domain it's likely that a nonlinear model will find combinations of other variables to act as proxies for the problematic variable -- potentially even different combinations for different rows of data! So by simply testing for group fairness, you may miss instances of individual discrimination.\n"
      ]
    },
    {
      "cell_type": "markdown",
      "metadata": {
        "id": "01iuwK0ooRiF",
        "colab_type": "text"
      },
      "source": [
        "\n",
        "Augment predictions with decisions and logloss residuals for women with false positive predictions\n",
        "\n",
        "In this notebook, residuals for false positive predictions for women will be examined in an attempt to locate any individual instances of model discrimination. These are women who the model said would default, but they did not default. So they may have experienced some discrimination under the model.\n"
      ]
    },
    {
      "cell_type": "code",
      "metadata": {
        "id": "cKZqZWmkoyQ2",
        "colab_type": "code",
        "colab": {
          "base_uri": "https://localhost:8080/",
          "height": 243
        },
        "outputId": "d5d88372-d0df-4295-a4bd-568a70ec80f0"
      },
      "source": [
        "test_yhat_female[yhat]"
      ],
      "execution_count": 163,
      "outputs": [
        {
          "output_type": "execute_result",
          "data": {
            "text/plain": [
              "ID\n",
              "1        1\n",
              "9        0\n",
              "11       0\n",
              "12       0\n",
              "19       0\n",
              "        ..\n",
              "29160    0\n",
              "29161    0\n",
              "29162    1\n",
              "29170    1\n",
              "29179    0\n",
              "Name: DEFAULT_NEXT_MONTH, Length: 5462, dtype: int64"
            ]
          },
          "metadata": {
            "tags": []
          },
          "execution_count": 163
        }
      ]
    },
    {
      "cell_type": "code",
      "metadata": {
        "id": "0ALHmyLkprII",
        "colab_type": "code",
        "colab": {
          "base_uri": "https://localhost:8080/",
          "height": 243
        },
        "outputId": "9ea58feb-7c5c-4380-c8e8-37673a357ad5"
      },
      "source": [
        "test_yhat_female[yhat]"
      ],
      "execution_count": 172,
      "outputs": [
        {
          "output_type": "execute_result",
          "data": {
            "text/plain": [
              "ID\n",
              "1        1\n",
              "9        0\n",
              "11       0\n",
              "12       0\n",
              "19       0\n",
              "        ..\n",
              "29160    0\n",
              "29161    0\n",
              "29162    1\n",
              "29170    1\n",
              "29179    0\n",
              "Name: DEFAULT_NEXT_MONTH, Length: 5462, dtype: int64"
            ]
          },
          "metadata": {
            "tags": []
          },
          "execution_count": 172
        }
      ]
    },
    {
      "cell_type": "code",
      "metadata": {
        "id": "BHDAgJSrpeBx",
        "colab_type": "code",
        "colab": {
          "base_uri": "https://localhost:8080/",
          "height": 243
        },
        "outputId": "65b23a29-e65d-4b87-bd18-9861e69172eb"
      },
      "source": [
        "test_yhat_female[\"d_DEFAULT_NEXT_MONTH\"]"
      ],
      "execution_count": 177,
      "outputs": [
        {
          "output_type": "execute_result",
          "data": {
            "text/plain": [
              "ID\n",
              "1        1\n",
              "9        0\n",
              "11       0\n",
              "12       0\n",
              "19       0\n",
              "        ..\n",
              "29160    0\n",
              "29161    0\n",
              "29162    1\n",
              "29170    1\n",
              "29179    0\n",
              "Name: d_DEFAULT_NEXT_MONTH, Length: 5462, dtype: int64"
            ]
          },
          "metadata": {
            "tags": []
          },
          "execution_count": 177
        }
      ]
    },
    {
      "cell_type": "code",
      "metadata": {
        "id": "JTgiCgyhq6RN",
        "colab_type": "code",
        "colab": {
          "base_uri": "https://localhost:8080/",
          "height": 34
        },
        "outputId": "f8ba17ab-1fb4-4b3f-e794-5f415ef67ac3"
      },
      "source": [
        "y"
      ],
      "execution_count": 178,
      "outputs": [
        {
          "output_type": "execute_result",
          "data": {
            "text/plain": [
              "'DEFAULT_NEXT_MONTH'"
            ]
          },
          "metadata": {
            "tags": []
          },
          "execution_count": 178
        }
      ]
    },
    {
      "cell_type": "code",
      "metadata": {
        "id": "7bx2HThani-S",
        "colab_type": "code",
        "colab": {}
      },
      "source": [
        "test_yhat_female = preds_frame[preds_frame['SEX'] == 'female'].copy(deep=True)\n",
        "\n",
        "yhat = 'DEFAULT_NEXT_MONTH_pred'\n",
        "y = 'DEFAULT_NEXT_MONTH'\n",
        "test_yhat_female['d_DEFAULT_NEXT_MONTH'] = 0\n",
        "test_yhat_female.loc[test_yhat_female[yhat] > best_cut, 'd_DEFAULT_NEXT_MONTH'] = 1\n",
        "\n",
        "test_yhat_female['r_DEFAULT_NEXT_MONTH'] = -test_yhat_female[y]*np.log(test_yhat_female[yhat]) -\\\n",
        "                       (1 - test_yhat_female[y])*np.log(1 - test_yhat_female[yhat]) \n",
        "    \n",
        "test_yhat_female_fp = test_yhat_female[(test_yhat_female[y] == 0) &\\\n",
        "                                       (test_yhat_female['d_DEFAULT_NEXT_MONTH'] == 1)]"
      ],
      "execution_count": 0,
      "outputs": []
    },
    {
      "cell_type": "code",
      "metadata": {
        "id": "M6arm_kQodCG",
        "colab_type": "code",
        "colab": {
          "base_uri": "https://localhost:8080/",
          "height": 531
        },
        "outputId": "6a3601e3-832b-490d-9b5d-55d250dce88c"
      },
      "source": [
        "# initialize figure\n",
        "fig, ax_ = plt.subplots(figsize=(8, 8))         \n",
        "\n",
        "ax_.plot(test_yhat_female_fp[yhat],\n",
        "         test_yhat_female_fp['r_DEFAULT_NEXT_MONTH'],\n",
        "         marker='o', linestyle='', alpha=0.3)\n",
        "\n",
        "# annotate plot\n",
        "_ = plt.xlabel(yhat)\n",
        "_ = plt.ylabel('r_DEFAULT_NEXT_MONTH')\n",
        "_ = ax_.legend(loc=4)\n",
        "_ = plt.title('Logloss Residuals')"
      ],
      "execution_count": 183,
      "outputs": [
        {
          "output_type": "stream",
          "text": [
            "No handles with labels found to put in legend.\n"
          ],
          "name": "stderr"
        },
        {
          "output_type": "display_data",
          "data": {
            "image/png": "[encoded data removed]",
            "text/plain": [
              "<Figure size 576x576 with 1 Axes>"
            ]
          },
          "metadata": {
            "tags": []
          }
        }
      ]
    },
    {
      "cell_type": "code",
      "metadata": {
        "id": "_uziLt8jpS0u",
        "colab_type": "code",
        "colab": {
          "base_uri": "https://localhost:8080/",
          "height": 299
        },
        "outputId": "24894a31-67b0-48ec-d02e-3ae31704c85d"
      },
      "source": [
        "test_yhat_female_fp.sort_values(by='r_DEFAULT_NEXT_MONTH', ascending=False).head(n=3)"
      ],
      "execution_count": 184,
      "outputs": [
        {
          "output_type": "execute_result",
          "data": {
            "text/html": [
              "<div>\n",
              "<style scoped>\n",
              "    .dataframe tbody tr th:only-of-type {\n",
              "        vertical-align: middle;\n",
              "    }\n",
              "\n",
              "    .dataframe tbody tr th {\n",
              "        vertical-align: top;\n",
              "    }\n",
              "\n",
              "    .dataframe thead th {\n",
              "        text-align: right;\n",
              "    }\n",
              "</style>\n",
              "<table border=\"1\" class=\"dataframe\">\n",
              "  <thead>\n",
              "    <tr style=\"text-align: right;\">\n",
              "      <th></th>\n",
              "      <th>LIMIT_BAL</th>\n",
              "      <th>SEX</th>\n",
              "      <th>EDUCATION</th>\n",
              "      <th>MARRIAGE</th>\n",
              "      <th>AGE</th>\n",
              "      <th>PAY_0</th>\n",
              "      <th>PAY_2</th>\n",
              "      <th>PAY_3</th>\n",
              "      <th>PAY_4</th>\n",
              "      <th>PAY_5</th>\n",
              "      <th>PAY_6</th>\n",
              "      <th>BILL_AMT1</th>\n",
              "      <th>BILL_AMT2</th>\n",
              "      <th>BILL_AMT3</th>\n",
              "      <th>BILL_AMT4</th>\n",
              "      <th>BILL_AMT5</th>\n",
              "      <th>BILL_AMT6</th>\n",
              "      <th>PAY_AMT1</th>\n",
              "      <th>PAY_AMT2</th>\n",
              "      <th>PAY_AMT3</th>\n",
              "      <th>PAY_AMT4</th>\n",
              "      <th>PAY_AMT5</th>\n",
              "      <th>PAY_AMT6</th>\n",
              "      <th>DEFAULT_NEXT_MONTH</th>\n",
              "      <th>DEFAULT_NEXT_MONTH_pred</th>\n",
              "      <th>d_DEFAULT_NEXT_MONTH</th>\n",
              "      <th>r_DEFAULT_NEXT_MONTH</th>\n",
              "    </tr>\n",
              "    <tr>\n",
              "      <th>ID</th>\n",
              "      <th></th>\n",
              "      <th></th>\n",
              "      <th></th>\n",
              "      <th></th>\n",
              "      <th></th>\n",
              "      <th></th>\n",
              "      <th></th>\n",
              "      <th></th>\n",
              "      <th></th>\n",
              "      <th></th>\n",
              "      <th></th>\n",
              "      <th></th>\n",
              "      <th></th>\n",
              "      <th></th>\n",
              "      <th></th>\n",
              "      <th></th>\n",
              "      <th></th>\n",
              "      <th></th>\n",
              "      <th></th>\n",
              "      <th></th>\n",
              "      <th></th>\n",
              "      <th></th>\n",
              "      <th></th>\n",
              "      <th></th>\n",
              "      <th></th>\n",
              "      <th></th>\n",
              "      <th></th>\n",
              "    </tr>\n",
              "  </thead>\n",
              "  <tbody>\n",
              "    <tr>\n",
              "      <th>5916</th>\n",
              "      <td>110000</td>\n",
              "      <td>female</td>\n",
              "      <td>graduate school</td>\n",
              "      <td>married</td>\n",
              "      <td>41</td>\n",
              "      <td>2 month delay</td>\n",
              "      <td>2 month delay</td>\n",
              "      <td>7 month delay</td>\n",
              "      <td>7 month delay</td>\n",
              "      <td>7 month delay</td>\n",
              "      <td>7 month delay</td>\n",
              "      <td>150</td>\n",
              "      <td>150</td>\n",
              "      <td>150</td>\n",
              "      <td>150</td>\n",
              "      <td>150</td>\n",
              "      <td>150</td>\n",
              "      <td>0</td>\n",
              "      <td>0</td>\n",
              "      <td>0</td>\n",
              "      <td>0</td>\n",
              "      <td>0</td>\n",
              "      <td>0</td>\n",
              "      <td>0</td>\n",
              "      <td>0.867113</td>\n",
              "      <td>1</td>\n",
              "      <td>2.018254</td>\n",
              "    </tr>\n",
              "    <tr>\n",
              "      <th>27651</th>\n",
              "      <td>20000</td>\n",
              "      <td>female</td>\n",
              "      <td>high school</td>\n",
              "      <td>married</td>\n",
              "      <td>54</td>\n",
              "      <td>2 month delay</td>\n",
              "      <td>use of revolving credit</td>\n",
              "      <td>use of revolving credit</td>\n",
              "      <td>2 month delay</td>\n",
              "      <td>2 month delay</td>\n",
              "      <td>2 month delay</td>\n",
              "      <td>14381</td>\n",
              "      <td>16174</td>\n",
              "      <td>18210</td>\n",
              "      <td>19335</td>\n",
              "      <td>19715</td>\n",
              "      <td>20249</td>\n",
              "      <td>2350</td>\n",
              "      <td>2300</td>\n",
              "      <td>1721</td>\n",
              "      <td>1000</td>\n",
              "      <td>1000</td>\n",
              "      <td>1000</td>\n",
              "      <td>0</td>\n",
              "      <td>0.864284</td>\n",
              "      <td>1</td>\n",
              "      <td>1.997194</td>\n",
              "    </tr>\n",
              "    <tr>\n",
              "      <th>10918</th>\n",
              "      <td>200000</td>\n",
              "      <td>female</td>\n",
              "      <td>high school</td>\n",
              "      <td>married</td>\n",
              "      <td>54</td>\n",
              "      <td>6 month delay</td>\n",
              "      <td>5 month delay</td>\n",
              "      <td>4 month delay</td>\n",
              "      <td>3 month delay</td>\n",
              "      <td>2 month delay</td>\n",
              "      <td>2 month delay</td>\n",
              "      <td>110185</td>\n",
              "      <td>107665</td>\n",
              "      <td>104686</td>\n",
              "      <td>102549</td>\n",
              "      <td>101400</td>\n",
              "      <td>0</td>\n",
              "      <td>0</td>\n",
              "      <td>0</td>\n",
              "      <td>0</td>\n",
              "      <td>0</td>\n",
              "      <td>0</td>\n",
              "      <td>0</td>\n",
              "      <td>0</td>\n",
              "      <td>0.857903</td>\n",
              "      <td>1</td>\n",
              "      <td>1.951249</td>\n",
              "    </tr>\n",
              "  </tbody>\n",
              "</table>\n",
              "</div>"
            ],
            "text/plain": [
              "       LIMIT_BAL     SEX        EDUCATION MARRIAGE  AGE          PAY_0  \\\n",
              "ID                                                                       \n",
              "5916      110000  female  graduate school  married   41  2 month delay   \n",
              "27651      20000  female      high school  married   54  2 month delay   \n",
              "10918     200000  female      high school  married   54  6 month delay   \n",
              "\n",
              "                         PAY_2                    PAY_3          PAY_4  \\\n",
              "ID                                                                       \n",
              "5916             2 month delay            7 month delay  7 month delay   \n",
              "27651  use of revolving credit  use of revolving credit  2 month delay   \n",
              "10918            5 month delay            4 month delay  3 month delay   \n",
              "\n",
              "               PAY_5          PAY_6  BILL_AMT1  BILL_AMT2  BILL_AMT3  \\\n",
              "ID                                                                     \n",
              "5916   7 month delay  7 month delay        150        150        150   \n",
              "27651  2 month delay  2 month delay      14381      16174      18210   \n",
              "10918  2 month delay  2 month delay     110185     107665     104686   \n",
              "\n",
              "       BILL_AMT4  BILL_AMT5  BILL_AMT6  PAY_AMT1  PAY_AMT2  PAY_AMT3  \\\n",
              "ID                                                                     \n",
              "5916         150        150        150         0         0         0   \n",
              "27651      19335      19715      20249      2350      2300      1721   \n",
              "10918     102549     101400          0         0         0         0   \n",
              "\n",
              "       PAY_AMT4  PAY_AMT5  PAY_AMT6  DEFAULT_NEXT_MONTH  \\\n",
              "ID                                                        \n",
              "5916          0         0         0                   0   \n",
              "27651      1000      1000      1000                   0   \n",
              "10918         0         0         0                   0   \n",
              "\n",
              "       DEFAULT_NEXT_MONTH_pred  d_DEFAULT_NEXT_MONTH  r_DEFAULT_NEXT_MONTH  \n",
              "ID                                                                          \n",
              "5916                  0.867113                     1              2.018254  \n",
              "27651                 0.864284                     1              1.997194  \n",
              "10918                 0.857903                     1              1.951249  "
            ]
          },
          "metadata": {
            "tags": []
          },
          "execution_count": 184
        }
      ]
    },
    {
      "cell_type": "markdown",
      "metadata": {
        "id": "rm6NiwqdrX7Z",
        "colab_type": "text"
      },
      "source": [
        "\n",
        "\n",
        "Looking at the top 3 highest residual predictions, it's clear these were customers with a horrible payment track record that somehow were able to make a last-minute payment. Although it's not possible to say they were not discrimated against by the model, it seems very clear that the model was justified to issue default predictions for these customers.\n"
      ]
    },
    {
      "cell_type": "markdown",
      "metadata": {
        "id": "UBrzqrpcrlX7",
        "colab_type": "text"
      },
      "source": [
        "\n",
        "#### Adverse Action Notices\n",
        "\n",
        "Anyone that is denied further credit due to this model in the U.S. must be given reasons why. Shapley values provide a mechanism to rank the contributions of input variables to any given model decision and may be suitable for adverse action notice generation. Because the highest residual false positive female seems like a probable candidate to be rejected for further credit at some point, Shapley values can be used to say why according to this model.\n"
      ]
    },
    {
      "cell_type": "code",
      "metadata": {
        "id": "gOfXPEB_sBhS",
        "colab_type": "code",
        "colab": {
          "base_uri": "https://localhost:8080/",
          "height": 581
        },
        "outputId": "bbd02cae-15ca-41ac-8d24-310aa3dc7c4a"
      },
      "source": [
        "contributions_matrix = model.predict(test,pred_contrib=True)\n",
        "shap_values = contributions_matrix[:,:-1]\n",
        "shap.summary_plot(shap_values, X, plot_type='bar', color='royalblue')"
      ],
      "execution_count": 188,
      "outputs": [
        {
          "output_type": "display_data",
          "data": {
            "image/png": "[encoded data removed]",
            "text/plain": [
              "<Figure size 576x684 with 1 Axes>"
            ]
          },
          "metadata": {
            "tags": []
          }
        }
      ]
    },
    {
      "cell_type": "code",
      "metadata": {
        "id": "N2m-bHstrRvL",
        "colab_type": "code",
        "colab": {
          "base_uri": "https://localhost:8080/",
          "height": 366
        },
        "outputId": "a664f4dc-17e0-40d9-df4c-98a226de3ad4"
      },
      "source": [
        "# select highest residual female false positive\n",
        "row = test_yhat_female_fp.sort_values(by='r_DEFAULT_NEXT_MONTH', ascending=False).head(n=1)\n",
        "\n",
        "# search for her index in shap_values array\n",
        "# create Pandas DataFrame and plot\n",
        "s_df = pd.DataFrame(shap_values[row.index[0], :].reshape(len(X), 1), columns=['Reason Codes'], index=X).abs()\n",
        "_ = s_df.sort_values(by='Reason Codes', ascending=False).plot(kind='bar', legend=False, \n",
        "                                                              title='Shapley Contributions to Predictions')\n",
        "\n",
        "# check that Shapley is locally accurate\n",
        "print('Sum of Shapley contributions and bias:', s_df.sum()[0] + contributions_matrix[0, -1])\n",
        "print('Model prediction in margin space:', np.log(row[yhat].values/(1 - row[yhat].values))[0])"
      ],
      "execution_count": 190,
      "outputs": [
        {
          "output_type": "stream",
          "text": [
            "Sum of Shapley contributions and bias: -0.05145796754564835\n",
            "Model prediction in margin space: 1.8756679117354085\n"
          ],
          "name": "stdout"
        },
        {
          "output_type": "display_data",
          "data": {
            "image/png": "[encoded data removed]",
            "text/plain": [
              "<Figure size 432x288 with 1 Axes>"
            ]
          },
          "metadata": {
            "tags": []
          }
        }
      ]
    },
    {
      "cell_type": "markdown",
      "metadata": {
        "id": "GFetC8fOtBOV",
        "colab_type": "text"
      },
      "source": [
        "\n",
        "\n",
        "Combining the Shapley values with the individual's data values allows ranked reasons to be given for denial of credit:\n",
        "\n",
        "    Two months late on most recent payment\n",
        "    Seven months late on 6th most recent payment\n",
        "\n",
        "\n",
        "Because monotonicity contraints were used during model training, these reasons should be consistent across all denial decisions meaning that no one who was denied credit would have a better value for an input variable than someone who was granted credit.\n"
      ]
    },
    {
      "cell_type": "markdown",
      "metadata": {
        "id": "htBMTDIotqgw",
        "colab_type": "text"
      },
      "source": [
        "\n",
        "Examine low logloss residual individuals¶\n",
        "\n",
        "Given that high-residual individuals were not clearly discriminated against, their low-residual counter parts could be interesting to investigate next.\n"
      ]
    },
    {
      "cell_type": "code",
      "metadata": {
        "id": "Wrbs2pJIrsrI",
        "colab_type": "code",
        "colab": {
          "base_uri": "https://localhost:8080/",
          "height": 736
        },
        "outputId": "c4da8c8c-0c8c-42b9-8807-abf0d3d0da60"
      },
      "source": [
        "\n",
        "\n",
        "top = test_yhat_female_fp.sort_values(by='r_DEFAULT_NEXT_MONTH', ascending=True).head(n=150);top\n",
        "\n"
      ],
      "execution_count": 192,
      "outputs": [
        {
          "output_type": "execute_result",
          "data": {
            "text/html": [
              "<div>\n",
              "<style scoped>\n",
              "    .dataframe tbody tr th:only-of-type {\n",
              "        vertical-align: middle;\n",
              "    }\n",
              "\n",
              "    .dataframe tbody tr th {\n",
              "        vertical-align: top;\n",
              "    }\n",
              "\n",
              "    .dataframe thead th {\n",
              "        text-align: right;\n",
              "    }\n",
              "</style>\n",
              "<table border=\"1\" class=\"dataframe\">\n",
              "  <thead>\n",
              "    <tr style=\"text-align: right;\">\n",
              "      <th></th>\n",
              "      <th>LIMIT_BAL</th>\n",
              "      <th>SEX</th>\n",
              "      <th>EDUCATION</th>\n",
              "      <th>MARRIAGE</th>\n",
              "      <th>AGE</th>\n",
              "      <th>PAY_0</th>\n",
              "      <th>PAY_2</th>\n",
              "      <th>PAY_3</th>\n",
              "      <th>PAY_4</th>\n",
              "      <th>PAY_5</th>\n",
              "      <th>PAY_6</th>\n",
              "      <th>BILL_AMT1</th>\n",
              "      <th>BILL_AMT2</th>\n",
              "      <th>BILL_AMT3</th>\n",
              "      <th>BILL_AMT4</th>\n",
              "      <th>BILL_AMT5</th>\n",
              "      <th>BILL_AMT6</th>\n",
              "      <th>PAY_AMT1</th>\n",
              "      <th>PAY_AMT2</th>\n",
              "      <th>PAY_AMT3</th>\n",
              "      <th>PAY_AMT4</th>\n",
              "      <th>PAY_AMT5</th>\n",
              "      <th>PAY_AMT6</th>\n",
              "      <th>DEFAULT_NEXT_MONTH</th>\n",
              "      <th>DEFAULT_NEXT_MONTH_pred</th>\n",
              "      <th>d_DEFAULT_NEXT_MONTH</th>\n",
              "      <th>r_DEFAULT_NEXT_MONTH</th>\n",
              "    </tr>\n",
              "    <tr>\n",
              "      <th>ID</th>\n",
              "      <th></th>\n",
              "      <th></th>\n",
              "      <th></th>\n",
              "      <th></th>\n",
              "      <th></th>\n",
              "      <th></th>\n",
              "      <th></th>\n",
              "      <th></th>\n",
              "      <th></th>\n",
              "      <th></th>\n",
              "      <th></th>\n",
              "      <th></th>\n",
              "      <th></th>\n",
              "      <th></th>\n",
              "      <th></th>\n",
              "      <th></th>\n",
              "      <th></th>\n",
              "      <th></th>\n",
              "      <th></th>\n",
              "      <th></th>\n",
              "      <th></th>\n",
              "      <th></th>\n",
              "      <th></th>\n",
              "      <th></th>\n",
              "      <th></th>\n",
              "      <th></th>\n",
              "      <th></th>\n",
              "    </tr>\n",
              "  </thead>\n",
              "  <tbody>\n",
              "    <tr>\n",
              "      <th>22913</th>\n",
              "      <td>270000</td>\n",
              "      <td>female</td>\n",
              "      <td>other</td>\n",
              "      <td>married</td>\n",
              "      <td>33</td>\n",
              "      <td>no consumption</td>\n",
              "      <td>no consumption</td>\n",
              "      <td>no consumption</td>\n",
              "      <td>no consumption</td>\n",
              "      <td>no consumption</td>\n",
              "      <td>no consumption</td>\n",
              "      <td>0</td>\n",
              "      <td>0</td>\n",
              "      <td>1205</td>\n",
              "      <td>0</td>\n",
              "      <td>0</td>\n",
              "      <td>0</td>\n",
              "      <td>0</td>\n",
              "      <td>1205</td>\n",
              "      <td>0</td>\n",
              "      <td>0</td>\n",
              "      <td>0</td>\n",
              "      <td>0</td>\n",
              "      <td>0</td>\n",
              "      <td>0.250383</td>\n",
              "      <td>1</td>\n",
              "      <td>0.288193</td>\n",
              "    </tr>\n",
              "    <tr>\n",
              "      <th>25509</th>\n",
              "      <td>120000</td>\n",
              "      <td>female</td>\n",
              "      <td>graduate school</td>\n",
              "      <td>single</td>\n",
              "      <td>26</td>\n",
              "      <td>1 month delay</td>\n",
              "      <td>pay duly</td>\n",
              "      <td>pay duly</td>\n",
              "      <td>pay duly</td>\n",
              "      <td>pay duly</td>\n",
              "      <td>no consumption</td>\n",
              "      <td>-93</td>\n",
              "      <td>936</td>\n",
              "      <td>0</td>\n",
              "      <td>680</td>\n",
              "      <td>0</td>\n",
              "      <td>0</td>\n",
              "      <td>1029</td>\n",
              "      <td>0</td>\n",
              "      <td>680</td>\n",
              "      <td>0</td>\n",
              "      <td>0</td>\n",
              "      <td>1381</td>\n",
              "      <td>0</td>\n",
              "      <td>0.250443</td>\n",
              "      <td>1</td>\n",
              "      <td>0.288273</td>\n",
              "    </tr>\n",
              "    <tr>\n",
              "      <th>23727</th>\n",
              "      <td>330000</td>\n",
              "      <td>female</td>\n",
              "      <td>high school</td>\n",
              "      <td>married</td>\n",
              "      <td>50</td>\n",
              "      <td>pay duly</td>\n",
              "      <td>pay duly</td>\n",
              "      <td>no consumption</td>\n",
              "      <td>no consumption</td>\n",
              "      <td>no consumption</td>\n",
              "      <td>pay duly</td>\n",
              "      <td>2064</td>\n",
              "      <td>0</td>\n",
              "      <td>0</td>\n",
              "      <td>0</td>\n",
              "      <td>0</td>\n",
              "      <td>324</td>\n",
              "      <td>0</td>\n",
              "      <td>0</td>\n",
              "      <td>0</td>\n",
              "      <td>0</td>\n",
              "      <td>324</td>\n",
              "      <td>0</td>\n",
              "      <td>0</td>\n",
              "      <td>0.250507</td>\n",
              "      <td>1</td>\n",
              "      <td>0.288359</td>\n",
              "    </tr>\n",
              "    <tr>\n",
              "      <th>19800</th>\n",
              "      <td>150000</td>\n",
              "      <td>female</td>\n",
              "      <td>high school</td>\n",
              "      <td>married</td>\n",
              "      <td>40</td>\n",
              "      <td>no consumption</td>\n",
              "      <td>no consumption</td>\n",
              "      <td>no consumption</td>\n",
              "      <td>no consumption</td>\n",
              "      <td>no consumption</td>\n",
              "      <td>no consumption</td>\n",
              "      <td>0</td>\n",
              "      <td>0</td>\n",
              "      <td>0</td>\n",
              "      <td>0</td>\n",
              "      <td>0</td>\n",
              "      <td>4095</td>\n",
              "      <td>0</td>\n",
              "      <td>0</td>\n",
              "      <td>0</td>\n",
              "      <td>0</td>\n",
              "      <td>4095</td>\n",
              "      <td>0</td>\n",
              "      <td>0</td>\n",
              "      <td>0.250728</td>\n",
              "      <td>1</td>\n",
              "      <td>0.288653</td>\n",
              "    </tr>\n",
              "    <tr>\n",
              "      <th>78</th>\n",
              "      <td>300000</td>\n",
              "      <td>female</td>\n",
              "      <td>graduate school</td>\n",
              "      <td>married</td>\n",
              "      <td>45</td>\n",
              "      <td>pay duly</td>\n",
              "      <td>pay duly</td>\n",
              "      <td>pay duly</td>\n",
              "      <td>pay duly</td>\n",
              "      <td>pay duly</td>\n",
              "      <td>pay duly</td>\n",
              "      <td>291</td>\n",
              "      <td>291</td>\n",
              "      <td>291</td>\n",
              "      <td>291</td>\n",
              "      <td>291</td>\n",
              "      <td>291</td>\n",
              "      <td>291</td>\n",
              "      <td>291</td>\n",
              "      <td>291</td>\n",
              "      <td>291</td>\n",
              "      <td>291</td>\n",
              "      <td>291</td>\n",
              "      <td>0</td>\n",
              "      <td>0.250795</td>\n",
              "      <td>1</td>\n",
              "      <td>0.288742</td>\n",
              "    </tr>\n",
              "    <tr>\n",
              "      <th>...</th>\n",
              "      <td>...</td>\n",
              "      <td>...</td>\n",
              "      <td>...</td>\n",
              "      <td>...</td>\n",
              "      <td>...</td>\n",
              "      <td>...</td>\n",
              "      <td>...</td>\n",
              "      <td>...</td>\n",
              "      <td>...</td>\n",
              "      <td>...</td>\n",
              "      <td>...</td>\n",
              "      <td>...</td>\n",
              "      <td>...</td>\n",
              "      <td>...</td>\n",
              "      <td>...</td>\n",
              "      <td>...</td>\n",
              "      <td>...</td>\n",
              "      <td>...</td>\n",
              "      <td>...</td>\n",
              "      <td>...</td>\n",
              "      <td>...</td>\n",
              "      <td>...</td>\n",
              "      <td>...</td>\n",
              "      <td>...</td>\n",
              "      <td>...</td>\n",
              "      <td>...</td>\n",
              "      <td>...</td>\n",
              "    </tr>\n",
              "    <tr>\n",
              "      <th>12493</th>\n",
              "      <td>20000</td>\n",
              "      <td>female</td>\n",
              "      <td>high school</td>\n",
              "      <td>married</td>\n",
              "      <td>33</td>\n",
              "      <td>use of revolving credit</td>\n",
              "      <td>use of revolving credit</td>\n",
              "      <td>use of revolving credit</td>\n",
              "      <td>use of revolving credit</td>\n",
              "      <td>use of revolving credit</td>\n",
              "      <td>use of revolving credit</td>\n",
              "      <td>2909</td>\n",
              "      <td>3537</td>\n",
              "      <td>4120</td>\n",
              "      <td>3802</td>\n",
              "      <td>3484</td>\n",
              "      <td>3152</td>\n",
              "      <td>1224</td>\n",
              "      <td>1197</td>\n",
              "      <td>269</td>\n",
              "      <td>269</td>\n",
              "      <td>261</td>\n",
              "      <td>227</td>\n",
              "      <td>0</td>\n",
              "      <td>0.284864</td>\n",
              "      <td>1</td>\n",
              "      <td>0.335283</td>\n",
              "    </tr>\n",
              "    <tr>\n",
              "      <th>9977</th>\n",
              "      <td>110000</td>\n",
              "      <td>female</td>\n",
              "      <td>graduate school</td>\n",
              "      <td>single</td>\n",
              "      <td>32</td>\n",
              "      <td>1 month delay</td>\n",
              "      <td>pay duly</td>\n",
              "      <td>use of revolving credit</td>\n",
              "      <td>use of revolving credit</td>\n",
              "      <td>use of revolving credit</td>\n",
              "      <td>no consumption</td>\n",
              "      <td>0</td>\n",
              "      <td>1670</td>\n",
              "      <td>11693</td>\n",
              "      <td>7903</td>\n",
              "      <td>-18</td>\n",
              "      <td>-18</td>\n",
              "      <td>1670</td>\n",
              "      <td>10200</td>\n",
              "      <td>0</td>\n",
              "      <td>0</td>\n",
              "      <td>0</td>\n",
              "      <td>0</td>\n",
              "      <td>0</td>\n",
              "      <td>0.285310</td>\n",
              "      <td>1</td>\n",
              "      <td>0.335906</td>\n",
              "    </tr>\n",
              "    <tr>\n",
              "      <th>28138</th>\n",
              "      <td>230000</td>\n",
              "      <td>female</td>\n",
              "      <td>high school</td>\n",
              "      <td>married</td>\n",
              "      <td>36</td>\n",
              "      <td>1 month delay</td>\n",
              "      <td>2 month delay</td>\n",
              "      <td>use of revolving credit</td>\n",
              "      <td>use of revolving credit</td>\n",
              "      <td>use of revolving credit</td>\n",
              "      <td>use of revolving credit</td>\n",
              "      <td>232115</td>\n",
              "      <td>225086</td>\n",
              "      <td>222286</td>\n",
              "      <td>222884</td>\n",
              "      <td>220876</td>\n",
              "      <td>221496</td>\n",
              "      <td>22</td>\n",
              "      <td>9005</td>\n",
              "      <td>9037</td>\n",
              "      <td>7519</td>\n",
              "      <td>8018</td>\n",
              "      <td>8100</td>\n",
              "      <td>0</td>\n",
              "      <td>0.285368</td>\n",
              "      <td>1</td>\n",
              "      <td>0.335987</td>\n",
              "    </tr>\n",
              "    <tr>\n",
              "      <th>7423</th>\n",
              "      <td>60000</td>\n",
              "      <td>female</td>\n",
              "      <td>graduate school</td>\n",
              "      <td>single</td>\n",
              "      <td>25</td>\n",
              "      <td>use of revolving credit</td>\n",
              "      <td>use of revolving credit</td>\n",
              "      <td>use of revolving credit</td>\n",
              "      <td>2 month delay</td>\n",
              "      <td>2 month delay</td>\n",
              "      <td>2 month delay</td>\n",
              "      <td>24066</td>\n",
              "      <td>24786</td>\n",
              "      <td>27050</td>\n",
              "      <td>26317</td>\n",
              "      <td>28200</td>\n",
              "      <td>28762</td>\n",
              "      <td>1414</td>\n",
              "      <td>2678</td>\n",
              "      <td>0</td>\n",
              "      <td>2310</td>\n",
              "      <td>1173</td>\n",
              "      <td>0</td>\n",
              "      <td>0</td>\n",
              "      <td>0.285369</td>\n",
              "      <td>1</td>\n",
              "      <td>0.335989</td>\n",
              "    </tr>\n",
              "    <tr>\n",
              "      <th>15245</th>\n",
              "      <td>80000</td>\n",
              "      <td>female</td>\n",
              "      <td>university</td>\n",
              "      <td>married</td>\n",
              "      <td>37</td>\n",
              "      <td>pay duly</td>\n",
              "      <td>use of revolving credit</td>\n",
              "      <td>use of revolving credit</td>\n",
              "      <td>2 month delay</td>\n",
              "      <td>2 month delay</td>\n",
              "      <td>2 month delay</td>\n",
              "      <td>28652</td>\n",
              "      <td>29869</td>\n",
              "      <td>33071</td>\n",
              "      <td>33531</td>\n",
              "      <td>34184</td>\n",
              "      <td>33503</td>\n",
              "      <td>2000</td>\n",
              "      <td>4000</td>\n",
              "      <td>1300</td>\n",
              "      <td>1500</td>\n",
              "      <td>0</td>\n",
              "      <td>1300</td>\n",
              "      <td>0</td>\n",
              "      <td>0.285488</td>\n",
              "      <td>1</td>\n",
              "      <td>0.336156</td>\n",
              "    </tr>\n",
              "  </tbody>\n",
              "</table>\n",
              "<p>150 rows × 27 columns</p>\n",
              "</div>"
            ],
            "text/plain": [
              "       LIMIT_BAL     SEX        EDUCATION MARRIAGE  AGE  \\\n",
              "ID                                                        \n",
              "22913     270000  female            other  married   33   \n",
              "25509     120000  female  graduate school   single   26   \n",
              "23727     330000  female      high school  married   50   \n",
              "19800     150000  female      high school  married   40   \n",
              "78        300000  female  graduate school  married   45   \n",
              "...          ...     ...              ...      ...  ...   \n",
              "12493      20000  female      high school  married   33   \n",
              "9977      110000  female  graduate school   single   32   \n",
              "28138     230000  female      high school  married   36   \n",
              "7423       60000  female  graduate school   single   25   \n",
              "15245      80000  female       university  married   37   \n",
              "\n",
              "                         PAY_0                    PAY_2  \\\n",
              "ID                                                        \n",
              "22913           no consumption           no consumption   \n",
              "25509            1 month delay                 pay duly   \n",
              "23727                 pay duly                 pay duly   \n",
              "19800           no consumption           no consumption   \n",
              "78                    pay duly                 pay duly   \n",
              "...                        ...                      ...   \n",
              "12493  use of revolving credit  use of revolving credit   \n",
              "9977             1 month delay                 pay duly   \n",
              "28138            1 month delay            2 month delay   \n",
              "7423   use of revolving credit  use of revolving credit   \n",
              "15245                 pay duly  use of revolving credit   \n",
              "\n",
              "                         PAY_3                    PAY_4  \\\n",
              "ID                                                        \n",
              "22913           no consumption           no consumption   \n",
              "25509                 pay duly                 pay duly   \n",
              "23727           no consumption           no consumption   \n",
              "19800           no consumption           no consumption   \n",
              "78                    pay duly                 pay duly   \n",
              "...                        ...                      ...   \n",
              "12493  use of revolving credit  use of revolving credit   \n",
              "9977   use of revolving credit  use of revolving credit   \n",
              "28138  use of revolving credit  use of revolving credit   \n",
              "7423   use of revolving credit            2 month delay   \n",
              "15245  use of revolving credit            2 month delay   \n",
              "\n",
              "                         PAY_5                    PAY_6  BILL_AMT1  BILL_AMT2  \\\n",
              "ID                                                                              \n",
              "22913           no consumption           no consumption          0          0   \n",
              "25509                 pay duly           no consumption        -93        936   \n",
              "23727           no consumption                 pay duly       2064          0   \n",
              "19800           no consumption           no consumption          0          0   \n",
              "78                    pay duly                 pay duly        291        291   \n",
              "...                        ...                      ...        ...        ...   \n",
              "12493  use of revolving credit  use of revolving credit       2909       3537   \n",
              "9977   use of revolving credit           no consumption          0       1670   \n",
              "28138  use of revolving credit  use of revolving credit     232115     225086   \n",
              "7423             2 month delay            2 month delay      24066      24786   \n",
              "15245            2 month delay            2 month delay      28652      29869   \n",
              "\n",
              "       BILL_AMT3  BILL_AMT4  BILL_AMT5  BILL_AMT6  PAY_AMT1  PAY_AMT2  \\\n",
              "ID                                                                      \n",
              "22913       1205          0          0          0         0      1205   \n",
              "25509          0        680          0          0      1029         0   \n",
              "23727          0          0          0        324         0         0   \n",
              "19800          0          0          0       4095         0         0   \n",
              "78           291        291        291        291       291       291   \n",
              "...          ...        ...        ...        ...       ...       ...   \n",
              "12493       4120       3802       3484       3152      1224      1197   \n",
              "9977       11693       7903        -18        -18      1670     10200   \n",
              "28138     222286     222884     220876     221496        22      9005   \n",
              "7423       27050      26317      28200      28762      1414      2678   \n",
              "15245      33071      33531      34184      33503      2000      4000   \n",
              "\n",
              "       PAY_AMT3  PAY_AMT4  PAY_AMT5  PAY_AMT6  DEFAULT_NEXT_MONTH  \\\n",
              "ID                                                                  \n",
              "22913         0         0         0         0                   0   \n",
              "25509       680         0         0      1381                   0   \n",
              "23727         0         0       324         0                   0   \n",
              "19800         0         0      4095         0                   0   \n",
              "78          291       291       291       291                   0   \n",
              "...         ...       ...       ...       ...                 ...   \n",
              "12493       269       269       261       227                   0   \n",
              "9977          0         0         0         0                   0   \n",
              "28138      9037      7519      8018      8100                   0   \n",
              "7423          0      2310      1173         0                   0   \n",
              "15245      1300      1500         0      1300                   0   \n",
              "\n",
              "       DEFAULT_NEXT_MONTH_pred  d_DEFAULT_NEXT_MONTH  r_DEFAULT_NEXT_MONTH  \n",
              "ID                                                                          \n",
              "22913                 0.250383                     1              0.288193  \n",
              "25509                 0.250443                     1              0.288273  \n",
              "23727                 0.250507                     1              0.288359  \n",
              "19800                 0.250728                     1              0.288653  \n",
              "78                    0.250795                     1              0.288742  \n",
              "...                        ...                   ...                   ...  \n",
              "12493                 0.284864                     1              0.335283  \n",
              "9977                  0.285310                     1              0.335906  \n",
              "28138                 0.285368                     1              0.335987  \n",
              "7423                  0.285369                     1              0.335989  \n",
              "15245                 0.285488                     1              0.336156  \n",
              "\n",
              "[150 rows x 27 columns]"
            ]
          },
          "metadata": {
            "tags": []
          },
          "execution_count": 192
        }
      ]
    },
    {
      "cell_type": "markdown",
      "metadata": {
        "id": "-uUQi4xEt-Mn",
        "colab_type": "text"
      },
      "source": [
        "Examing the low-residual false positives, it can be seen that perhaps the F1-selected cutoff is a bit too conservative. Many women just above the cutoff have missed 0-2 payments, and only been late 1-2 months on the few payments they missed, if any. This potential bias problem can be remediated by increasing the cutoff in cell 14."
      ]
    },
    {
      "cell_type": "code",
      "metadata": {
        "id": "6fca4PV7uCBh",
        "colab_type": "code",
        "colab": {
          "base_uri": "https://localhost:8080/",
          "height": 52
        },
        "outputId": "f48f9300-19a8-489e-87a3-1fbff8cb7707"
      },
      "source": [
        "### What would be interesting is to see who is near the cutoff. \n",
        "top[\"SEX\"].value_counts()"
      ],
      "execution_count": 193,
      "outputs": [
        {
          "output_type": "execute_result",
          "data": {
            "text/plain": [
              "female    150\n",
              "Name: SEX, dtype: int64"
            ]
          },
          "metadata": {
            "tags": []
          },
          "execution_count": 193
        }
      ]
    },
    {
      "cell_type": "markdown",
      "metadata": {
        "id": "mJ0g5D_0uShf",
        "colab_type": "text"
      },
      "source": [
        "\n",
        "Conclusion\n",
        "\n",
        "This notebook outlines a basic approach to DIA (and over-generalizes that phrase). In a complex, real-world machine learning project the hard-to-define phenomenas of sociological bias and unfairness can materialize in many ways and from many different sources. Although far from a flawless technique, the beauty of DIA is it is straightforward to implement, functions in a model-agnostic fashion on known labels and model predictions, and is applied in complex real-world fair lending situations, so it can probably be applied to your model too!\n",
        "\n",
        "Why risk being called out in the media for training an unfair model? Or why not investigate the monetary opportunity costs of type I errors and potential losses from type II errors? Why not do the right thing and investigate how your model treats people?\n"
      ]
    },
    {
      "cell_type": "markdown",
      "metadata": {
        "id": "BokWJ9WO36oY",
        "colab_type": "text"
      },
      "source": [
        "\n",
        "## Use LIME to generate descriptions for a local region with a perturbed sample¶\n",
        "\n",
        "LIME was originally described in the context of explaining image or text classification decisions here: http://www.kdd.org/kdd2016/papers/files/rfp0573-ribeiroA.pdf. It can certainly also be applied to business or customer data, as will be done in the remaining sections of this notebook. Multiple Python implementations of LIME are available from the original authors of LIME, from the eli5 package, from the skater package, and probably others. However, this notebook uses a simple, step-by-step implementation of LIME for instructional purposes.\n",
        "\n",
        "A linear model cannot be built on a single observation, so LIME typically requires that a set of rows similar to the row of interest be simulated. This set of records are scored using the complex model to be explained. Then the records are weighted by their closeness to the record of interest, and a regularized linear model is trained on this weighted explanatory set. The parameters of the linear model and LIME-derived reason codes are then used to explain the prediction for the selected record. Because simulation of new points can seem abstract to some practicioners and simulation and distance calculations can be somewhat burdensome for creating explanations quickly in mission-critical applications, this notebook also presents a variation of LIME in which a more practical sample, instead of a perturbed, simulated sample, is used to create a local region in which to fit a linear model.\n",
        "Display the most risky customer\n",
        "\n",
        "In the Oriole notebook Increase Transparency and Accountability in Your Machine Learning Project with Python and H2O, row index 17757 was found to contain the riskiest customer in the test dataset according to the h2o GBM model. Sections 3-7 focus on deriving reason codes and other explanations for this customer's GBM prediction. The riskiest customer is selected first for analysis as an exercise in boundary testing.\n"
      ]
    },
    {
      "cell_type": "code",
      "metadata": {
        "id": "zu3Iqcxl4Lol",
        "colab_type": "code",
        "colab": {
          "base_uri": "https://localhost:8080/",
          "height": 135
        },
        "outputId": "863dcfd9-d79d-49c0-806f-1bbcdc651138"
      },
      "source": [
        "data[data[\"ID\"]==percentile_dict[99]]; row # helps understand reason codes"
      ],
      "execution_count": 197,
      "outputs": [
        {
          "output_type": "execute_result",
          "data": {
            "text/html": [
              "<div>\n",
              "<style scoped>\n",
              "    .dataframe tbody tr th:only-of-type {\n",
              "        vertical-align: middle;\n",
              "    }\n",
              "\n",
              "    .dataframe tbody tr th {\n",
              "        vertical-align: top;\n",
              "    }\n",
              "\n",
              "    .dataframe thead th {\n",
              "        text-align: right;\n",
              "    }\n",
              "</style>\n",
              "<table border=\"1\" class=\"dataframe\">\n",
              "  <thead>\n",
              "    <tr style=\"text-align: right;\">\n",
              "      <th></th>\n",
              "      <th>ID</th>\n",
              "      <th>LIMIT_BAL</th>\n",
              "      <th>SEX</th>\n",
              "      <th>EDUCATION</th>\n",
              "      <th>MARRIAGE</th>\n",
              "      <th>AGE</th>\n",
              "      <th>PAY_0</th>\n",
              "      <th>PAY_2</th>\n",
              "      <th>PAY_3</th>\n",
              "      <th>PAY_4</th>\n",
              "      <th>PAY_5</th>\n",
              "      <th>PAY_6</th>\n",
              "      <th>BILL_AMT1</th>\n",
              "      <th>BILL_AMT2</th>\n",
              "      <th>BILL_AMT3</th>\n",
              "      <th>BILL_AMT4</th>\n",
              "      <th>BILL_AMT5</th>\n",
              "      <th>BILL_AMT6</th>\n",
              "      <th>PAY_AMT1</th>\n",
              "      <th>PAY_AMT2</th>\n",
              "      <th>PAY_AMT3</th>\n",
              "      <th>PAY_AMT4</th>\n",
              "      <th>PAY_AMT5</th>\n",
              "      <th>PAY_AMT6</th>\n",
              "      <th>DEFAULT_NEXT_MONTH</th>\n",
              "    </tr>\n",
              "  </thead>\n",
              "  <tbody>\n",
              "    <tr>\n",
              "      <th>17756</th>\n",
              "      <td>17757</td>\n",
              "      <td>10000</td>\n",
              "      <td>female</td>\n",
              "      <td>high school</td>\n",
              "      <td>married</td>\n",
              "      <td>51</td>\n",
              "      <td>3 month delay</td>\n",
              "      <td>2 month delay</td>\n",
              "      <td>2 month delay</td>\n",
              "      <td>7 month delay</td>\n",
              "      <td>7 month delay</td>\n",
              "      <td>7 month delay</td>\n",
              "      <td>2400</td>\n",
              "      <td>2400</td>\n",
              "      <td>2400</td>\n",
              "      <td>2400</td>\n",
              "      <td>2400</td>\n",
              "      <td>2400</td>\n",
              "      <td>0</td>\n",
              "      <td>0</td>\n",
              "      <td>0</td>\n",
              "      <td>0</td>\n",
              "      <td>0</td>\n",
              "      <td>0</td>\n",
              "      <td>1</td>\n",
              "    </tr>\n",
              "  </tbody>\n",
              "</table>\n",
              "</div>"
            ],
            "text/plain": [
              "          ID  LIMIT_BAL     SEX    EDUCATION MARRIAGE  AGE          PAY_0  \\\n",
              "17756  17757      10000  female  high school  married   51  3 month delay   \n",
              "\n",
              "               PAY_2          PAY_3          PAY_4          PAY_5  \\\n",
              "17756  2 month delay  2 month delay  7 month delay  7 month delay   \n",
              "\n",
              "               PAY_6  BILL_AMT1  BILL_AMT2  BILL_AMT3  BILL_AMT4  BILL_AMT5  \\\n",
              "17756  7 month delay       2400       2400       2400       2400       2400   \n",
              "\n",
              "       BILL_AMT6  PAY_AMT1  PAY_AMT2  PAY_AMT3  PAY_AMT4  PAY_AMT5  PAY_AMT6  \\\n",
              "17756       2400         0         0         0         0         0         0   \n",
              "\n",
              "       DEFAULT_NEXT_MONTH  \n",
              "17756                   1  "
            ]
          },
          "metadata": {
            "tags": []
          },
          "execution_count": 197
        }
      ]
    },
    {
      "cell_type": "code",
      "metadata": {
        "id": "UPpHsPHqt9cV",
        "colab_type": "code",
        "colab": {
          "base_uri": "https://localhost:8080/",
          "height": 132
        },
        "outputId": "ba0b5f86-3a3d-4343-b0e4-f9da1e183fb9"
      },
      "source": [
        "row = test[test.index == percentile_dict[99]]; row"
      ],
      "execution_count": 198,
      "outputs": [
        {
          "output_type": "execute_result",
          "data": {
            "text/html": [
              "<div>\n",
              "<style scoped>\n",
              "    .dataframe tbody tr th:only-of-type {\n",
              "        vertical-align: middle;\n",
              "    }\n",
              "\n",
              "    .dataframe tbody tr th {\n",
              "        vertical-align: top;\n",
              "    }\n",
              "\n",
              "    .dataframe thead th {\n",
              "        text-align: right;\n",
              "    }\n",
              "</style>\n",
              "<table border=\"1\" class=\"dataframe\">\n",
              "  <thead>\n",
              "    <tr style=\"text-align: right;\">\n",
              "      <th></th>\n",
              "      <th>LIMIT_BAL</th>\n",
              "      <th>SEX</th>\n",
              "      <th>EDUCATION</th>\n",
              "      <th>MARRIAGE</th>\n",
              "      <th>AGE</th>\n",
              "      <th>PAY_0</th>\n",
              "      <th>PAY_2</th>\n",
              "      <th>PAY_3</th>\n",
              "      <th>PAY_4</th>\n",
              "      <th>PAY_5</th>\n",
              "      <th>PAY_6</th>\n",
              "      <th>BILL_AMT1</th>\n",
              "      <th>BILL_AMT2</th>\n",
              "      <th>BILL_AMT3</th>\n",
              "      <th>BILL_AMT4</th>\n",
              "      <th>BILL_AMT5</th>\n",
              "      <th>BILL_AMT6</th>\n",
              "      <th>PAY_AMT1</th>\n",
              "      <th>PAY_AMT2</th>\n",
              "      <th>PAY_AMT3</th>\n",
              "      <th>PAY_AMT4</th>\n",
              "      <th>PAY_AMT5</th>\n",
              "      <th>PAY_AMT6</th>\n",
              "      <th>DEFAULT_NEXT_MONTH</th>\n",
              "    </tr>\n",
              "    <tr>\n",
              "      <th>ID</th>\n",
              "      <th></th>\n",
              "      <th></th>\n",
              "      <th></th>\n",
              "      <th></th>\n",
              "      <th></th>\n",
              "      <th></th>\n",
              "      <th></th>\n",
              "      <th></th>\n",
              "      <th></th>\n",
              "      <th></th>\n",
              "      <th></th>\n",
              "      <th></th>\n",
              "      <th></th>\n",
              "      <th></th>\n",
              "      <th></th>\n",
              "      <th></th>\n",
              "      <th></th>\n",
              "      <th></th>\n",
              "      <th></th>\n",
              "      <th></th>\n",
              "      <th></th>\n",
              "      <th></th>\n",
              "      <th></th>\n",
              "      <th></th>\n",
              "    </tr>\n",
              "  </thead>\n",
              "  <tbody>\n",
              "    <tr>\n",
              "      <th>17757</th>\n",
              "      <td>10000</td>\n",
              "      <td>2</td>\n",
              "      <td>3</td>\n",
              "      <td>1</td>\n",
              "      <td>51</td>\n",
              "      <td>3</td>\n",
              "      <td>2</td>\n",
              "      <td>2</td>\n",
              "      <td>7</td>\n",
              "      <td>7</td>\n",
              "      <td>7</td>\n",
              "      <td>2400</td>\n",
              "      <td>2400</td>\n",
              "      <td>2400</td>\n",
              "      <td>2400</td>\n",
              "      <td>2400</td>\n",
              "      <td>2400</td>\n",
              "      <td>0</td>\n",
              "      <td>0</td>\n",
              "      <td>0</td>\n",
              "      <td>0</td>\n",
              "      <td>0</td>\n",
              "      <td>0</td>\n",
              "      <td>1</td>\n",
              "    </tr>\n",
              "  </tbody>\n",
              "</table>\n",
              "</div>"
            ],
            "text/plain": [
              "       LIMIT_BAL  SEX  EDUCATION  MARRIAGE  AGE  PAY_0  PAY_2  PAY_3  PAY_4  \\\n",
              "ID                                                                            \n",
              "17757      10000    2          3         1   51      3      2      2      7   \n",
              "\n",
              "       PAY_5  PAY_6  BILL_AMT1  BILL_AMT2  BILL_AMT3  BILL_AMT4  BILL_AMT5  \\\n",
              "ID                                                                           \n",
              "17757      7      7       2400       2400       2400       2400       2400   \n",
              "\n",
              "       BILL_AMT6  PAY_AMT1  PAY_AMT2  PAY_AMT3  PAY_AMT4  PAY_AMT5  PAY_AMT6  \\\n",
              "ID                                                                             \n",
              "17757       2400         0         0         0         0         0         0   \n",
              "\n",
              "       DEFAULT_NEXT_MONTH  \n",
              "ID                         \n",
              "17757                   1  "
            ]
          },
          "metadata": {
            "tags": []
          },
          "execution_count": 198
        }
      ]
    },
    {
      "cell_type": "markdown",
      "metadata": {
        "id": "FcW8-AaJ4q0V",
        "colab_type": "text"
      },
      "source": [
        "To use LIME, a sample of similar (i.e., near or local) points is simulated around the customer of interest. This simple function draws numeric values from normal distributions centered around the customer of interest and draws categorical values at random from the variable values in the test set."
      ]
    },
    {
      "cell_type": "code",
      "metadata": {
        "id": "X_C9ahHXtuXL",
        "colab_type": "code",
        "colab": {
          "base_uri": "https://localhost:8080/",
          "height": 163
        },
        "outputId": "28b72933-938f-4b67-9e3e-81e7cb9258d5"
      },
      "source": [
        "\n",
        "\n",
        "def generate_local_sample(row, frame, X, N=1000):\n",
        "    \n",
        "    \"\"\" Generates a perturbed sample around a row of interest.\n",
        "    \n",
        "    Args:\n",
        "        row: Row of H2OFrame to be explained.\n",
        "        frame: H2OFrame in which row is stored.\n",
        "        X: List of model input variables.\n",
        "        N: Number of samples to generate.\n",
        "    \n",
        "    Returns:\n",
        "        Pandas DataFrame containing perturbed sample.\n",
        "    \n",
        "    \"\"\"\n",
        "    \n",
        "    # initialize Pandas DataFrame\n",
        "    sample_frame = pd.DataFrame(data=np.zeros(shape=(N, len(X))), columns=X)\n",
        "    \n",
        "    # generate column vectors of \n",
        "    # randomly drawn levels for categorical variables\n",
        "    # normally distributed numeric values around mean of column for numeric variables\n",
        "\n",
        "    ## Identify if cactegorical \n",
        "\n",
        "    col = [c for c in test.columns if c not in ['ID',y]]\n",
        "    numclasses=[]\n",
        "    for c in col:\n",
        "        numclasses.append(len(np.unique(test[[c]])))\n",
        "\n",
        "    threshold=20\n",
        "    categorical_variables = list(np.array(col)[np.array(numclasses)<threshold])\n",
        "\n",
        "\n",
        "    for key, val in frame[X].items():\n",
        "        if key in categorical_variables: # 'enum' means categorical\n",
        "            rs = np.random.RandomState(11111) # random seed for reproducibility\n",
        "            draw = rs.choice(frame[key], size=(1, N))[0]\n",
        "        else:\n",
        "            rs = np.random.RandomState(11111) # random seed for reproducibility\n",
        "            loc = row[key]\n",
        "            sd = frame[key].std()\n",
        "            draw = rs.normal(loc, sd, (N, 1))\n",
        "            draw[draw < 0] = loc # prevents unrealistic values when std. dev. is large\n",
        "        \n",
        "        sample_frame[key] = draw\n",
        "        \n",
        "    return sample_frame\n",
        "\n",
        "import pandas as pd\n",
        "import numpy as np\n",
        "\n",
        "\n",
        "\n",
        "# run and display results\n",
        "perturbed_sample = generate_local_sample(row, test, X)\n",
        "perturbed_sample.head(n=3)\n",
        "\n"
      ],
      "execution_count": 214,
      "outputs": [
        {
          "output_type": "execute_result",
          "data": {
            "text/html": [
              "<div>\n",
              "<style scoped>\n",
              "    .dataframe tbody tr th:only-of-type {\n",
              "        vertical-align: middle;\n",
              "    }\n",
              "\n",
              "    .dataframe tbody tr th {\n",
              "        vertical-align: top;\n",
              "    }\n",
              "\n",
              "    .dataframe thead th {\n",
              "        text-align: right;\n",
              "    }\n",
              "</style>\n",
              "<table border=\"1\" class=\"dataframe\">\n",
              "  <thead>\n",
              "    <tr style=\"text-align: right;\">\n",
              "      <th></th>\n",
              "      <th>LIMIT_BAL</th>\n",
              "      <th>SEX</th>\n",
              "      <th>EDUCATION</th>\n",
              "      <th>MARRIAGE</th>\n",
              "      <th>AGE</th>\n",
              "      <th>PAY_0</th>\n",
              "      <th>PAY_2</th>\n",
              "      <th>PAY_3</th>\n",
              "      <th>PAY_4</th>\n",
              "      <th>PAY_5</th>\n",
              "      <th>PAY_6</th>\n",
              "      <th>BILL_AMT1</th>\n",
              "      <th>BILL_AMT2</th>\n",
              "      <th>BILL_AMT3</th>\n",
              "      <th>BILL_AMT4</th>\n",
              "      <th>BILL_AMT5</th>\n",
              "      <th>BILL_AMT6</th>\n",
              "      <th>PAY_AMT1</th>\n",
              "      <th>PAY_AMT2</th>\n",
              "      <th>PAY_AMT3</th>\n",
              "      <th>PAY_AMT4</th>\n",
              "      <th>PAY_AMT5</th>\n",
              "      <th>PAY_AMT6</th>\n",
              "    </tr>\n",
              "  </thead>\n",
              "  <tbody>\n",
              "    <tr>\n",
              "      <th>0</th>\n",
              "      <td>10000.000000</td>\n",
              "      <td>1</td>\n",
              "      <td>2</td>\n",
              "      <td>2</td>\n",
              "      <td>50.286227</td>\n",
              "      <td>0</td>\n",
              "      <td>0</td>\n",
              "      <td>0</td>\n",
              "      <td>0</td>\n",
              "      <td>0</td>\n",
              "      <td>0</td>\n",
              "      <td>2400.000000</td>\n",
              "      <td>2400.000000</td>\n",
              "      <td>2400.000000</td>\n",
              "      <td>2400.000000</td>\n",
              "      <td>2400.00000</td>\n",
              "      <td>2400.000000</td>\n",
              "      <td>0.00000</td>\n",
              "      <td>0.000000</td>\n",
              "      <td>0.000000</td>\n",
              "      <td>0.000000</td>\n",
              "      <td>0.00000</td>\n",
              "      <td>0.000000</td>\n",
              "    </tr>\n",
              "    <tr>\n",
              "      <th>1</th>\n",
              "      <td>170916.102425</td>\n",
              "      <td>1</td>\n",
              "      <td>1</td>\n",
              "      <td>2</td>\n",
              "      <td>62.481311</td>\n",
              "      <td>0</td>\n",
              "      <td>0</td>\n",
              "      <td>0</td>\n",
              "      <td>0</td>\n",
              "      <td>0</td>\n",
              "      <td>0</td>\n",
              "      <td>93999.787954</td>\n",
              "      <td>90996.146558</td>\n",
              "      <td>88717.148737</td>\n",
              "      <td>84301.444812</td>\n",
              "      <td>79344.62605</td>\n",
              "      <td>77404.480639</td>\n",
              "      <td>22356.60211</td>\n",
              "      <td>27903.148259</td>\n",
              "      <td>25114.462336</td>\n",
              "      <td>21240.470355</td>\n",
              "      <td>17525.05925</td>\n",
              "      <td>22897.554407</td>\n",
              "    </tr>\n",
              "    <tr>\n",
              "      <th>2</th>\n",
              "      <td>10000.000000</td>\n",
              "      <td>1</td>\n",
              "      <td>1</td>\n",
              "      <td>1</td>\n",
              "      <td>35.255954</td>\n",
              "      <td>-1</td>\n",
              "      <td>-1</td>\n",
              "      <td>-1</td>\n",
              "      <td>-1</td>\n",
              "      <td>-1</td>\n",
              "      <td>-1</td>\n",
              "      <td>2400.000000</td>\n",
              "      <td>2400.000000</td>\n",
              "      <td>2400.000000</td>\n",
              "      <td>2400.000000</td>\n",
              "      <td>2400.00000</td>\n",
              "      <td>2400.000000</td>\n",
              "      <td>0.00000</td>\n",
              "      <td>0.000000</td>\n",
              "      <td>0.000000</td>\n",
              "      <td>0.000000</td>\n",
              "      <td>0.00000</td>\n",
              "      <td>0.000000</td>\n",
              "    </tr>\n",
              "  </tbody>\n",
              "</table>\n",
              "</div>"
            ],
            "text/plain": [
              "       LIMIT_BAL  SEX  EDUCATION  MARRIAGE        AGE  PAY_0  PAY_2  PAY_3  \\\n",
              "0   10000.000000    1          2         2  50.286227      0      0      0   \n",
              "1  170916.102425    1          1         2  62.481311      0      0      0   \n",
              "2   10000.000000    1          1         1  35.255954     -1     -1     -1   \n",
              "\n",
              "   PAY_4  PAY_5  PAY_6     BILL_AMT1     BILL_AMT2     BILL_AMT3  \\\n",
              "0      0      0      0   2400.000000   2400.000000   2400.000000   \n",
              "1      0      0      0  93999.787954  90996.146558  88717.148737   \n",
              "2     -1     -1     -1   2400.000000   2400.000000   2400.000000   \n",
              "\n",
              "      BILL_AMT4    BILL_AMT5     BILL_AMT6     PAY_AMT1      PAY_AMT2  \\\n",
              "0   2400.000000   2400.00000   2400.000000      0.00000      0.000000   \n",
              "1  84301.444812  79344.62605  77404.480639  22356.60211  27903.148259   \n",
              "2   2400.000000   2400.00000   2400.000000      0.00000      0.000000   \n",
              "\n",
              "       PAY_AMT3      PAY_AMT4     PAY_AMT5      PAY_AMT6  \n",
              "0      0.000000      0.000000      0.00000      0.000000  \n",
              "1  25114.462336  21240.470355  17525.05925  22897.554407  \n",
              "2      0.000000      0.000000      0.00000      0.000000  "
            ]
          },
          "metadata": {
            "tags": []
          },
          "execution_count": 214
        }
      ]
    },
    {
      "cell_type": "markdown",
      "metadata": {
        "id": "62U1MdQT7ZLX",
        "colab_type": "text"
      },
      "source": [
        "\n",
        "**Calculate distance between row of interest and perturbed sample**\n",
        "\n",
        "Once the sample is simulated, then distances from the point of interest are used to weigh each point before fitting a penalized regression model. Since Euclidean distance calculations require numeric quanitites, categorical input variables are one-hot encoded. (Pandas has convenient functionality for one-hot encoding, and the H2OFrames are temporarily casted back to Pandas DataFrames to perform the encoding.) To prevent the disparate scales of numeric values, such as AGE and LIMIT_BAL, from skewing Euclidean distances, numeric input variables are standardized.\n",
        "\n",
        "First, the row containing the riskiest customer is encoded and standardized.\n"
      ]
    },
    {
      "cell_type": "code",
      "metadata": {
        "id": "R6ROndwh7Xtu",
        "colab_type": "code",
        "colab": {
          "base_uri": "https://localhost:8080/",
          "height": 132
        },
        "outputId": "654f2df7-953a-4d98-b59c-75d94ea2a7bc"
      },
      "source": [
        "\n",
        "\n",
        "# scaling and one-hot encoding for calculating Euclidian distance\n",
        "# for the row of interest\n",
        "\n",
        "# scale numeric\n",
        "numeric = list(set(X) - set(['SEX', 'EDUCATION', 'MARRIAGE', 'PAY_0', 'PAY_2',\n",
        "                             'PAY_3', 'PAY_4', 'PAY_5', 'PAY_6', 'DEFAULT_NEXT_MONTH']))\n",
        "\n",
        "scaled_test = test\n",
        "scaled_test[numeric] = (scaled_test[numeric] - scaled_test[numeric].mean())/scaled_test[numeric].std()\n",
        "    \n",
        "# encode categorical\n",
        "row_df = scaled_test[scaled_test.index == percentile_dict[99]]\n",
        "row_dummies = pd.concat([row_df.drop(['SEX', 'EDUCATION', 'MARRIAGE', 'PAY_0', 'PAY_2',\n",
        "                                      'PAY_3', 'PAY_4', 'PAY_5', 'PAY_6', 'DEFAULT_NEXT_MONTH'], axis=1),\n",
        "                        pd.get_dummies(row_df[['SEX', 'EDUCATION', 'MARRIAGE', 'PAY_0',\n",
        "                                               'PAY_2', 'PAY_3', 'PAY_4', 'PAY_5', 'PAY_6']])], \n",
        "                        axis=1)\n",
        "row_dummies"
      ],
      "execution_count": 217,
      "outputs": [
        {
          "output_type": "execute_result",
          "data": {
            "text/html": [
              "<div>\n",
              "<style scoped>\n",
              "    .dataframe tbody tr th:only-of-type {\n",
              "        vertical-align: middle;\n",
              "    }\n",
              "\n",
              "    .dataframe tbody tr th {\n",
              "        vertical-align: top;\n",
              "    }\n",
              "\n",
              "    .dataframe thead th {\n",
              "        text-align: right;\n",
              "    }\n",
              "</style>\n",
              "<table border=\"1\" class=\"dataframe\">\n",
              "  <thead>\n",
              "    <tr style=\"text-align: right;\">\n",
              "      <th></th>\n",
              "      <th>LIMIT_BAL</th>\n",
              "      <th>AGE</th>\n",
              "      <th>BILL_AMT1</th>\n",
              "      <th>BILL_AMT2</th>\n",
              "      <th>BILL_AMT3</th>\n",
              "      <th>BILL_AMT4</th>\n",
              "      <th>BILL_AMT5</th>\n",
              "      <th>BILL_AMT6</th>\n",
              "      <th>PAY_AMT1</th>\n",
              "      <th>PAY_AMT2</th>\n",
              "      <th>PAY_AMT3</th>\n",
              "      <th>PAY_AMT4</th>\n",
              "      <th>PAY_AMT5</th>\n",
              "      <th>PAY_AMT6</th>\n",
              "      <th>SEX</th>\n",
              "      <th>EDUCATION</th>\n",
              "      <th>MARRIAGE</th>\n",
              "      <th>PAY_0</th>\n",
              "      <th>PAY_2</th>\n",
              "      <th>PAY_3</th>\n",
              "      <th>PAY_4</th>\n",
              "      <th>PAY_5</th>\n",
              "      <th>PAY_6</th>\n",
              "    </tr>\n",
              "    <tr>\n",
              "      <th>ID</th>\n",
              "      <th></th>\n",
              "      <th></th>\n",
              "      <th></th>\n",
              "      <th></th>\n",
              "      <th></th>\n",
              "      <th></th>\n",
              "      <th></th>\n",
              "      <th></th>\n",
              "      <th></th>\n",
              "      <th></th>\n",
              "      <th></th>\n",
              "      <th></th>\n",
              "      <th></th>\n",
              "      <th></th>\n",
              "      <th></th>\n",
              "      <th></th>\n",
              "      <th></th>\n",
              "      <th></th>\n",
              "      <th></th>\n",
              "      <th></th>\n",
              "      <th></th>\n",
              "      <th></th>\n",
              "      <th></th>\n",
              "    </tr>\n",
              "  </thead>\n",
              "  <tbody>\n",
              "    <tr>\n",
              "      <th>17757</th>\n",
              "      <td>-1.224059</td>\n",
              "      <td>1.671155</td>\n",
              "      <td>-0.664104</td>\n",
              "      <td>-0.658182</td>\n",
              "      <td>-0.647295</td>\n",
              "      <td>-0.630323</td>\n",
              "      <td>-0.625894</td>\n",
              "      <td>-0.616535</td>\n",
              "      <td>-0.318197</td>\n",
              "      <td>-0.264596</td>\n",
              "      <td>-0.266669</td>\n",
              "      <td>-0.291939</td>\n",
              "      <td>-0.339972</td>\n",
              "      <td>-0.283766</td>\n",
              "      <td>2</td>\n",
              "      <td>3</td>\n",
              "      <td>1</td>\n",
              "      <td>3</td>\n",
              "      <td>2</td>\n",
              "      <td>2</td>\n",
              "      <td>7</td>\n",
              "      <td>7</td>\n",
              "      <td>7</td>\n",
              "    </tr>\n",
              "  </tbody>\n",
              "</table>\n",
              "</div>"
            ],
            "text/plain": [
              "       LIMIT_BAL       AGE  BILL_AMT1  BILL_AMT2  BILL_AMT3  BILL_AMT4  \\\n",
              "ID                                                                       \n",
              "17757  -1.224059  1.671155  -0.664104  -0.658182  -0.647295  -0.630323   \n",
              "\n",
              "       BILL_AMT5  BILL_AMT6  PAY_AMT1  PAY_AMT2  PAY_AMT3  PAY_AMT4  PAY_AMT5  \\\n",
              "ID                                                                              \n",
              "17757  -0.625894  -0.616535 -0.318197 -0.264596 -0.266669 -0.291939 -0.339972   \n",
              "\n",
              "       PAY_AMT6  SEX  EDUCATION  MARRIAGE  PAY_0  PAY_2  PAY_3  PAY_4  PAY_5  \\\n",
              "ID                                                                             \n",
              "17757 -0.283766    2          3         1      3      2      2      7      7   \n",
              "\n",
              "       PAY_6  \n",
              "ID            \n",
              "17757      7  "
            ]
          },
          "metadata": {
            "tags": []
          },
          "execution_count": 217
        }
      ]
    },
    {
      "cell_type": "markdown",
      "metadata": {
        "id": "R5OVY7IL8Ls6",
        "colab_type": "text"
      },
      "source": [
        "Then the simulated sample is encoded and standardized."
      ]
    },
    {
      "cell_type": "code",
      "metadata": {
        "id": "-l6mWWO856bS",
        "colab_type": "code",
        "colab": {
          "base_uri": "https://localhost:8080/",
          "height": 163
        },
        "outputId": "095e85cf-a6ac-4a70-f7d6-4413c43ddcc5"
      },
      "source": [
        "\n",
        "\n",
        "# scaling and one-hot encoding for calculating Euclidian distance \n",
        "# for the simulated sample\n",
        "\n",
        "# scale\n",
        "scaled_perturbed_sample = perturbed_sample[numeric].copy(deep=True)\n",
        "scaled_perturbed_sample = (scaled_perturbed_sample - scaled_perturbed_sample.mean())/scaled_perturbed_sample.std()\n",
        "\n",
        "# encode\n",
        "perturbed_sample_dummies = pd.concat([scaled_perturbed_sample,\n",
        "                                      pd.get_dummies(perturbed_sample[['SEX', 'EDUCATION', 'MARRIAGE', 'PAY_0',\n",
        "                                                                       'PAY_2', 'PAY_3', 'PAY_4', 'PAY_5', 'PAY_6']])],\n",
        "                                     axis=1)\n",
        "\n",
        "# convert to H2OFrame\n",
        "perturbed_sample_dummies = perturbed_sample_dummies[row_dummies.columns]\n",
        "perturbed_sample_dummies.head(3)\n",
        "\n"
      ],
      "execution_count": 219,
      "outputs": [
        {
          "output_type": "execute_result",
          "data": {
            "text/html": [
              "<div>\n",
              "<style scoped>\n",
              "    .dataframe tbody tr th:only-of-type {\n",
              "        vertical-align: middle;\n",
              "    }\n",
              "\n",
              "    .dataframe tbody tr th {\n",
              "        vertical-align: top;\n",
              "    }\n",
              "\n",
              "    .dataframe thead th {\n",
              "        text-align: right;\n",
              "    }\n",
              "</style>\n",
              "<table border=\"1\" class=\"dataframe\">\n",
              "  <thead>\n",
              "    <tr style=\"text-align: right;\">\n",
              "      <th></th>\n",
              "      <th>LIMIT_BAL</th>\n",
              "      <th>AGE</th>\n",
              "      <th>BILL_AMT1</th>\n",
              "      <th>BILL_AMT2</th>\n",
              "      <th>BILL_AMT3</th>\n",
              "      <th>BILL_AMT4</th>\n",
              "      <th>BILL_AMT5</th>\n",
              "      <th>BILL_AMT6</th>\n",
              "      <th>PAY_AMT1</th>\n",
              "      <th>PAY_AMT2</th>\n",
              "      <th>PAY_AMT3</th>\n",
              "      <th>PAY_AMT4</th>\n",
              "      <th>PAY_AMT5</th>\n",
              "      <th>PAY_AMT6</th>\n",
              "      <th>SEX</th>\n",
              "      <th>EDUCATION</th>\n",
              "      <th>MARRIAGE</th>\n",
              "      <th>PAY_0</th>\n",
              "      <th>PAY_2</th>\n",
              "      <th>PAY_3</th>\n",
              "      <th>PAY_4</th>\n",
              "      <th>PAY_5</th>\n",
              "      <th>PAY_6</th>\n",
              "    </tr>\n",
              "  </thead>\n",
              "  <tbody>\n",
              "    <tr>\n",
              "      <th>0</th>\n",
              "      <td>-0.721277</td>\n",
              "      <td>-0.095570</td>\n",
              "      <td>-0.723009</td>\n",
              "      <td>-0.722922</td>\n",
              "      <td>-0.722922</td>\n",
              "      <td>-0.722730</td>\n",
              "      <td>-0.722730</td>\n",
              "      <td>-0.722730</td>\n",
              "      <td>-0.723503</td>\n",
              "      <td>-0.723503</td>\n",
              "      <td>-0.723503</td>\n",
              "      <td>-0.723503</td>\n",
              "      <td>-0.723503</td>\n",
              "      <td>-0.723503</td>\n",
              "      <td>1</td>\n",
              "      <td>2</td>\n",
              "      <td>2</td>\n",
              "      <td>0</td>\n",
              "      <td>0</td>\n",
              "      <td>0</td>\n",
              "      <td>0</td>\n",
              "      <td>0</td>\n",
              "      <td>0</td>\n",
              "    </tr>\n",
              "    <tr>\n",
              "      <th>1</th>\n",
              "      <td>1.419861</td>\n",
              "      <td>1.201095</td>\n",
              "      <td>1.419969</td>\n",
              "      <td>1.419965</td>\n",
              "      <td>1.419965</td>\n",
              "      <td>1.419956</td>\n",
              "      <td>1.419956</td>\n",
              "      <td>1.419956</td>\n",
              "      <td>1.419987</td>\n",
              "      <td>1.419987</td>\n",
              "      <td>1.419987</td>\n",
              "      <td>1.419987</td>\n",
              "      <td>1.419987</td>\n",
              "      <td>1.419987</td>\n",
              "      <td>1</td>\n",
              "      <td>1</td>\n",
              "      <td>2</td>\n",
              "      <td>0</td>\n",
              "      <td>0</td>\n",
              "      <td>0</td>\n",
              "      <td>0</td>\n",
              "      <td>0</td>\n",
              "      <td>0</td>\n",
              "    </tr>\n",
              "    <tr>\n",
              "      <th>2</th>\n",
              "      <td>-0.721277</td>\n",
              "      <td>-1.693692</td>\n",
              "      <td>-0.723009</td>\n",
              "      <td>-0.722922</td>\n",
              "      <td>-0.722922</td>\n",
              "      <td>-0.722730</td>\n",
              "      <td>-0.722730</td>\n",
              "      <td>-0.722730</td>\n",
              "      <td>-0.723503</td>\n",
              "      <td>-0.723503</td>\n",
              "      <td>-0.723503</td>\n",
              "      <td>-0.723503</td>\n",
              "      <td>-0.723503</td>\n",
              "      <td>-0.723503</td>\n",
              "      <td>1</td>\n",
              "      <td>1</td>\n",
              "      <td>1</td>\n",
              "      <td>-1</td>\n",
              "      <td>-1</td>\n",
              "      <td>-1</td>\n",
              "      <td>-1</td>\n",
              "      <td>-1</td>\n",
              "      <td>-1</td>\n",
              "    </tr>\n",
              "  </tbody>\n",
              "</table>\n",
              "</div>"
            ],
            "text/plain": [
              "   LIMIT_BAL       AGE  BILL_AMT1  BILL_AMT2  BILL_AMT3  BILL_AMT4  BILL_AMT5  \\\n",
              "0  -0.721277 -0.095570  -0.723009  -0.722922  -0.722922  -0.722730  -0.722730   \n",
              "1   1.419861  1.201095   1.419969   1.419965   1.419965   1.419956   1.419956   \n",
              "2  -0.721277 -1.693692  -0.723009  -0.722922  -0.722922  -0.722730  -0.722730   \n",
              "\n",
              "   BILL_AMT6  PAY_AMT1  PAY_AMT2  PAY_AMT3  PAY_AMT4  PAY_AMT5  PAY_AMT6  SEX  \\\n",
              "0  -0.722730 -0.723503 -0.723503 -0.723503 -0.723503 -0.723503 -0.723503    1   \n",
              "1   1.419956  1.419987  1.419987  1.419987  1.419987  1.419987  1.419987    1   \n",
              "2  -0.722730 -0.723503 -0.723503 -0.723503 -0.723503 -0.723503 -0.723503    1   \n",
              "\n",
              "   EDUCATION  MARRIAGE  PAY_0  PAY_2  PAY_3  PAY_4  PAY_5  PAY_6  \n",
              "0          2         2      0      0      0      0      0      0  \n",
              "1          1         2      0      0      0      0      0      0  \n",
              "2          1         1     -1     -1     -1     -1     -1     -1  "
            ]
          },
          "metadata": {
            "tags": []
          },
          "execution_count": 219
        }
      ]
    },
    {
      "cell_type": "code",
      "metadata": {
        "id": "QLE1ruX3DAYA",
        "colab_type": "code",
        "colab": {
          "base_uri": "https://localhost:8080/",
          "height": 34
        },
        "outputId": "f6a7d2b5-f6ff-41a7-c275-abc631806941"
      },
      "source": [
        "from sklearn.metrics import pairwise_distances\n",
        "\n",
        "pairwise_distances(perturbed_sample_dummies, metric='l2').mean()"
      ],
      "execution_count": 229,
      "outputs": [
        {
          "output_type": "execute_result",
          "data": {
            "text/plain": [
              "6.040555593386392"
            ]
          },
          "metadata": {
            "tags": []
          },
          "execution_count": 229
        }
      ]
    },
    {
      "cell_type": "code",
      "metadata": {
        "id": "vpVwxwn7DFNj",
        "colab_type": "code",
        "colab": {
          "base_uri": "https://localhost:8080/",
          "height": 444
        },
        "outputId": "831d8386-a480-46c2-e206-a9f563ffc2b4"
      },
      "source": [
        "perturbed_sample_dummies"
      ],
      "execution_count": 221,
      "outputs": [
        {
          "output_type": "execute_result",
          "data": {
            "text/html": [
              "<div>\n",
              "<style scoped>\n",
              "    .dataframe tbody tr th:only-of-type {\n",
              "        vertical-align: middle;\n",
              "    }\n",
              "\n",
              "    .dataframe tbody tr th {\n",
              "        vertical-align: top;\n",
              "    }\n",
              "\n",
              "    .dataframe thead th {\n",
              "        text-align: right;\n",
              "    }\n",
              "</style>\n",
              "<table border=\"1\" class=\"dataframe\">\n",
              "  <thead>\n",
              "    <tr style=\"text-align: right;\">\n",
              "      <th></th>\n",
              "      <th>LIMIT_BAL</th>\n",
              "      <th>AGE</th>\n",
              "      <th>BILL_AMT1</th>\n",
              "      <th>BILL_AMT2</th>\n",
              "      <th>BILL_AMT3</th>\n",
              "      <th>BILL_AMT4</th>\n",
              "      <th>BILL_AMT5</th>\n",
              "      <th>BILL_AMT6</th>\n",
              "      <th>PAY_AMT1</th>\n",
              "      <th>PAY_AMT2</th>\n",
              "      <th>PAY_AMT3</th>\n",
              "      <th>PAY_AMT4</th>\n",
              "      <th>PAY_AMT5</th>\n",
              "      <th>PAY_AMT6</th>\n",
              "      <th>SEX</th>\n",
              "      <th>EDUCATION</th>\n",
              "      <th>MARRIAGE</th>\n",
              "      <th>PAY_0</th>\n",
              "      <th>PAY_2</th>\n",
              "      <th>PAY_3</th>\n",
              "      <th>PAY_4</th>\n",
              "      <th>PAY_5</th>\n",
              "      <th>PAY_6</th>\n",
              "    </tr>\n",
              "  </thead>\n",
              "  <tbody>\n",
              "    <tr>\n",
              "      <th>0</th>\n",
              "      <td>-0.721277</td>\n",
              "      <td>-0.095570</td>\n",
              "      <td>-0.723009</td>\n",
              "      <td>-0.722922</td>\n",
              "      <td>-0.722922</td>\n",
              "      <td>-0.722730</td>\n",
              "      <td>-0.722730</td>\n",
              "      <td>-0.722730</td>\n",
              "      <td>-0.723503</td>\n",
              "      <td>-0.723503</td>\n",
              "      <td>-0.723503</td>\n",
              "      <td>-0.723503</td>\n",
              "      <td>-0.723503</td>\n",
              "      <td>-0.723503</td>\n",
              "      <td>1</td>\n",
              "      <td>2</td>\n",
              "      <td>2</td>\n",
              "      <td>0</td>\n",
              "      <td>0</td>\n",
              "      <td>0</td>\n",
              "      <td>0</td>\n",
              "      <td>0</td>\n",
              "      <td>0</td>\n",
              "    </tr>\n",
              "    <tr>\n",
              "      <th>1</th>\n",
              "      <td>1.419861</td>\n",
              "      <td>1.201095</td>\n",
              "      <td>1.419969</td>\n",
              "      <td>1.419965</td>\n",
              "      <td>1.419965</td>\n",
              "      <td>1.419956</td>\n",
              "      <td>1.419956</td>\n",
              "      <td>1.419956</td>\n",
              "      <td>1.419987</td>\n",
              "      <td>1.419987</td>\n",
              "      <td>1.419987</td>\n",
              "      <td>1.419987</td>\n",
              "      <td>1.419987</td>\n",
              "      <td>1.419987</td>\n",
              "      <td>1</td>\n",
              "      <td>1</td>\n",
              "      <td>2</td>\n",
              "      <td>0</td>\n",
              "      <td>0</td>\n",
              "      <td>0</td>\n",
              "      <td>0</td>\n",
              "      <td>0</td>\n",
              "      <td>0</td>\n",
              "    </tr>\n",
              "    <tr>\n",
              "      <th>2</th>\n",
              "      <td>-0.721277</td>\n",
              "      <td>-1.693692</td>\n",
              "      <td>-0.723009</td>\n",
              "      <td>-0.722922</td>\n",
              "      <td>-0.722922</td>\n",
              "      <td>-0.722730</td>\n",
              "      <td>-0.722730</td>\n",
              "      <td>-0.722730</td>\n",
              "      <td>-0.723503</td>\n",
              "      <td>-0.723503</td>\n",
              "      <td>-0.723503</td>\n",
              "      <td>-0.723503</td>\n",
              "      <td>-0.723503</td>\n",
              "      <td>-0.723503</td>\n",
              "      <td>1</td>\n",
              "      <td>1</td>\n",
              "      <td>1</td>\n",
              "      <td>-1</td>\n",
              "      <td>-1</td>\n",
              "      <td>-1</td>\n",
              "      <td>-1</td>\n",
              "      <td>-1</td>\n",
              "      <td>-1</td>\n",
              "    </tr>\n",
              "    <tr>\n",
              "      <th>3</th>\n",
              "      <td>-0.721277</td>\n",
              "      <td>-1.586946</td>\n",
              "      <td>-0.723009</td>\n",
              "      <td>-0.722922</td>\n",
              "      <td>-0.722922</td>\n",
              "      <td>-0.722730</td>\n",
              "      <td>-0.722730</td>\n",
              "      <td>-0.722730</td>\n",
              "      <td>-0.723503</td>\n",
              "      <td>-0.723503</td>\n",
              "      <td>-0.723503</td>\n",
              "      <td>-0.723503</td>\n",
              "      <td>-0.723503</td>\n",
              "      <td>-0.723503</td>\n",
              "      <td>2</td>\n",
              "      <td>3</td>\n",
              "      <td>2</td>\n",
              "      <td>0</td>\n",
              "      <td>0</td>\n",
              "      <td>0</td>\n",
              "      <td>0</td>\n",
              "      <td>0</td>\n",
              "      <td>0</td>\n",
              "    </tr>\n",
              "    <tr>\n",
              "      <th>4</th>\n",
              "      <td>-0.721277</td>\n",
              "      <td>-2.983657</td>\n",
              "      <td>-0.723009</td>\n",
              "      <td>-0.722922</td>\n",
              "      <td>-0.722922</td>\n",
              "      <td>-0.722730</td>\n",
              "      <td>-0.722730</td>\n",
              "      <td>-0.722730</td>\n",
              "      <td>-0.723503</td>\n",
              "      <td>-0.723503</td>\n",
              "      <td>-0.723503</td>\n",
              "      <td>-0.723503</td>\n",
              "      <td>-0.723503</td>\n",
              "      <td>-0.723503</td>\n",
              "      <td>2</td>\n",
              "      <td>1</td>\n",
              "      <td>2</td>\n",
              "      <td>0</td>\n",
              "      <td>0</td>\n",
              "      <td>0</td>\n",
              "      <td>0</td>\n",
              "      <td>0</td>\n",
              "      <td>0</td>\n",
              "    </tr>\n",
              "    <tr>\n",
              "      <th>...</th>\n",
              "      <td>...</td>\n",
              "      <td>...</td>\n",
              "      <td>...</td>\n",
              "      <td>...</td>\n",
              "      <td>...</td>\n",
              "      <td>...</td>\n",
              "      <td>...</td>\n",
              "      <td>...</td>\n",
              "      <td>...</td>\n",
              "      <td>...</td>\n",
              "      <td>...</td>\n",
              "      <td>...</td>\n",
              "      <td>...</td>\n",
              "      <td>...</td>\n",
              "      <td>...</td>\n",
              "      <td>...</td>\n",
              "      <td>...</td>\n",
              "      <td>...</td>\n",
              "      <td>...</td>\n",
              "      <td>...</td>\n",
              "      <td>...</td>\n",
              "      <td>...</td>\n",
              "      <td>...</td>\n",
              "    </tr>\n",
              "    <tr>\n",
              "      <th>995</th>\n",
              "      <td>0.159088</td>\n",
              "      <td>0.482265</td>\n",
              "      <td>0.158113</td>\n",
              "      <td>0.158163</td>\n",
              "      <td>0.158163</td>\n",
              "      <td>0.158272</td>\n",
              "      <td>0.158272</td>\n",
              "      <td>0.158272</td>\n",
              "      <td>0.157830</td>\n",
              "      <td>0.157830</td>\n",
              "      <td>0.157830</td>\n",
              "      <td>0.157830</td>\n",
              "      <td>0.157830</td>\n",
              "      <td>0.157830</td>\n",
              "      <td>1</td>\n",
              "      <td>2</td>\n",
              "      <td>1</td>\n",
              "      <td>0</td>\n",
              "      <td>0</td>\n",
              "      <td>0</td>\n",
              "      <td>0</td>\n",
              "      <td>0</td>\n",
              "      <td>0</td>\n",
              "    </tr>\n",
              "    <tr>\n",
              "      <th>996</th>\n",
              "      <td>-0.721277</td>\n",
              "      <td>-0.112249</td>\n",
              "      <td>-0.723009</td>\n",
              "      <td>-0.722922</td>\n",
              "      <td>-0.722922</td>\n",
              "      <td>-0.722730</td>\n",
              "      <td>-0.722730</td>\n",
              "      <td>-0.722730</td>\n",
              "      <td>-0.723503</td>\n",
              "      <td>-0.723503</td>\n",
              "      <td>-0.723503</td>\n",
              "      <td>-0.723503</td>\n",
              "      <td>-0.723503</td>\n",
              "      <td>-0.723503</td>\n",
              "      <td>2</td>\n",
              "      <td>2</td>\n",
              "      <td>1</td>\n",
              "      <td>0</td>\n",
              "      <td>0</td>\n",
              "      <td>0</td>\n",
              "      <td>0</td>\n",
              "      <td>0</td>\n",
              "      <td>0</td>\n",
              "    </tr>\n",
              "    <tr>\n",
              "      <th>997</th>\n",
              "      <td>1.780675</td>\n",
              "      <td>1.406814</td>\n",
              "      <td>1.781093</td>\n",
              "      <td>1.781074</td>\n",
              "      <td>1.781074</td>\n",
              "      <td>1.781031</td>\n",
              "      <td>1.781031</td>\n",
              "      <td>1.781031</td>\n",
              "      <td>1.781198</td>\n",
              "      <td>1.781198</td>\n",
              "      <td>1.781198</td>\n",
              "      <td>1.781198</td>\n",
              "      <td>1.781198</td>\n",
              "      <td>1.781198</td>\n",
              "      <td>1</td>\n",
              "      <td>2</td>\n",
              "      <td>1</td>\n",
              "      <td>2</td>\n",
              "      <td>2</td>\n",
              "      <td>2</td>\n",
              "      <td>2</td>\n",
              "      <td>2</td>\n",
              "      <td>2</td>\n",
              "    </tr>\n",
              "    <tr>\n",
              "      <th>998</th>\n",
              "      <td>0.725188</td>\n",
              "      <td>0.805027</td>\n",
              "      <td>0.724699</td>\n",
              "      <td>0.724725</td>\n",
              "      <td>0.724725</td>\n",
              "      <td>0.724781</td>\n",
              "      <td>0.724781</td>\n",
              "      <td>0.724781</td>\n",
              "      <td>0.724552</td>\n",
              "      <td>0.724552</td>\n",
              "      <td>0.724552</td>\n",
              "      <td>0.724552</td>\n",
              "      <td>0.724552</td>\n",
              "      <td>0.724552</td>\n",
              "      <td>2</td>\n",
              "      <td>1</td>\n",
              "      <td>1</td>\n",
              "      <td>0</td>\n",
              "      <td>0</td>\n",
              "      <td>0</td>\n",
              "      <td>0</td>\n",
              "      <td>-1</td>\n",
              "      <td>0</td>\n",
              "    </tr>\n",
              "    <tr>\n",
              "      <th>999</th>\n",
              "      <td>1.671632</td>\n",
              "      <td>1.344643</td>\n",
              "      <td>1.671956</td>\n",
              "      <td>1.671942</td>\n",
              "      <td>1.671942</td>\n",
              "      <td>1.671909</td>\n",
              "      <td>1.671909</td>\n",
              "      <td>1.671909</td>\n",
              "      <td>1.672035</td>\n",
              "      <td>1.672035</td>\n",
              "      <td>1.672035</td>\n",
              "      <td>1.672035</td>\n",
              "      <td>1.672035</td>\n",
              "      <td>1.672035</td>\n",
              "      <td>2</td>\n",
              "      <td>2</td>\n",
              "      <td>2</td>\n",
              "      <td>0</td>\n",
              "      <td>0</td>\n",
              "      <td>2</td>\n",
              "      <td>0</td>\n",
              "      <td>0</td>\n",
              "      <td>0</td>\n",
              "    </tr>\n",
              "  </tbody>\n",
              "</table>\n",
              "<p>1000 rows × 23 columns</p>\n",
              "</div>"
            ],
            "text/plain": [
              "     LIMIT_BAL       AGE  BILL_AMT1  BILL_AMT2  BILL_AMT3  BILL_AMT4  \\\n",
              "0    -0.721277 -0.095570  -0.723009  -0.722922  -0.722922  -0.722730   \n",
              "1     1.419861  1.201095   1.419969   1.419965   1.419965   1.419956   \n",
              "2    -0.721277 -1.693692  -0.723009  -0.722922  -0.722922  -0.722730   \n",
              "3    -0.721277 -1.586946  -0.723009  -0.722922  -0.722922  -0.722730   \n",
              "4    -0.721277 -2.983657  -0.723009  -0.722922  -0.722922  -0.722730   \n",
              "..         ...       ...        ...        ...        ...        ...   \n",
              "995   0.159088  0.482265   0.158113   0.158163   0.158163   0.158272   \n",
              "996  -0.721277 -0.112249  -0.723009  -0.722922  -0.722922  -0.722730   \n",
              "997   1.780675  1.406814   1.781093   1.781074   1.781074   1.781031   \n",
              "998   0.725188  0.805027   0.724699   0.724725   0.724725   0.724781   \n",
              "999   1.671632  1.344643   1.671956   1.671942   1.671942   1.671909   \n",
              "\n",
              "     BILL_AMT5  BILL_AMT6  PAY_AMT1  PAY_AMT2  PAY_AMT3  PAY_AMT4  PAY_AMT5  \\\n",
              "0    -0.722730  -0.722730 -0.723503 -0.723503 -0.723503 -0.723503 -0.723503   \n",
              "1     1.419956   1.419956  1.419987  1.419987  1.419987  1.419987  1.419987   \n",
              "2    -0.722730  -0.722730 -0.723503 -0.723503 -0.723503 -0.723503 -0.723503   \n",
              "3    -0.722730  -0.722730 -0.723503 -0.723503 -0.723503 -0.723503 -0.723503   \n",
              "4    -0.722730  -0.722730 -0.723503 -0.723503 -0.723503 -0.723503 -0.723503   \n",
              "..         ...        ...       ...       ...       ...       ...       ...   \n",
              "995   0.158272   0.158272  0.157830  0.157830  0.157830  0.157830  0.157830   \n",
              "996  -0.722730  -0.722730 -0.723503 -0.723503 -0.723503 -0.723503 -0.723503   \n",
              "997   1.781031   1.781031  1.781198  1.781198  1.781198  1.781198  1.781198   \n",
              "998   0.724781   0.724781  0.724552  0.724552  0.724552  0.724552  0.724552   \n",
              "999   1.671909   1.671909  1.672035  1.672035  1.672035  1.672035  1.672035   \n",
              "\n",
              "     PAY_AMT6  SEX  EDUCATION  MARRIAGE  PAY_0  PAY_2  PAY_3  PAY_4  PAY_5  \\\n",
              "0   -0.723503    1          2         2      0      0      0      0      0   \n",
              "1    1.419987    1          1         2      0      0      0      0      0   \n",
              "2   -0.723503    1          1         1     -1     -1     -1     -1     -1   \n",
              "3   -0.723503    2          3         2      0      0      0      0      0   \n",
              "4   -0.723503    2          1         2      0      0      0      0      0   \n",
              "..        ...  ...        ...       ...    ...    ...    ...    ...    ...   \n",
              "995  0.157830    1          2         1      0      0      0      0      0   \n",
              "996 -0.723503    2          2         1      0      0      0      0      0   \n",
              "997  1.781198    1          2         1      2      2      2      2      2   \n",
              "998  0.724552    2          1         1      0      0      0      0     -1   \n",
              "999  1.672035    2          2         2      0      0      2      0      0   \n",
              "\n",
              "     PAY_6  \n",
              "0        0  \n",
              "1        0  \n",
              "2       -1  \n",
              "3        0  \n",
              "4        0  \n",
              "..     ...  \n",
              "995      0  \n",
              "996      0  \n",
              "997      2  \n",
              "998      0  \n",
              "999      0  \n",
              "\n",
              "[1000 rows x 23 columns]"
            ]
          },
          "metadata": {
            "tags": []
          },
          "execution_count": 221
        }
      ]
    },
    {
      "cell_type": "code",
      "metadata": {
        "id": "whHUVploBSwA",
        "colab_type": "code",
        "colab": {
          "base_uri": "https://localhost:8080/",
          "height": 356
        },
        "outputId": "be0dc5ec-bf94-43ab-b71b-28696c092f2e"
      },
      "source": [
        "# calculate distance using H2OFrame distance function\n",
        "distance = row_dummies.distance(perturbed_sample_dummies, measure='l2').transpose()\n",
        "distance.columns = ['distance']          # rename \n",
        "distance = distance.max() - distance     # lower distances, higher weight in LIME\n",
        "distance.head(3)\n",
        "\n"
      ],
      "execution_count": 220,
      "outputs": [
        {
          "output_type": "error",
          "ename": "AttributeError",
          "evalue": "ignored",
          "traceback": [
            "\u001b[0;31m---------------------------------------------------------------------------\u001b[0m",
            "\u001b[0;31mAttributeError\u001b[0m                            Traceback (most recent call last)",
            "\u001b[0;32m<ipython-input-220-c6b44aafef3b>\u001b[0m in \u001b[0;36m<module>\u001b[0;34m()\u001b[0m\n\u001b[0;32m----> 1\u001b[0;31m \u001b[0mdistance\u001b[0m \u001b[0;34m=\u001b[0m \u001b[0mrow_dummies\u001b[0m\u001b[0;34m.\u001b[0m\u001b[0mdistance\u001b[0m\u001b[0;34m(\u001b[0m\u001b[0mperturbed_sample_dummies\u001b[0m\u001b[0;34m,\u001b[0m \u001b[0mmeasure\u001b[0m\u001b[0;34m=\u001b[0m\u001b[0;34m'l2'\u001b[0m\u001b[0;34m)\u001b[0m\u001b[0;34m.\u001b[0m\u001b[0mtranspose\u001b[0m\u001b[0;34m(\u001b[0m\u001b[0;34m)\u001b[0m\u001b[0;34m\u001b[0m\u001b[0;34m\u001b[0m\u001b[0m\n\u001b[0m\u001b[1;32m      2\u001b[0m \u001b[0mdistance\u001b[0m\u001b[0;34m.\u001b[0m\u001b[0mcolumns\u001b[0m \u001b[0;34m=\u001b[0m \u001b[0;34m[\u001b[0m\u001b[0;34m'distance'\u001b[0m\u001b[0;34m]\u001b[0m          \u001b[0;31m# rename\u001b[0m\u001b[0;34m\u001b[0m\u001b[0;34m\u001b[0m\u001b[0m\n\u001b[1;32m      3\u001b[0m \u001b[0mdistance\u001b[0m \u001b[0;34m=\u001b[0m \u001b[0mdistance\u001b[0m\u001b[0;34m.\u001b[0m\u001b[0mmax\u001b[0m\u001b[0;34m(\u001b[0m\u001b[0;34m)\u001b[0m \u001b[0;34m-\u001b[0m \u001b[0mdistance\u001b[0m     \u001b[0;31m# lower distances, higher weight in LIME\u001b[0m\u001b[0;34m\u001b[0m\u001b[0;34m\u001b[0m\u001b[0m\n\u001b[1;32m      4\u001b[0m \u001b[0mdistance\u001b[0m\u001b[0;34m.\u001b[0m\u001b[0mhead\u001b[0m\u001b[0;34m(\u001b[0m\u001b[0;36m3\u001b[0m\u001b[0;34m)\u001b[0m\u001b[0;34m\u001b[0m\u001b[0;34m\u001b[0m\u001b[0m\n\u001b[1;32m      5\u001b[0m \u001b[0;34m\u001b[0m\u001b[0m\n",
            "\u001b[0;32m/usr/local/lib/python3.6/dist-packages/pandas/core/generic.py\u001b[0m in \u001b[0;36m__getattr__\u001b[0;34m(self, name)\u001b[0m\n\u001b[1;32m   5177\u001b[0m             \u001b[0;32mif\u001b[0m \u001b[0mself\u001b[0m\u001b[0;34m.\u001b[0m\u001b[0m_info_axis\u001b[0m\u001b[0;34m.\u001b[0m\u001b[0m_can_hold_identifiers_and_holds_name\u001b[0m\u001b[0;34m(\u001b[0m\u001b[0mname\u001b[0m\u001b[0;34m)\u001b[0m\u001b[0;34m:\u001b[0m\u001b[0;34m\u001b[0m\u001b[0;34m\u001b[0m\u001b[0m\n\u001b[1;32m   5178\u001b[0m                 \u001b[0;32mreturn\u001b[0m \u001b[0mself\u001b[0m\u001b[0;34m[\u001b[0m\u001b[0mname\u001b[0m\u001b[0;34m]\u001b[0m\u001b[0;34m\u001b[0m\u001b[0;34m\u001b[0m\u001b[0m\n\u001b[0;32m-> 5179\u001b[0;31m             \u001b[0;32mreturn\u001b[0m \u001b[0mobject\u001b[0m\u001b[0;34m.\u001b[0m\u001b[0m__getattribute__\u001b[0m\u001b[0;34m(\u001b[0m\u001b[0mself\u001b[0m\u001b[0;34m,\u001b[0m \u001b[0mname\u001b[0m\u001b[0;34m)\u001b[0m\u001b[0;34m\u001b[0m\u001b[0;34m\u001b[0m\u001b[0m\n\u001b[0m\u001b[1;32m   5180\u001b[0m \u001b[0;34m\u001b[0m\u001b[0m\n\u001b[1;32m   5181\u001b[0m     \u001b[0;32mdef\u001b[0m \u001b[0m__setattr__\u001b[0m\u001b[0;34m(\u001b[0m\u001b[0mself\u001b[0m\u001b[0;34m,\u001b[0m \u001b[0mname\u001b[0m\u001b[0;34m,\u001b[0m \u001b[0mvalue\u001b[0m\u001b[0;34m)\u001b[0m\u001b[0;34m:\u001b[0m\u001b[0;34m\u001b[0m\u001b[0;34m\u001b[0m\u001b[0m\n",
            "\u001b[0;31mAttributeError\u001b[0m: 'DataFrame' object has no attribute 'distance'"
          ]
        }
      ]
    },
    {
      "cell_type": "code",
      "metadata": {
        "id": "IYKFmpeD6Qp8",
        "colab_type": "code",
        "colab": {
          "base_uri": "https://localhost:8080/",
          "height": 34
        },
        "outputId": "8b99deca-3ee9-4c19-cd07-93dd33cd99d6"
      },
      "source": [
        " categorical_variables"
      ],
      "execution_count": 207,
      "outputs": [
        {
          "output_type": "execute_result",
          "data": {
            "text/html": [
              "['SEX', 'EDUCATION', 'MARRIAGE', 'PAY_0', 'PAY_2', 'PAY_3', 'PAY_4', 'PAY_5', 'PAY_6']"
            ],
            "text/plain": [
              "['SEX',\n",
              " 'EDUCATION',\n",
              " 'MARRIAGE',\n",
              " 'PAY_0',\n",
              " 'PAY_2',\n",
              " 'PAY_3',\n",
              " 'PAY_4',\n",
              " 'PAY_5',\n",
              " 'PAY_6']"
            ]
          },
          "metadata": {
            "tags": []
          },
          "execution_count": 207
        }
      ]
    },
    {
      "cell_type": "code",
      "metadata": {
        "id": "4OlARYo-4wP5",
        "colab_type": "code",
        "colab": {
          "base_uri": "https://localhost:8080/",
          "height": 451
        },
        "outputId": "8a8a158c-a12b-4d91-9e9f-ad8646cd75b0"
      },
      "source": [
        "test.dtypes"
      ],
      "execution_count": 200,
      "outputs": [
        {
          "output_type": "execute_result",
          "data": {
            "text/plain": [
              "LIMIT_BAL             int64\n",
              "SEX                   int64\n",
              "EDUCATION             int64\n",
              "MARRIAGE              int64\n",
              "AGE                   int64\n",
              "PAY_0                 int64\n",
              "PAY_2                 int64\n",
              "PAY_3                 int64\n",
              "PAY_4                 int64\n",
              "PAY_5                 int64\n",
              "PAY_6                 int64\n",
              "BILL_AMT1             int64\n",
              "BILL_AMT2             int64\n",
              "BILL_AMT3             int64\n",
              "BILL_AMT4             int64\n",
              "BILL_AMT5             int64\n",
              "BILL_AMT6             int64\n",
              "PAY_AMT1              int64\n",
              "PAY_AMT2              int64\n",
              "PAY_AMT3              int64\n",
              "PAY_AMT4              int64\n",
              "PAY_AMT5              int64\n",
              "PAY_AMT6              int64\n",
              "DEFAULT_NEXT_MONTH    int64\n",
              "dtype: object"
            ]
          },
          "metadata": {
            "tags": []
          },
          "execution_count": 200
        }
      ]
    },
    {
      "cell_type": "code",
      "metadata": {
        "id": "2PBoUt675GvH",
        "colab_type": "code",
        "colab": {}
      },
      "source": [
        ""
      ],
      "execution_count": 0,
      "outputs": []
    }
  ]
}